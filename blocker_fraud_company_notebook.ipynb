{
 "cells": [
  {
   "cell_type": "markdown",
   "metadata": {},
   "source": [
    "**Challenge description**\n",
    "\n",
    "\n",
    "The purpose of this project is creating a model of high precision and accuracy in detecting fraud of transactions made through mobile devices.\n",
    "\n",
    "At the end of the project the CEO of Blocker Fraud Company will have a model in production capable of send transactions by API and it will classifies them as fraudulent or legitimate.\n",
    "\n",
    "In addition, there is going to be a  report reporting  model's performance and results in relation to the profit and loss that the company will have when using the model you produced. The main subjects will contain the answers to the following questions:\n",
    "\n",
    "    1- What is the Precision and Accuracy of the model?\n",
    "    2- How Reliable is the model in classifying transactions as legitimate or fraudulent?\n",
    "    3- What is the Expected Billing by the Company if we classify 100% of the transactions with the model?\n",
    "    4- What is the Loss Expected by the Company in case of model failure?\n",
    "    5- What is the Profit Expected by the Blocker Fraud Company when using the model?"
   ]
  },
  {
   "cell_type": "markdown",
   "metadata": {},
   "source": [
    "# INTRODUCTION"
   ]
  },
  {
   "cell_type": "markdown",
   "metadata": {},
   "source": [
    "## Data Dictionary"
   ]
  },
  {
   "cell_type": "markdown",
   "metadata": {
    "ExecuteTime": {
     "end_time": "2020-11-10T14:31:25.597341Z",
     "start_time": "2020-11-10T14:31:25.587433Z"
    }
   },
   "source": [
    "Source data set: https://www.kaggle.com/ntnu-testimon/paysim1\n",
    "\n",
    "| Feature        | Description                                                                                                                                                                                                                                                                                           |\n",
    "|:----------------|:-------------------------------------------------------------------------------------------------------------------------------------------------------------------------------------------------------------------------------------------------------------------------------------------------------|\n",
    "| step           | maps a unit of time in the real world\\. In this case 1 step is 1 hour of time\\. Total steps 744 \\(30 days simulation\\)\\.                                                                                                                                                                              |\n",
    "| type           | Transaction type \\(CASH\\-IN, CASH\\-OUT, DEBIT, PAYMENT and TRANSFER\\)                                                                                                                                                                                                                                 |\n",
    "| amount         | amount of the transaction in local currency                                                                                                                                                                                                                                                           |\n",
    "| nameOrig       | customer who started the transaction                                                                                                                                                                                                                                                                  |\n",
    "| oldbalanceOrg  | initial balance before the transaction                                                                                                                                                                                                                                                                |\n",
    "| newbalanceOrig | new balance after the transaction                                                                                                                                                                                                                                                                     |\n",
    "| nameDest       | customer who is the recipient of the transaction                                                                                                                                                                                                                                                      |\n",
    "| oldbalanceDest | initial balance recipient before the transaction\\. Note that there is not information for customers that start with M \\(Merchants\\)                                                                                                                                                                   |\n",
    "| newbalanceDest | new balance recipient after the transaction\\. Note that there is not information for customers that start with M \\(Merchants\\)                                                                                                                                                                        |\n",
    "| isFraud        | This is the transactions made by the fraudulent agents inside the simulation\\. In this specific dataset the fraudulent behavior of the agents aims to profit by taking control or customers accounts and try to empty the funds by transferring to another account and then cashing out of the system |\n",
    "| isFlaggedFraud | The business model aims to control massive transfers from one account to another and flags illegal attempts\\. An illegal attempt in this dataset is an attempt to transfer more than 200K in a single transaction                                                                                 |\n"
   ]
  },
  {
   "cell_type": "markdown",
   "metadata": {
    "heading_collapsed": true
   },
   "source": [
    "## IMPORTS"
   ]
  },
  {
   "cell_type": "code",
   "execution_count": 47,
   "metadata": {
    "ExecuteTime": {
     "end_time": "2020-11-11T16:49:09.424761Z",
     "start_time": "2020-11-11T16:49:09.417336Z"
    },
    "hidden": true
   },
   "outputs": [],
   "source": [
    "# general libraries \n",
    "import math\n",
    "import numpy  as np\n",
    "import pandas as pd\n",
    "import random as rd\n",
    "\n",
    "\n",
    "\n",
    "#altering texts\n",
    "import inflection\n",
    "\n",
    "#creating and configuring graphics\n",
    "import seaborn as sns\n",
    "from matplotlib            import pyplot as plt\n",
    "from IPython.display       import Image\n",
    "from IPython.core.display  import HTML\n",
    "\n",
    "\n",
    "#data selection and algorithm  \n",
    "import xgboost as xgb\n",
    "from scipy                 import stats  as ss\n",
    "from boruta                import BorutaPy\n",
    "from sklearn.metrics       import mean_absolute_error, mean_squared_error\n",
    "from sklearn.ensemble      import RandomForestRegressor\n",
    "from sklearn.linear_model  import LinearRegression, Lasso\n",
    "from sklearn.preprocessing import RobustScaler, MinMaxScaler, LabelEncoder\n",
    "\n",
    "\n",
    "#others\n",
    "import warnings\n",
    "warnings.filterwarnings( 'ignore' )\n",
    "\n",
    "#API \n",
    "from flask import Flask, request, Response"
   ]
  },
  {
   "cell_type": "markdown",
   "metadata": {},
   "source": [
    "##  Helper Functions"
   ]
  },
  {
   "cell_type": "code",
   "execution_count": 48,
   "metadata": {
    "ExecuteTime": {
     "end_time": "2020-11-11T16:49:09.670926Z",
     "start_time": "2020-11-11T16:49:09.427731Z"
    }
   },
   "outputs": [],
   "source": [
    "def jupyter_settings():\n",
    "    %matplotlib inline\n",
    "    %pylab inline\n",
    "    \n",
    "    plt.style.use( 'bmh' )\n",
    "    plt.rcParams['figure.figsize'] = [25, 12]\n",
    "    plt.rcParams['font.size'] = 24\n",
    "    \n",
    "    display( HTML( '<style>.container { width:100% !important; }</style>') )\n",
    "    pd.options.display.max_columns = None\n",
    "    pd.options.display.max_rows = None\n",
    "    pd.set_option( 'display.expand_frame_repr', False )\n",
    "    \n",
    "    sns.set()\n",
    "    \n",
    "    \n",
    "    \n",
    "def cramer_v(x,y):\n",
    "    cm = pd.crosstab(x, y).values\n",
    "    chi2 = ss.chi2_contingency(cm)[0]\n",
    "    n = cm.sum()\n",
    "    r,k = cm.shape\n",
    "    chi2corr = max(0,chi2 - (((k-1)*(r-1))/(n-1)))\n",
    "    kcorr = k - (k-1)**2/(n-1)\n",
    "    rcorr = r - (r-1)**2/(n-1)\n",
    "    v = np.sqrt( (chi2corr/n) / (min (kcorr-1,rcorr-1) ) )\n",
    "    return v\n",
    "\n",
    "\n",
    "    \n",
    "def reduce_mem_usage(df):\n",
    "    \"\"\" \n",
    "    iterate through all the columns of a dataframe and \n",
    "    modify the data type to reduce memory usage.        \n",
    "    \"\"\"\n",
    "    start_mem = df.memory_usage().sum() / 1024**2\n",
    "    print(('Memory usage of dataframe is {:.2f}' \n",
    "                     'MB').format(start_mem))\n",
    "    \n",
    "    for col in df.columns:\n",
    "        col_type = df[col].dtype\n",
    "        \n",
    "        if col_type != object:\n",
    "            c_min = df[col].min()\n",
    "            c_max = df[col].max()\n",
    "            if str(col_type)[:3] == 'int':\n",
    "                if c_min > np.iinfo(np.int8).min and c_max <\\\n",
    "                  np.iinfo(np.int8).max:\n",
    "                    df[col] = df[col].astype(np.int8)\n",
    "                elif c_min > np.iinfo(np.int16).min and c_max <\\\n",
    "                   np.iinfo(np.int16).max:\n",
    "                    df[col] = df[col].astype(np.int16)\n",
    "                elif c_min > np.iinfo(np.int32).min and c_max <\\\n",
    "                   np.iinfo(np.int32).max:\n",
    "                    df[col] = df[col].astype(np.int32)\n",
    "                elif c_min > np.iinfo(np.int64).min and c_max <\\\n",
    "                   np.iinfo(np.int64).max:\n",
    "                    df[col] = df[col].astype(np.int64)  \n",
    "            else:\n",
    "                if c_min > np.finfo(np.float16).min and c_max <\\\n",
    "                   np.finfo(np.float16).max:\n",
    "                    df[col] = df[col].astype(np.float16)\n",
    "                elif c_min > np.finfo(np.float32).min and c_max <\\\n",
    "                   np.finfo(np.float32).max:\n",
    "                    df[col] = df[col].astype(np.float32)\n",
    "                else:\n",
    "                    df[col] = df[col].astype(np.float64)\n",
    "        else:\n",
    "            df[col] = df[col].astype('category')    \n",
    "            end_mem = df.memory_usage().sum() / 1024**2\n",
    "    print(('Memory usage after optimization is: {:.2f}' \n",
    "                              'MB').format(end_mem))\n",
    "    print('Decreased by {:.1f}%'.format(100 * (start_mem - end_mem) \n",
    "                                             / start_mem))\n",
    "    \n",
    "    return df  \n",
    "\n",
    "\n",
    "def ml_error(model_name,y,yhat):\n",
    "    \n",
    "    mae = mean_absolute_error(y,yhat)\n",
    "    mape = mean_absolute_percentage_error(y,yhat)\n",
    "    rmse = np.sqrt(mean_squared_error(y,yhat))\n",
    "    return pd.DataFrame({'Model Name': model_name,\n",
    "                         'MAE': mae,\n",
    "                         'MAPE': mape,\n",
    "                          'RMSE':rmse},index=[0])\n",
    "\n",
    "def mean_absolute_percentage_error(y, yhat):\n",
    "   return np.mean( np.abs((y-yhat)/y))\n",
    "\n",
    "def mean_percentage_error( y, yhat ):\n",
    "    return np.mean( ( y - yhat ) / y )\n",
    "\n",
    "\n",
    "def cross_validation( x_training, kfold, model_name, model, verbose=False ):\n",
    "    mae_list = []\n",
    "    mape_list = []\n",
    "    rmse_list = []\n",
    "    for k in reversed( range( 1, kfold+1 ) ):\n",
    "        if verbose:\n",
    "            print( '\\nKFold Number: {}'.format( k ) )\n",
    "        # start and end date for validation \n",
    "        validation_start_date = x_training['date'].max() - datetime.timedelta( days=k*6*7)\n",
    "        validation_end_date = x_training['date'].max() - datetime.timedelta( days=(k-1)*6*7)\n",
    "\n",
    "        # filtering dataset\n",
    "        training = x_training[x_training['date'] < validation_start_date]\n",
    "        validation = x_training[(x_training['date'] >= validation_start_date) & (x_training['date'] <= validation_end_date)]\n",
    "\n",
    "        # training and validation dataset\n",
    "        # training\n",
    "        xtraining = training.drop( ['date', 'sales'], axis=1 ) \n",
    "        ytraining = training['sales']\n",
    "\n",
    "        # validation\n",
    "        xvalidation = validation.drop( ['date', 'sales'], axis=1 )\n",
    "        yvalidation = validation['sales']\n",
    "\n",
    "        # model\n",
    "        m = model.fit( xtraining, ytraining )\n",
    "\n",
    "        # prediction\n",
    "        yhat = m.predict( xvalidation )\n",
    "\n",
    "        # performance\n",
    "        m_result = ml_error( model_name, np.expm1( yvalidation ), np.expm1( yhat ) )\n",
    "\n",
    "        # store performance of each kfold iteration\n",
    "        mae_list.append(  m_result['MAE'] )\n",
    "        mape_list.append( m_result['MAPE'] )\n",
    "        rmse_list.append( m_result['RMSE'] )\n",
    "\n",
    "    return pd.DataFrame( {'Model Name': model_name,\n",
    "                          'MAE CV': np.round( np.mean( mae_list ), 2 ).astype( str ) + ' +/- ' + np.round( np.std( mae_list ), 2 ).astype( str ),\n",
    "                          'MAPE CV': np.round( np.mean( mape_list ), 2 ).astype( str ) + ' +/- ' + np.round( np.std( mape_list ), 2 ).astype( str ),\n",
    "                          'RMSE CV': np.round( np.mean( rmse_list ), 2 ).astype( str ) + ' +/- ' + np.round( np.std( rmse_list ), 2 ).astype( str ) }, index=[0] )\n"
   ]
  },
  {
   "cell_type": "markdown",
   "metadata": {
    "heading_collapsed": true
   },
   "source": [
    "## Loading Data"
   ]
  },
  {
   "cell_type": "code",
   "execution_count": 49,
   "metadata": {
    "ExecuteTime": {
     "end_time": "2020-11-11T16:49:23.017444Z",
     "start_time": "2020-11-11T16:49:09.674325Z"
    },
    "hidden": true
   },
   "outputs": [],
   "source": [
    "df_raw = pd.read_csv('data/train.csv')"
   ]
  },
  {
   "cell_type": "markdown",
   "metadata": {},
   "source": [
    "#  Data Description"
   ]
  },
  {
   "cell_type": "code",
   "execution_count": 50,
   "metadata": {
    "ExecuteTime": {
     "end_time": "2020-11-11T16:49:23.660428Z",
     "start_time": "2020-11-11T16:49:23.020213Z"
    }
   },
   "outputs": [],
   "source": [
    "df1 = df_raw.copy()"
   ]
  },
  {
   "cell_type": "markdown",
   "metadata": {
    "heading_collapsed": true
   },
   "source": [
    "##  Rename Columns"
   ]
  },
  {
   "cell_type": "code",
   "execution_count": 51,
   "metadata": {
    "ExecuteTime": {
     "end_time": "2020-11-11T16:49:23.668088Z",
     "start_time": "2020-11-11T16:49:23.663600Z"
    },
    "hidden": true
   },
   "outputs": [],
   "source": [
    "cols_old = ['step', 'type', 'amount', 'nameOrig', 'oldbalanceOrg', 'newbalanceOrig',\n",
    "       'nameDest', 'oldbalanceDest', 'newbalanceDest', 'isFraud',\n",
    "       'isFlaggedFraud']"
   ]
  },
  {
   "cell_type": "code",
   "execution_count": 52,
   "metadata": {
    "ExecuteTime": {
     "end_time": "2020-11-11T16:49:23.751208Z",
     "start_time": "2020-11-11T16:49:23.671694Z"
    },
    "hidden": true
   },
   "outputs": [],
   "source": [
    "snakecase = lambda x: inflection.underscore(x)"
   ]
  },
  {
   "cell_type": "code",
   "execution_count": 53,
   "metadata": {
    "ExecuteTime": {
     "end_time": "2020-11-11T16:49:23.812638Z",
     "start_time": "2020-11-11T16:49:23.757435Z"
    },
    "hidden": true
   },
   "outputs": [],
   "source": [
    "cols_new = list(map(snakecase,cols_old))"
   ]
  },
  {
   "cell_type": "code",
   "execution_count": 54,
   "metadata": {
    "ExecuteTime": {
     "end_time": "2020-11-11T16:49:23.879129Z",
     "start_time": "2020-11-11T16:49:23.816649Z"
    },
    "hidden": true
   },
   "outputs": [],
   "source": [
    "df1.columns = cols_new"
   ]
  },
  {
   "cell_type": "markdown",
   "metadata": {
    "heading_collapsed": true
   },
   "source": [
    "##  Data Dimension and sample choice"
   ]
  },
  {
   "cell_type": "code",
   "execution_count": 55,
   "metadata": {
    "ExecuteTime": {
     "end_time": "2020-11-11T16:49:23.947021Z",
     "start_time": "2020-11-11T16:49:23.882029Z"
    },
    "hidden": true
   },
   "outputs": [
    {
     "name": "stdout",
     "output_type": "stream",
     "text": [
      "Number of rows 6362620\n",
      "Number of columns 11\n"
     ]
    }
   ],
   "source": [
    "print(f'Number of rows {df1.shape[0]}')\n",
    "print(f'Number of columns {df1.shape[1]}')"
   ]
  },
  {
   "cell_type": "markdown",
   "metadata": {
    "hidden": true
   },
   "source": [
    "The data Dimension is **6.362.620,00** rows and 11 columns, due hardware limitations, we will need to get a smaller sample from this data"
   ]
  },
  {
   "cell_type": "code",
   "execution_count": 56,
   "metadata": {
    "ExecuteTime": {
     "end_time": "2020-11-11T16:49:24.056172Z",
     "start_time": "2020-11-11T16:49:23.949966Z"
    },
    "hidden": true
   },
   "outputs": [
    {
     "name": "stdout",
     "output_type": "stream",
     "text": [
      "The fraud percentual is 0.12908204481801522%\n"
     ]
    }
   ],
   "source": [
    "perc = df1['is_fraud'][(df1['is_fraud']==1)].sum() /  df1['is_fraud'].count()\n",
    "print('The fraud percentual is {}%'.format(perc*100))\n"
   ]
  },
  {
   "cell_type": "code",
   "execution_count": 57,
   "metadata": {
    "ExecuteTime": {
     "end_time": "2020-11-11T16:49:26.891466Z",
     "start_time": "2020-11-11T16:49:24.059240Z"
    },
    "hidden": true
   },
   "outputs": [],
   "source": [
    "sample_df = df1.groupby('is_fraud').apply(lambda x: x.sample(frac=0.12908204481801522))\n",
    "df1 = sample_df"
   ]
  },
  {
   "cell_type": "code",
   "execution_count": 58,
   "metadata": {
    "ExecuteTime": {
     "end_time": "2020-11-11T16:49:26.904564Z",
     "start_time": "2020-11-11T16:49:26.894103Z"
    },
    "hidden": true
   },
   "outputs": [
    {
     "name": "stdout",
     "output_type": "stream",
     "text": [
      "The new number of rows is 821300\n",
      "The new number of columns 11\n",
      "The fraud percentual is 0.12906367953244854%\n"
     ]
    }
   ],
   "source": [
    "perc = df1['is_fraud'][(df1['is_fraud']==1)].sum() /  df1['is_fraud'].count()\n",
    "print(f'The new number of rows is {df1.shape[0]}')\n",
    "print(f'The new number of columns {df1.shape[1]}')\n",
    "print('The fraud percentual is {}%'.format(perc*100))\n"
   ]
  },
  {
   "cell_type": "markdown",
   "metadata": {
    "heading_collapsed": true
   },
   "source": [
    "## Data Type"
   ]
  },
  {
   "cell_type": "code",
   "execution_count": 59,
   "metadata": {
    "ExecuteTime": {
     "end_time": "2020-11-11T16:49:27.069057Z",
     "start_time": "2020-11-11T16:49:26.907001Z"
    },
    "hidden": true
   },
   "outputs": [],
   "source": [
    "df2 = df1.copy()"
   ]
  },
  {
   "cell_type": "code",
   "execution_count": 60,
   "metadata": {
    "ExecuteTime": {
     "end_time": "2020-11-11T16:49:27.077894Z",
     "start_time": "2020-11-11T16:49:27.071508Z"
    },
    "hidden": true
   },
   "outputs": [
    {
     "data": {
      "text/plain": [
       "step                  int64\n",
       "type                 object\n",
       "amount              float64\n",
       "name_orig            object\n",
       "oldbalance_org      float64\n",
       "newbalance_orig     float64\n",
       "name_dest            object\n",
       "oldbalance_dest     float64\n",
       "newbalance_dest     float64\n",
       "is_fraud              int64\n",
       "is_flagged_fraud      int64\n",
       "dtype: object"
      ]
     },
     "execution_count": 60,
     "metadata": {},
     "output_type": "execute_result"
    }
   ],
   "source": [
    "df1.dtypes"
   ]
  },
  {
   "cell_type": "markdown",
   "metadata": {
    "heading_collapsed": true
   },
   "source": [
    "##  Check NA"
   ]
  },
  {
   "cell_type": "code",
   "execution_count": 61,
   "metadata": {
    "ExecuteTime": {
     "end_time": "2020-11-11T16:49:27.147129Z",
     "start_time": "2020-11-11T16:49:27.080498Z"
    },
    "hidden": true
   },
   "outputs": [],
   "source": [
    "#there isn't NA values"
   ]
  },
  {
   "cell_type": "code",
   "execution_count": 62,
   "metadata": {
    "ExecuteTime": {
     "end_time": "2020-11-11T16:49:27.606047Z",
     "start_time": "2020-11-11T16:49:27.150406Z"
    },
    "hidden": true
   },
   "outputs": [
    {
     "data": {
      "text/plain": [
       "step                0\n",
       "type                0\n",
       "amount              0\n",
       "name_orig           0\n",
       "oldbalance_org      0\n",
       "newbalance_orig     0\n",
       "name_dest           0\n",
       "oldbalance_dest     0\n",
       "newbalance_dest     0\n",
       "is_fraud            0\n",
       "is_flagged_fraud    0\n",
       "dtype: int64"
      ]
     },
     "execution_count": 62,
     "metadata": {},
     "output_type": "execute_result"
    }
   ],
   "source": [
    "df2.isna().sum()"
   ]
  },
  {
   "cell_type": "markdown",
   "metadata": {
    "heading_collapsed": true
   },
   "source": [
    "##  Descriptive Statistics\n"
   ]
  },
  {
   "cell_type": "code",
   "execution_count": 63,
   "metadata": {
    "ExecuteTime": {
     "end_time": "2020-11-11T16:49:27.911592Z",
     "start_time": "2020-11-11T16:49:27.609161Z"
    },
    "hidden": true
   },
   "outputs": [],
   "source": [
    "num_attributes = df1.select_dtypes(include=['int64','float64'])\n",
    "cat_attributes = df1['type']"
   ]
  },
  {
   "cell_type": "markdown",
   "metadata": {
    "hidden": true
   },
   "source": [
    "###  Attributes"
   ]
  },
  {
   "cell_type": "code",
   "execution_count": 64,
   "metadata": {
    "ExecuteTime": {
     "end_time": "2020-11-11T16:49:29.853984Z",
     "start_time": "2020-11-11T16:49:27.914868Z"
    },
    "hidden": true
   },
   "outputs": [],
   "source": [
    "# Central Tendency - mean, meadina \n",
    "ct1 = pd.DataFrame( num_attributes.apply( np.mean ) ).T\n",
    "ct2 = pd.DataFrame( num_attributes.apply( np.median ) ).T\n",
    "\n",
    "# dispersion - std, min, max, range, skew, kurtosis\n",
    "d1 = pd.DataFrame( num_attributes.apply( np.std ) ).T \n",
    "d2 = pd.DataFrame( num_attributes.apply( min ) ).T \n",
    "d3 = pd.DataFrame( num_attributes.apply( max ) ).T \n",
    "d4 = pd.DataFrame( num_attributes.apply( lambda x: x.max() - x.min() ) ).T \n",
    "d5 = pd.DataFrame( num_attributes.apply( lambda x: x.skew() ) ).T \n",
    "d6 = pd.DataFrame( num_attributes.apply( lambda x: x.kurtosis() ) ).T \n",
    "\n",
    "# concatenar\n",
    "metrics = pd.concat( [d2, d3, d4, ct1, ct2, d1, d5, d6] ).T.reset_index()\n",
    "metrics.columns = ['attributes', 'min', 'max', 'range', 'mean', 'median', 'std', 'skew', 'kurtosis']"
   ]
  },
  {
   "cell_type": "code",
   "execution_count": 65,
   "metadata": {
    "ExecuteTime": {
     "end_time": "2020-11-11T16:49:29.880030Z",
     "start_time": "2020-11-11T16:49:29.860445Z"
    },
    "hidden": true
   },
   "outputs": [
    {
     "data": {
      "text/html": [
       "<div>\n",
       "<style scoped>\n",
       "    .dataframe tbody tr th:only-of-type {\n",
       "        vertical-align: middle;\n",
       "    }\n",
       "\n",
       "    .dataframe tbody tr th {\n",
       "        vertical-align: top;\n",
       "    }\n",
       "\n",
       "    .dataframe thead th {\n",
       "        text-align: right;\n",
       "    }\n",
       "</style>\n",
       "<table border=\"1\" class=\"dataframe\">\n",
       "  <thead>\n",
       "    <tr style=\"text-align: right;\">\n",
       "      <th></th>\n",
       "      <th>attributes</th>\n",
       "      <th>min</th>\n",
       "      <th>max</th>\n",
       "      <th>range</th>\n",
       "      <th>mean</th>\n",
       "      <th>median</th>\n",
       "      <th>std</th>\n",
       "      <th>skew</th>\n",
       "      <th>kurtosis</th>\n",
       "    </tr>\n",
       "  </thead>\n",
       "  <tbody>\n",
       "    <tr>\n",
       "      <th>0</th>\n",
       "      <td>step</td>\n",
       "      <td>1.0</td>\n",
       "      <td>7.430000e+02</td>\n",
       "      <td>7.420000e+02</td>\n",
       "      <td>2.436129e+02</td>\n",
       "      <td>239.000</td>\n",
       "      <td>1.422934e+02</td>\n",
       "      <td>0.374276</td>\n",
       "      <td>0.332073</td>\n",
       "    </tr>\n",
       "    <tr>\n",
       "      <th>1</th>\n",
       "      <td>amount</td>\n",
       "      <td>0.0</td>\n",
       "      <td>9.244552e+07</td>\n",
       "      <td>9.244552e+07</td>\n",
       "      <td>1.795073e+05</td>\n",
       "      <td>74685.875</td>\n",
       "      <td>6.028165e+05</td>\n",
       "      <td>33.746998</td>\n",
       "      <td>2361.407837</td>\n",
       "    </tr>\n",
       "    <tr>\n",
       "      <th>2</th>\n",
       "      <td>oldbalance_org</td>\n",
       "      <td>0.0</td>\n",
       "      <td>5.958504e+07</td>\n",
       "      <td>5.958504e+07</td>\n",
       "      <td>8.336567e+05</td>\n",
       "      <td>14352.000</td>\n",
       "      <td>2.893158e+06</td>\n",
       "      <td>5.257437</td>\n",
       "      <td>33.082224</td>\n",
       "    </tr>\n",
       "    <tr>\n",
       "      <th>3</th>\n",
       "      <td>newbalance_orig</td>\n",
       "      <td>0.0</td>\n",
       "      <td>4.958504e+07</td>\n",
       "      <td>4.958504e+07</td>\n",
       "      <td>8.547301e+05</td>\n",
       "      <td>0.000</td>\n",
       "      <td>2.928489e+06</td>\n",
       "      <td>5.183543</td>\n",
       "      <td>32.128035</td>\n",
       "    </tr>\n",
       "    <tr>\n",
       "      <th>4</th>\n",
       "      <td>oldbalance_dest</td>\n",
       "      <td>0.0</td>\n",
       "      <td>2.498603e+08</td>\n",
       "      <td>2.498603e+08</td>\n",
       "      <td>1.093303e+06</td>\n",
       "      <td>130769.255</td>\n",
       "      <td>3.258095e+06</td>\n",
       "      <td>16.219950</td>\n",
       "      <td>594.088751</td>\n",
       "    </tr>\n",
       "    <tr>\n",
       "      <th>5</th>\n",
       "      <td>newbalance_dest</td>\n",
       "      <td>0.0</td>\n",
       "      <td>2.519574e+08</td>\n",
       "      <td>2.519574e+08</td>\n",
       "      <td>1.217002e+06</td>\n",
       "      <td>212629.045</td>\n",
       "      <td>3.527465e+06</td>\n",
       "      <td>16.009434</td>\n",
       "      <td>553.358375</td>\n",
       "    </tr>\n",
       "    <tr>\n",
       "      <th>6</th>\n",
       "      <td>is_fraud</td>\n",
       "      <td>0.0</td>\n",
       "      <td>1.000000e+00</td>\n",
       "      <td>1.000000e+00</td>\n",
       "      <td>1.290637e-03</td>\n",
       "      <td>0.000</td>\n",
       "      <td>3.590224e-02</td>\n",
       "      <td>27.781566</td>\n",
       "      <td>769.817307</td>\n",
       "    </tr>\n",
       "    <tr>\n",
       "      <th>7</th>\n",
       "      <td>is_flagged_fraud</td>\n",
       "      <td>0.0</td>\n",
       "      <td>1.000000e+00</td>\n",
       "      <td>1.000000e+00</td>\n",
       "      <td>3.652746e-06</td>\n",
       "      <td>0.000</td>\n",
       "      <td>1.911212e-03</td>\n",
       "      <td>523.225254</td>\n",
       "      <td>273763.333321</td>\n",
       "    </tr>\n",
       "  </tbody>\n",
       "</table>\n",
       "</div>"
      ],
      "text/plain": [
       "         attributes  min           max         range          mean  \\\n",
       "0              step  1.0  7.430000e+02  7.420000e+02  2.436129e+02   \n",
       "1            amount  0.0  9.244552e+07  9.244552e+07  1.795073e+05   \n",
       "2    oldbalance_org  0.0  5.958504e+07  5.958504e+07  8.336567e+05   \n",
       "3   newbalance_orig  0.0  4.958504e+07  4.958504e+07  8.547301e+05   \n",
       "4   oldbalance_dest  0.0  2.498603e+08  2.498603e+08  1.093303e+06   \n",
       "5   newbalance_dest  0.0  2.519574e+08  2.519574e+08  1.217002e+06   \n",
       "6          is_fraud  0.0  1.000000e+00  1.000000e+00  1.290637e-03   \n",
       "7  is_flagged_fraud  0.0  1.000000e+00  1.000000e+00  3.652746e-06   \n",
       "\n",
       "       median           std        skew       kurtosis  \n",
       "0     239.000  1.422934e+02    0.374276       0.332073  \n",
       "1   74685.875  6.028165e+05   33.746998    2361.407837  \n",
       "2   14352.000  2.893158e+06    5.257437      33.082224  \n",
       "3       0.000  2.928489e+06    5.183543      32.128035  \n",
       "4  130769.255  3.258095e+06   16.219950     594.088751  \n",
       "5  212629.045  3.527465e+06   16.009434     553.358375  \n",
       "6       0.000  3.590224e-02   27.781566     769.817307  \n",
       "7       0.000  1.911212e-03  523.225254  273763.333321  "
      ]
     },
     "execution_count": 65,
     "metadata": {},
     "output_type": "execute_result"
    }
   ],
   "source": [
    "metrics"
   ]
  },
  {
   "cell_type": "markdown",
   "metadata": {
    "hidden": true
   },
   "source": [
    "### Categorical attributes and variable filter "
   ]
  },
  {
   "cell_type": "code",
   "execution_count": 66,
   "metadata": {
    "ExecuteTime": {
     "end_time": "2020-11-11T16:49:29.992794Z",
     "start_time": "2020-11-11T16:49:29.883866Z"
    },
    "hidden": true
   },
   "outputs": [
    {
     "data": {
      "text/plain": [
       "is_fraud         \n",
       "0         1065968     PAYMENT\n",
       "          2238433     CASH_IN\n",
       "          3807078    CASH_OUT\n",
       "          754522     TRANSFER\n",
       "          1915407       DEBIT\n",
       "Name: type, dtype: object"
      ]
     },
     "execution_count": 66,
     "metadata": {},
     "output_type": "execute_result"
    }
   ],
   "source": [
    "cat_attributes = cat_attributes.drop_duplicates()\n",
    "cat_attributes.head()"
   ]
  },
  {
   "cell_type": "code",
   "execution_count": 67,
   "metadata": {
    "ExecuteTime": {
     "end_time": "2020-11-11T16:49:30.408981Z",
     "start_time": "2020-11-11T16:49:29.995375Z"
    },
    "hidden": true
   },
   "outputs": [],
   "source": [
    "a1 = df2['type'][(df2['type']=='PAYMENT') & (df2['is_fraud']==1)].count()\n",
    "a2 = df2['type'][(df2['type']=='TRANSFER') & (df2['is_fraud']==1)].count()\n",
    "a3 = df2['type'][(df2['type']=='CASH_OUT') & (df2['is_fraud']==1)].count()\n",
    "a4 = df2['type'][(df2['type']=='DEBIT') & (df2['is_fraud']==1)].count()\n",
    "a5 = df2['type'][(df2['type']=='CASH_IN') & (df2['is_fraud']==1)].count()\n",
    "a6 = df2['type'][(df2['is_fraud']==1)].count()"
   ]
  },
  {
   "cell_type": "code",
   "execution_count": 68,
   "metadata": {
    "ExecuteTime": {
     "end_time": "2020-11-11T16:49:30.416760Z",
     "start_time": "2020-11-11T16:49:30.411681Z"
    },
    "hidden": true
   },
   "outputs": [
    {
     "name": "stdout",
     "output_type": "stream",
     "text": [
      "Payment 0. Transfer 538. Cash_out 522 . Debit 0 . Cash_in 0. Total 1060\n"
     ]
    }
   ],
   "source": [
    "print('Payment {}. Transfer {}. Cash_out {} . Debit {} . Cash_in {}. Total {}'.format(a1,a2,a3,a4,a5,a6) )"
   ]
  },
  {
   "cell_type": "markdown",
   "metadata": {
    "hidden": true
   },
   "source": [
    "### Deleting not useful types"
   ]
  },
  {
   "cell_type": "markdown",
   "metadata": {
    "hidden": true
   },
   "source": [
    "There is not any fraud example in Payments, Cash_in and Debit, based on that, we will drop these types of transactions from the data frame"
   ]
  },
  {
   "cell_type": "code",
   "execution_count": 69,
   "metadata": {
    "ExecuteTime": {
     "end_time": "2020-11-11T16:49:31.048611Z",
     "start_time": "2020-11-11T16:49:30.419475Z"
    },
    "hidden": true
   },
   "outputs": [],
   "source": [
    "df2 = df2[(df2.type != 'PAYMENT') & (df2.type != 'DEBIT') & (df2.type != 'CASH_IN') ]"
   ]
  },
  {
   "cell_type": "markdown",
   "metadata": {},
   "source": [
    "# Feature Engineering"
   ]
  },
  {
   "cell_type": "code",
   "execution_count": 83,
   "metadata": {
    "ExecuteTime": {
     "end_time": "2020-11-11T16:56:03.349300Z",
     "start_time": "2020-11-11T16:55:21.490997Z"
    }
   },
   "outputs": [],
   "source": [
    "#turning the sample into a csv file, so we can always use the same sample\n",
    "#df2.to_csv(r'/home/leonardo/blocker_fraud_company/data/df_sample.csv')"
   ]
  },
  {
   "cell_type": "code",
   "execution_count": 84,
   "metadata": {
    "ExecuteTime": {
     "end_time": "2020-11-11T16:56:30.916636Z",
     "start_time": "2020-11-11T16:56:30.054212Z"
    }
   },
   "outputs": [],
   "source": [
    "df3 = pd.read_csv('/home/leonardo/blocker_fraud_company/data/df_sample.csv')"
   ]
  },
  {
   "cell_type": "markdown",
   "metadata": {
    "heading_collapsed": true
   },
   "source": [
    "##  Mind map Hypotheses "
   ]
  },
  {
   "cell_type": "code",
   "execution_count": 97,
   "metadata": {
    "ExecuteTime": {
     "end_time": "2020-11-11T17:19:28.654762Z",
     "start_time": "2020-11-11T17:19:28.646135Z"
    },
    "hidden": true
   },
   "outputs": [
    {
     "data": {
      "image/png": "[encoded data removed]",
      "text/plain": [
       "<IPython.core.display.Image object>"
      ]
     },
     "execution_count": 97,
     "metadata": {},
     "output_type": "execute_result"
    }
   ],
   "source": [
    "Image('img/Fraud_detection.png')"
   ]
  },
  {
   "cell_type": "markdown",
   "metadata": {},
   "source": [
    "##  Hypothesis creation"
   ]
  },
  {
   "cell_type": "markdown",
   "metadata": {
    "ExecuteTime": {
     "end_time": "2020-11-11T16:49:31.211204Z",
     "start_time": "2020-11-11T16:49:31.156534Z"
    },
    "heading_collapsed": true
   },
   "source": [
    "### Type of transactions"
   ]
  },
  {
   "cell_type": "code",
   "execution_count": null,
   "metadata": {
    "hidden": true
   },
   "outputs": [],
   "source": [
    "#type of transactions already in the dataset "
   ]
  },
  {
   "cell_type": "markdown",
   "metadata": {
    "heading_collapsed": true
   },
   "source": [
    "### Temporal "
   ]
  },
  {
   "cell_type": "code",
   "execution_count": 92,
   "metadata": {
    "ExecuteTime": {
     "end_time": "2020-11-11T17:11:18.447093Z",
     "start_time": "2020-11-11T17:11:18.114639Z"
    },
    "hidden": true
   },
   "outputs": [],
   "source": [
    "# week of month\n",
    "df3['week_of_month'] = df3['step'].apply(lambda x: x/(24*7)  ).astype(int)\n",
    "#day\n",
    "df3['day_of_month'] = df3['step'].apply(lambda x: x/24).astype(int)\n"
   ]
  },
  {
   "cell_type": "code",
   "execution_count": 93,
   "metadata": {
    "ExecuteTime": {
     "end_time": "2020-11-11T17:11:21.698099Z",
     "start_time": "2020-11-11T17:11:21.654503Z"
    },
    "hidden": true
   },
   "outputs": [
    {
     "data": {
      "text/html": [
       "<div>\n",
       "<style scoped>\n",
       "    .dataframe tbody tr th:only-of-type {\n",
       "        vertical-align: middle;\n",
       "    }\n",
       "\n",
       "    .dataframe tbody tr th {\n",
       "        vertical-align: top;\n",
       "    }\n",
       "\n",
       "    .dataframe thead th {\n",
       "        text-align: right;\n",
       "    }\n",
       "</style>\n",
       "<table border=\"1\" class=\"dataframe\">\n",
       "  <thead>\n",
       "    <tr style=\"text-align: right;\">\n",
       "      <th></th>\n",
       "      <th>is_fraud</th>\n",
       "      <th>Unnamed: 1</th>\n",
       "      <th>step</th>\n",
       "      <th>type</th>\n",
       "      <th>amount</th>\n",
       "      <th>name_orig</th>\n",
       "      <th>oldbalance_org</th>\n",
       "      <th>newbalance_orig</th>\n",
       "      <th>name_dest</th>\n",
       "      <th>oldbalance_dest</th>\n",
       "      <th>newbalance_dest</th>\n",
       "      <th>is_fraud.1</th>\n",
       "      <th>is_flagged_fraud</th>\n",
       "      <th>week_of_month</th>\n",
       "      <th>day_of_month</th>\n",
       "    </tr>\n",
       "  </thead>\n",
       "  <tbody>\n",
       "    <tr>\n",
       "      <th>0</th>\n",
       "      <td>0</td>\n",
       "      <td>3807078</td>\n",
       "      <td>281</td>\n",
       "      <td>CASH_OUT</td>\n",
       "      <td>118035.33</td>\n",
       "      <td>C1458573557</td>\n",
       "      <td>0.00</td>\n",
       "      <td>0.0</td>\n",
       "      <td>C1011327941</td>\n",
       "      <td>323412.58</td>\n",
       "      <td>441447.92</td>\n",
       "      <td>0</td>\n",
       "      <td>0</td>\n",
       "      <td>1</td>\n",
       "      <td>11</td>\n",
       "    </tr>\n",
       "    <tr>\n",
       "      <th>1</th>\n",
       "      <td>0</td>\n",
       "      <td>2280345</td>\n",
       "      <td>187</td>\n",
       "      <td>CASH_OUT</td>\n",
       "      <td>108902.87</td>\n",
       "      <td>C1281506030</td>\n",
       "      <td>25372.00</td>\n",
       "      <td>0.0</td>\n",
       "      <td>C224713062</td>\n",
       "      <td>307213.63</td>\n",
       "      <td>416116.50</td>\n",
       "      <td>0</td>\n",
       "      <td>0</td>\n",
       "      <td>1</td>\n",
       "      <td>7</td>\n",
       "    </tr>\n",
       "    <tr>\n",
       "      <th>2</th>\n",
       "      <td>0</td>\n",
       "      <td>3817919</td>\n",
       "      <td>281</td>\n",
       "      <td>CASH_OUT</td>\n",
       "      <td>244173.70</td>\n",
       "      <td>C248730046</td>\n",
       "      <td>49537.00</td>\n",
       "      <td>0.0</td>\n",
       "      <td>C1876543998</td>\n",
       "      <td>0.00</td>\n",
       "      <td>244173.70</td>\n",
       "      <td>0</td>\n",
       "      <td>0</td>\n",
       "      <td>1</td>\n",
       "      <td>11</td>\n",
       "    </tr>\n",
       "    <tr>\n",
       "      <th>3</th>\n",
       "      <td>0</td>\n",
       "      <td>3977715</td>\n",
       "      <td>297</td>\n",
       "      <td>CASH_OUT</td>\n",
       "      <td>320636.56</td>\n",
       "      <td>C1490350516</td>\n",
       "      <td>0.00</td>\n",
       "      <td>0.0</td>\n",
       "      <td>C2098652030</td>\n",
       "      <td>4395126.25</td>\n",
       "      <td>4715762.80</td>\n",
       "      <td>0</td>\n",
       "      <td>0</td>\n",
       "      <td>1</td>\n",
       "      <td>12</td>\n",
       "    </tr>\n",
       "    <tr>\n",
       "      <th>4</th>\n",
       "      <td>0</td>\n",
       "      <td>2359639</td>\n",
       "      <td>190</td>\n",
       "      <td>CASH_OUT</td>\n",
       "      <td>406650.21</td>\n",
       "      <td>C1985972159</td>\n",
       "      <td>0.00</td>\n",
       "      <td>0.0</td>\n",
       "      <td>C2034144661</td>\n",
       "      <td>3860832.38</td>\n",
       "      <td>4267482.59</td>\n",
       "      <td>0</td>\n",
       "      <td>0</td>\n",
       "      <td>1</td>\n",
       "      <td>7</td>\n",
       "    </tr>\n",
       "    <tr>\n",
       "      <th>...</th>\n",
       "      <td>...</td>\n",
       "      <td>...</td>\n",
       "      <td>...</td>\n",
       "      <td>...</td>\n",
       "      <td>...</td>\n",
       "      <td>...</td>\n",
       "      <td>...</td>\n",
       "      <td>...</td>\n",
       "      <td>...</td>\n",
       "      <td>...</td>\n",
       "      <td>...</td>\n",
       "      <td>...</td>\n",
       "      <td>...</td>\n",
       "      <td>...</td>\n",
       "      <td>...</td>\n",
       "    </tr>\n",
       "    <tr>\n",
       "      <th>357370</th>\n",
       "      <td>1</td>\n",
       "      <td>6360920</td>\n",
       "      <td>717</td>\n",
       "      <td>CASH_OUT</td>\n",
       "      <td>751854.42</td>\n",
       "      <td>C1391223821</td>\n",
       "      <td>751854.42</td>\n",
       "      <td>0.0</td>\n",
       "      <td>C450487671</td>\n",
       "      <td>11716.66</td>\n",
       "      <td>763571.08</td>\n",
       "      <td>1</td>\n",
       "      <td>0</td>\n",
       "      <td>4</td>\n",
       "      <td>29</td>\n",
       "    </tr>\n",
       "    <tr>\n",
       "      <th>357371</th>\n",
       "      <td>1</td>\n",
       "      <td>3273908</td>\n",
       "      <td>251</td>\n",
       "      <td>CASH_OUT</td>\n",
       "      <td>2693520.61</td>\n",
       "      <td>C1734542824</td>\n",
       "      <td>2693520.61</td>\n",
       "      <td>0.0</td>\n",
       "      <td>C1750548903</td>\n",
       "      <td>2505748.79</td>\n",
       "      <td>5199269.41</td>\n",
       "      <td>1</td>\n",
       "      <td>0</td>\n",
       "      <td>1</td>\n",
       "      <td>10</td>\n",
       "    </tr>\n",
       "    <tr>\n",
       "      <th>357372</th>\n",
       "      <td>1</td>\n",
       "      <td>4667</td>\n",
       "      <td>4</td>\n",
       "      <td>TRANSFER</td>\n",
       "      <td>169941.73</td>\n",
       "      <td>C540962910</td>\n",
       "      <td>169941.73</td>\n",
       "      <td>0.0</td>\n",
       "      <td>C2127862399</td>\n",
       "      <td>0.00</td>\n",
       "      <td>0.00</td>\n",
       "      <td>1</td>\n",
       "      <td>0</td>\n",
       "      <td>0</td>\n",
       "      <td>0</td>\n",
       "    </tr>\n",
       "    <tr>\n",
       "      <th>357373</th>\n",
       "      <td>1</td>\n",
       "      <td>6259987</td>\n",
       "      <td>608</td>\n",
       "      <td>TRANSFER</td>\n",
       "      <td>388171.95</td>\n",
       "      <td>C1413288238</td>\n",
       "      <td>388171.95</td>\n",
       "      <td>0.0</td>\n",
       "      <td>C1384608658</td>\n",
       "      <td>0.00</td>\n",
       "      <td>0.00</td>\n",
       "      <td>1</td>\n",
       "      <td>0</td>\n",
       "      <td>3</td>\n",
       "      <td>25</td>\n",
       "    </tr>\n",
       "    <tr>\n",
       "      <th>357374</th>\n",
       "      <td>1</td>\n",
       "      <td>6202687</td>\n",
       "      <td>583</td>\n",
       "      <td>CASH_OUT</td>\n",
       "      <td>1764389.11</td>\n",
       "      <td>C1297057320</td>\n",
       "      <td>1764389.11</td>\n",
       "      <td>0.0</td>\n",
       "      <td>C2133001459</td>\n",
       "      <td>7116057.41</td>\n",
       "      <td>8880446.51</td>\n",
       "      <td>1</td>\n",
       "      <td>0</td>\n",
       "      <td>3</td>\n",
       "      <td>24</td>\n",
       "    </tr>\n",
       "  </tbody>\n",
       "</table>\n",
       "<p>357375 rows × 15 columns</p>\n",
       "</div>"
      ],
      "text/plain": [
       "        is_fraud  Unnamed: 1  step      type      amount    name_orig  \\\n",
       "0              0     3807078   281  CASH_OUT   118035.33  C1458573557   \n",
       "1              0     2280345   187  CASH_OUT   108902.87  C1281506030   \n",
       "2              0     3817919   281  CASH_OUT   244173.70   C248730046   \n",
       "3              0     3977715   297  CASH_OUT   320636.56  C1490350516   \n",
       "4              0     2359639   190  CASH_OUT   406650.21  C1985972159   \n",
       "...          ...         ...   ...       ...         ...          ...   \n",
       "357370         1     6360920   717  CASH_OUT   751854.42  C1391223821   \n",
       "357371         1     3273908   251  CASH_OUT  2693520.61  C1734542824   \n",
       "357372         1        4667     4  TRANSFER   169941.73   C540962910   \n",
       "357373         1     6259987   608  TRANSFER   388171.95  C1413288238   \n",
       "357374         1     6202687   583  CASH_OUT  1764389.11  C1297057320   \n",
       "\n",
       "        oldbalance_org  newbalance_orig    name_dest  oldbalance_dest  \\\n",
       "0                 0.00              0.0  C1011327941        323412.58   \n",
       "1             25372.00              0.0   C224713062        307213.63   \n",
       "2             49537.00              0.0  C1876543998             0.00   \n",
       "3                 0.00              0.0  C2098652030       4395126.25   \n",
       "4                 0.00              0.0  C2034144661       3860832.38   \n",
       "...                ...              ...          ...              ...   \n",
       "357370       751854.42              0.0   C450487671         11716.66   \n",
       "357371      2693520.61              0.0  C1750548903       2505748.79   \n",
       "357372       169941.73              0.0  C2127862399             0.00   \n",
       "357373       388171.95              0.0  C1384608658             0.00   \n",
       "357374      1764389.11              0.0  C2133001459       7116057.41   \n",
       "\n",
       "        newbalance_dest  is_fraud.1  is_flagged_fraud  week_of_month  \\\n",
       "0             441447.92           0                 0              1   \n",
       "1             416116.50           0                 0              1   \n",
       "2             244173.70           0                 0              1   \n",
       "3            4715762.80           0                 0              1   \n",
       "4            4267482.59           0                 0              1   \n",
       "...                 ...         ...               ...            ...   \n",
       "357370        763571.08           1                 0              4   \n",
       "357371       5199269.41           1                 0              1   \n",
       "357372             0.00           1                 0              0   \n",
       "357373             0.00           1                 0              3   \n",
       "357374       8880446.51           1                 0              3   \n",
       "\n",
       "        day_of_month  \n",
       "0                 11  \n",
       "1                  7  \n",
       "2                 11  \n",
       "3                 12  \n",
       "4                  7  \n",
       "...              ...  \n",
       "357370            29  \n",
       "357371            10  \n",
       "357372             0  \n",
       "357373            25  \n",
       "357374            24  \n",
       "\n",
       "[357375 rows x 15 columns]"
      ]
     },
     "execution_count": 93,
     "metadata": {},
     "output_type": "execute_result"
    }
   ],
   "source": [
    "df3"
   ]
  },
  {
   "cell_type": "markdown",
   "metadata": {
    "ExecuteTime": {
     "end_time": "2020-11-11T16:49:31.368314Z",
     "start_time": "2020-11-11T16:49:31.289938Z"
    }
   },
   "source": [
    "### Client Hypothesis"
   ]
  },
  {
   "cell_type": "code",
   "execution_count": null,
   "metadata": {},
   "outputs": [],
   "source": []
  },
  {
   "cell_type": "code",
   "execution_count": 100,
   "metadata": {
    "ExecuteTime": {
     "end_time": "2020-11-11T17:26:22.722152Z",
     "start_time": "2020-11-11T17:26:22.710154Z"
    }
   },
   "outputs": [],
   "source": [
    "#bank balance variation\n",
    "df3['balance_variation_dest'] = df3['oldbalance_dest'] - df3['newbalance_dest']\n",
    "df3['balance_variation_org'] = df3['oldbalance_org'] - df3['newbalance_orig']\n",
    "\n",
    "#who started the transaction: in case of future studies\n",
    "# who received: in case of future studies"
   ]
  },
  {
   "cell_type": "code",
   "execution_count": 101,
   "metadata": {
    "ExecuteTime": {
     "end_time": "2020-11-11T17:26:28.104203Z",
     "start_time": "2020-11-11T17:26:28.055689Z"
    }
   },
   "outputs": [
    {
     "data": {
      "text/html": [
       "<div>\n",
       "<style scoped>\n",
       "    .dataframe tbody tr th:only-of-type {\n",
       "        vertical-align: middle;\n",
       "    }\n",
       "\n",
       "    .dataframe tbody tr th {\n",
       "        vertical-align: top;\n",
       "    }\n",
       "\n",
       "    .dataframe thead th {\n",
       "        text-align: right;\n",
       "    }\n",
       "</style>\n",
       "<table border=\"1\" class=\"dataframe\">\n",
       "  <thead>\n",
       "    <tr style=\"text-align: right;\">\n",
       "      <th></th>\n",
       "      <th>is_fraud</th>\n",
       "      <th>Unnamed: 1</th>\n",
       "      <th>step</th>\n",
       "      <th>type</th>\n",
       "      <th>amount</th>\n",
       "      <th>name_orig</th>\n",
       "      <th>oldbalance_org</th>\n",
       "      <th>newbalance_orig</th>\n",
       "      <th>name_dest</th>\n",
       "      <th>oldbalance_dest</th>\n",
       "      <th>newbalance_dest</th>\n",
       "      <th>is_fraud.1</th>\n",
       "      <th>is_flagged_fraud</th>\n",
       "      <th>week_of_month</th>\n",
       "      <th>day_of_month</th>\n",
       "      <th>balance_variation_dest</th>\n",
       "      <th>balance_variation_org</th>\n",
       "    </tr>\n",
       "  </thead>\n",
       "  <tbody>\n",
       "    <tr>\n",
       "      <th>0</th>\n",
       "      <td>0</td>\n",
       "      <td>3807078</td>\n",
       "      <td>281</td>\n",
       "      <td>CASH_OUT</td>\n",
       "      <td>118035.33</td>\n",
       "      <td>C1458573557</td>\n",
       "      <td>0.00</td>\n",
       "      <td>0.0</td>\n",
       "      <td>C1011327941</td>\n",
       "      <td>323412.58</td>\n",
       "      <td>441447.92</td>\n",
       "      <td>0</td>\n",
       "      <td>0</td>\n",
       "      <td>1</td>\n",
       "      <td>11</td>\n",
       "      <td>-118035.34</td>\n",
       "      <td>0.00</td>\n",
       "    </tr>\n",
       "    <tr>\n",
       "      <th>1</th>\n",
       "      <td>0</td>\n",
       "      <td>2280345</td>\n",
       "      <td>187</td>\n",
       "      <td>CASH_OUT</td>\n",
       "      <td>108902.87</td>\n",
       "      <td>C1281506030</td>\n",
       "      <td>25372.00</td>\n",
       "      <td>0.0</td>\n",
       "      <td>C224713062</td>\n",
       "      <td>307213.63</td>\n",
       "      <td>416116.50</td>\n",
       "      <td>0</td>\n",
       "      <td>0</td>\n",
       "      <td>1</td>\n",
       "      <td>7</td>\n",
       "      <td>-108902.87</td>\n",
       "      <td>25372.00</td>\n",
       "    </tr>\n",
       "    <tr>\n",
       "      <th>2</th>\n",
       "      <td>0</td>\n",
       "      <td>3817919</td>\n",
       "      <td>281</td>\n",
       "      <td>CASH_OUT</td>\n",
       "      <td>244173.70</td>\n",
       "      <td>C248730046</td>\n",
       "      <td>49537.00</td>\n",
       "      <td>0.0</td>\n",
       "      <td>C1876543998</td>\n",
       "      <td>0.00</td>\n",
       "      <td>244173.70</td>\n",
       "      <td>0</td>\n",
       "      <td>0</td>\n",
       "      <td>1</td>\n",
       "      <td>11</td>\n",
       "      <td>-244173.70</td>\n",
       "      <td>49537.00</td>\n",
       "    </tr>\n",
       "    <tr>\n",
       "      <th>3</th>\n",
       "      <td>0</td>\n",
       "      <td>3977715</td>\n",
       "      <td>297</td>\n",
       "      <td>CASH_OUT</td>\n",
       "      <td>320636.56</td>\n",
       "      <td>C1490350516</td>\n",
       "      <td>0.00</td>\n",
       "      <td>0.0</td>\n",
       "      <td>C2098652030</td>\n",
       "      <td>4395126.25</td>\n",
       "      <td>4715762.80</td>\n",
       "      <td>0</td>\n",
       "      <td>0</td>\n",
       "      <td>1</td>\n",
       "      <td>12</td>\n",
       "      <td>-320636.55</td>\n",
       "      <td>0.00</td>\n",
       "    </tr>\n",
       "    <tr>\n",
       "      <th>4</th>\n",
       "      <td>0</td>\n",
       "      <td>2359639</td>\n",
       "      <td>190</td>\n",
       "      <td>CASH_OUT</td>\n",
       "      <td>406650.21</td>\n",
       "      <td>C1985972159</td>\n",
       "      <td>0.00</td>\n",
       "      <td>0.0</td>\n",
       "      <td>C2034144661</td>\n",
       "      <td>3860832.38</td>\n",
       "      <td>4267482.59</td>\n",
       "      <td>0</td>\n",
       "      <td>0</td>\n",
       "      <td>1</td>\n",
       "      <td>7</td>\n",
       "      <td>-406650.21</td>\n",
       "      <td>0.00</td>\n",
       "    </tr>\n",
       "    <tr>\n",
       "      <th>...</th>\n",
       "      <td>...</td>\n",
       "      <td>...</td>\n",
       "      <td>...</td>\n",
       "      <td>...</td>\n",
       "      <td>...</td>\n",
       "      <td>...</td>\n",
       "      <td>...</td>\n",
       "      <td>...</td>\n",
       "      <td>...</td>\n",
       "      <td>...</td>\n",
       "      <td>...</td>\n",
       "      <td>...</td>\n",
       "      <td>...</td>\n",
       "      <td>...</td>\n",
       "      <td>...</td>\n",
       "      <td>...</td>\n",
       "      <td>...</td>\n",
       "    </tr>\n",
       "    <tr>\n",
       "      <th>357370</th>\n",
       "      <td>1</td>\n",
       "      <td>6360920</td>\n",
       "      <td>717</td>\n",
       "      <td>CASH_OUT</td>\n",
       "      <td>751854.42</td>\n",
       "      <td>C1391223821</td>\n",
       "      <td>751854.42</td>\n",
       "      <td>0.0</td>\n",
       "      <td>C450487671</td>\n",
       "      <td>11716.66</td>\n",
       "      <td>763571.08</td>\n",
       "      <td>1</td>\n",
       "      <td>0</td>\n",
       "      <td>4</td>\n",
       "      <td>29</td>\n",
       "      <td>-751854.42</td>\n",
       "      <td>751854.42</td>\n",
       "    </tr>\n",
       "    <tr>\n",
       "      <th>357371</th>\n",
       "      <td>1</td>\n",
       "      <td>3273908</td>\n",
       "      <td>251</td>\n",
       "      <td>CASH_OUT</td>\n",
       "      <td>2693520.61</td>\n",
       "      <td>C1734542824</td>\n",
       "      <td>2693520.61</td>\n",
       "      <td>0.0</td>\n",
       "      <td>C1750548903</td>\n",
       "      <td>2505748.79</td>\n",
       "      <td>5199269.41</td>\n",
       "      <td>1</td>\n",
       "      <td>0</td>\n",
       "      <td>1</td>\n",
       "      <td>10</td>\n",
       "      <td>-2693520.62</td>\n",
       "      <td>2693520.61</td>\n",
       "    </tr>\n",
       "    <tr>\n",
       "      <th>357372</th>\n",
       "      <td>1</td>\n",
       "      <td>4667</td>\n",
       "      <td>4</td>\n",
       "      <td>TRANSFER</td>\n",
       "      <td>169941.73</td>\n",
       "      <td>C540962910</td>\n",
       "      <td>169941.73</td>\n",
       "      <td>0.0</td>\n",
       "      <td>C2127862399</td>\n",
       "      <td>0.00</td>\n",
       "      <td>0.00</td>\n",
       "      <td>1</td>\n",
       "      <td>0</td>\n",
       "      <td>0</td>\n",
       "      <td>0</td>\n",
       "      <td>0.00</td>\n",
       "      <td>169941.73</td>\n",
       "    </tr>\n",
       "    <tr>\n",
       "      <th>357373</th>\n",
       "      <td>1</td>\n",
       "      <td>6259987</td>\n",
       "      <td>608</td>\n",
       "      <td>TRANSFER</td>\n",
       "      <td>388171.95</td>\n",
       "      <td>C1413288238</td>\n",
       "      <td>388171.95</td>\n",
       "      <td>0.0</td>\n",
       "      <td>C1384608658</td>\n",
       "      <td>0.00</td>\n",
       "      <td>0.00</td>\n",
       "      <td>1</td>\n",
       "      <td>0</td>\n",
       "      <td>3</td>\n",
       "      <td>25</td>\n",
       "      <td>0.00</td>\n",
       "      <td>388171.95</td>\n",
       "    </tr>\n",
       "    <tr>\n",
       "      <th>357374</th>\n",
       "      <td>1</td>\n",
       "      <td>6202687</td>\n",
       "      <td>583</td>\n",
       "      <td>CASH_OUT</td>\n",
       "      <td>1764389.11</td>\n",
       "      <td>C1297057320</td>\n",
       "      <td>1764389.11</td>\n",
       "      <td>0.0</td>\n",
       "      <td>C2133001459</td>\n",
       "      <td>7116057.41</td>\n",
       "      <td>8880446.51</td>\n",
       "      <td>1</td>\n",
       "      <td>0</td>\n",
       "      <td>3</td>\n",
       "      <td>24</td>\n",
       "      <td>-1764389.10</td>\n",
       "      <td>1764389.11</td>\n",
       "    </tr>\n",
       "  </tbody>\n",
       "</table>\n",
       "<p>357375 rows × 17 columns</p>\n",
       "</div>"
      ],
      "text/plain": [
       "        is_fraud  Unnamed: 1  step      type      amount    name_orig  \\\n",
       "0              0     3807078   281  CASH_OUT   118035.33  C1458573557   \n",
       "1              0     2280345   187  CASH_OUT   108902.87  C1281506030   \n",
       "2              0     3817919   281  CASH_OUT   244173.70   C248730046   \n",
       "3              0     3977715   297  CASH_OUT   320636.56  C1490350516   \n",
       "4              0     2359639   190  CASH_OUT   406650.21  C1985972159   \n",
       "...          ...         ...   ...       ...         ...          ...   \n",
       "357370         1     6360920   717  CASH_OUT   751854.42  C1391223821   \n",
       "357371         1     3273908   251  CASH_OUT  2693520.61  C1734542824   \n",
       "357372         1        4667     4  TRANSFER   169941.73   C540962910   \n",
       "357373         1     6259987   608  TRANSFER   388171.95  C1413288238   \n",
       "357374         1     6202687   583  CASH_OUT  1764389.11  C1297057320   \n",
       "\n",
       "        oldbalance_org  newbalance_orig    name_dest  oldbalance_dest  \\\n",
       "0                 0.00              0.0  C1011327941        323412.58   \n",
       "1             25372.00              0.0   C224713062        307213.63   \n",
       "2             49537.00              0.0  C1876543998             0.00   \n",
       "3                 0.00              0.0  C2098652030       4395126.25   \n",
       "4                 0.00              0.0  C2034144661       3860832.38   \n",
       "...                ...              ...          ...              ...   \n",
       "357370       751854.42              0.0   C450487671         11716.66   \n",
       "357371      2693520.61              0.0  C1750548903       2505748.79   \n",
       "357372       169941.73              0.0  C2127862399             0.00   \n",
       "357373       388171.95              0.0  C1384608658             0.00   \n",
       "357374      1764389.11              0.0  C2133001459       7116057.41   \n",
       "\n",
       "        newbalance_dest  is_fraud.1  is_flagged_fraud  week_of_month  \\\n",
       "0             441447.92           0                 0              1   \n",
       "1             416116.50           0                 0              1   \n",
       "2             244173.70           0                 0              1   \n",
       "3            4715762.80           0                 0              1   \n",
       "4            4267482.59           0                 0              1   \n",
       "...                 ...         ...               ...            ...   \n",
       "357370        763571.08           1                 0              4   \n",
       "357371       5199269.41           1                 0              1   \n",
       "357372             0.00           1                 0              0   \n",
       "357373             0.00           1                 0              3   \n",
       "357374       8880446.51           1                 0              3   \n",
       "\n",
       "        day_of_month  balance_variation_dest  balance_variation_org  \n",
       "0                 11              -118035.34                   0.00  \n",
       "1                  7              -108902.87               25372.00  \n",
       "2                 11              -244173.70               49537.00  \n",
       "3                 12              -320636.55                   0.00  \n",
       "4                  7              -406650.21                   0.00  \n",
       "...              ...                     ...                    ...  \n",
       "357370            29              -751854.42              751854.42  \n",
       "357371            10             -2693520.62             2693520.61  \n",
       "357372             0                    0.00              169941.73  \n",
       "357373            25                    0.00              388171.95  \n",
       "357374            24             -1764389.10             1764389.11  \n",
       "\n",
       "[357375 rows x 17 columns]"
      ]
     },
     "execution_count": 101,
     "metadata": {},
     "output_type": "execute_result"
    }
   ],
   "source": [
    "df3"
   ]
  },
  {
   "cell_type": "markdown",
   "metadata": {},
   "source": [
    "### Transactions Hypothesis "
   ]
  },
  {
   "cell_type": "code",
   "execution_count": 105,
   "metadata": {
    "ExecuteTime": {
     "end_time": "2020-11-11T20:25:07.184291Z",
     "start_time": "2020-11-11T20:25:07.181031Z"
    }
   },
   "outputs": [],
   "source": [
    "#amount of transactions (ainda nao sei como fazer esse)\n",
    "#df3['amount_of_transactions'] = df3['name_orig'].apply(lambda x: df3['name_orig'].groupby(x).count()) "
   ]
  },
  {
   "cell_type": "markdown",
   "metadata": {},
   "source": [
    "# EXPLORATORY DATA ANALYSIS"
   ]
  },
  {
   "cell_type": "code",
   "execution_count": 107,
   "metadata": {
    "ExecuteTime": {
     "end_time": "2020-11-11T20:26:44.042646Z",
     "start_time": "2020-11-11T20:26:44.007789Z"
    }
   },
   "outputs": [],
   "source": [
    "df4= df3.copy()"
   ]
  },
  {
   "cell_type": "code",
   "execution_count": 110,
   "metadata": {
    "ExecuteTime": {
     "end_time": "2020-11-11T20:29:27.865383Z",
     "start_time": "2020-11-11T20:29:27.843702Z"
    }
   },
   "outputs": [
    {
     "name": "stdout",
     "output_type": "stream",
     "text": [
      "Populating the interactive namespace from numpy and matplotlib\n"
     ]
    },
    {
     "data": {
      "text/html": [
       "<style>.container { width:100% !important; }</style>"
      ],
      "text/plain": [
       "<IPython.core.display.HTML object>"
      ]
     },
     "metadata": {},
     "output_type": "display_data"
    }
   ],
   "source": [
    "jupyter_settings()"
   ]
  },
  {
   "cell_type": "markdown",
   "metadata": {},
   "source": [
    "## Univariate analysis"
   ]
  },
  {
   "cell_type": "markdown",
   "metadata": {
    "ExecuteTime": {
     "end_time": "2020-11-11T20:27:15.291031Z",
     "start_time": "2020-11-11T20:27:14.448021Z"
    }
   },
   "source": [
    "### Numerical Variable"
   ]
  },
  {
   "cell_type": "code",
   "execution_count": 112,
   "metadata": {
    "ExecuteTime": {
     "end_time": "2020-11-11T20:32:52.244457Z",
     "start_time": "2020-11-11T20:32:48.134446Z"
    }
   },
   "outputs": [
    {
     "data": {
      "text/plain": [
       "array([[<AxesSubplot:title={'center':'is_fraud'}>,\n",
       "        <AxesSubplot:title={'center':'Unnamed: 1'}>,\n",
       "        <AxesSubplot:title={'center':'step'}>,\n",
       "        <AxesSubplot:title={'center':'amount'}>],\n",
       "       [<AxesSubplot:title={'center':'oldbalance_org'}>,\n",
       "        <AxesSubplot:title={'center':'newbalance_orig'}>,\n",
       "        <AxesSubplot:title={'center':'oldbalance_dest'}>,\n",
       "        <AxesSubplot:title={'center':'newbalance_dest'}>],\n",
       "       [<AxesSubplot:title={'center':'is_fraud.1'}>,\n",
       "        <AxesSubplot:title={'center':'is_flagged_fraud'}>,\n",
       "        <AxesSubplot:title={'center':'week_of_month'}>,\n",
       "        <AxesSubplot:title={'center':'day_of_month'}>],\n",
       "       [<AxesSubplot:title={'center':'balance_variation_dest'}>,\n",
       "        <AxesSubplot:title={'center':'balance_variation_org'}>,\n",
       "        <AxesSubplot:>, <AxesSubplot:>]], dtype=object)"
      ]
     },
     "execution_count": 112,
     "metadata": {},
     "output_type": "execute_result"
    },
    {
     "data": {
      "image/png": "[encoded data removed]",
      "text/plain": [
       "<Figure size 1800x864 with 16 Axes>"
      ]
     },
     "metadata": {},
     "output_type": "display_data"
    }
   ],
   "source": [
    "num_attributes = df4.select_dtypes(include=['int64','float64'])\n",
    "num_attributes.hist()"
   ]
  },
  {
   "cell_type": "markdown",
   "metadata": {},
   "source": [
    "### Categorical Variables"
   ]
  },
  {
   "cell_type": "code",
   "execution_count": 119,
   "metadata": {
    "ExecuteTime": {
     "end_time": "2020-11-11T23:19:51.042734Z",
     "start_time": "2020-11-11T23:19:50.114765Z"
    }
   },
   "outputs": [
    {
     "data": {
      "text/plain": [
       "<AxesSubplot:xlabel='amount', ylabel='Density'>"
      ]
     },
     "execution_count": 119,
     "metadata": {},
     "output_type": "execute_result"
    },
    {
     "data": {
      "image/png": "[encoded data removed]",
      "text/plain": [
       "<Figure size 1800x864 with 2 Axes>"
      ]
     },
     "metadata": {},
     "output_type": "display_data"
    }
   ],
   "source": [
    "a = df4[(df4['is_fraud']==1)]\n",
    "#types \n",
    "plt.subplot(1,2,1)\n",
    "sns.countplot(a['type'])\n",
    "\n",
    "plt.subplot(1,2,2)\n",
    "sns.kdeplot(a[a['type'] =='CASH_OUT']['amount'],label='cash_out',shade=True)\n",
    "sns.kdeplot(a[a['type'] =='TRANSFER']['amount'],label='transfer',shade=True)\n"
   ]
  },
  {
   "cell_type": "markdown",
   "metadata": {},
   "source": [
    "## Bivariate analisys"
   ]
  },
  {
   "cell_type": "markdown",
   "metadata": {},
   "source": [
    " **1**- There is more fraud in the first and last week of month"
   ]
  },
  {
   "cell_type": "markdown",
   "metadata": {},
   "source": [
    "**False** The last week is where there is the smaller amount of frauds"
   ]
  },
  {
   "cell_type": "code",
   "execution_count": 129,
   "metadata": {
    "ExecuteTime": {
     "end_time": "2020-11-11T23:48:55.104137Z",
     "start_time": "2020-11-11T23:48:54.718023Z"
    }
   },
   "outputs": [
    {
     "data": {
      "text/plain": [
       "<AxesSubplot:xlabel='week_of_month', ylabel='is_fraud'>"
      ]
     },
     "execution_count": 129,
     "metadata": {},
     "output_type": "execute_result"
    },
    {
     "data": {
      "image/png": "[encoded data removed]",
      "text/plain": [
       "<Figure size 1800x864 with 1 Axes>"
      ]
     },
     "metadata": {},
     "output_type": "display_data"
    }
   ],
   "source": [
    "aux1 = df4[['week_of_month','is_fraud']].groupby('week_of_month').sum().reset_index()\n",
    "sns.barplot(x='week_of_month',y='is_fraud',data=aux1)\n"
   ]
  },
  {
   "cell_type": "markdown",
   "metadata": {},
   "source": [
    "**2**- There is more fraud in the first days of month"
   ]
  },
  {
   "cell_type": "markdown",
   "metadata": {},
   "source": [
    "**True** There is more fraud in the first days of month"
   ]
  },
  {
   "cell_type": "code",
   "execution_count": 130,
   "metadata": {
    "ExecuteTime": {
     "end_time": "2020-11-12T00:06:35.521838Z",
     "start_time": "2020-11-12T00:06:31.113088Z"
    }
   },
   "outputs": [
    {
     "data": {
      "text/plain": [
       "<AxesSubplot:xlabel='day_of_month', ylabel='Density'>"
      ]
     },
     "execution_count": 130,
     "metadata": {},
     "output_type": "execute_result"
    },
    {
     "data": {
      "image/png": "[encoded data removed]",
      "text/plain": [
       "<Figure size 1800x864 with 1 Axes>"
      ]
     },
     "metadata": {},
     "output_type": "display_data"
    }
   ],
   "source": [
    "a = df4[(df4['is_fraud']==1)]\n",
    "sns.distplot(df4['day_of_month'])\n"
   ]
  },
  {
   "cell_type": "code",
   "execution_count": 131,
   "metadata": {
    "ExecuteTime": {
     "end_time": "2020-11-12T00:13:57.947349Z",
     "start_time": "2020-11-12T00:09:10.172856Z"
    }
   },
   "outputs": [],
   "source": [
    "df4"
   ]
  },
  {
   "cell_type": "code",
   "execution_count": null,
   "metadata": {},
   "outputs": [],
   "source": []
  }
 ],
 "metadata": {
  "kernelspec": {
   "display_name": "Python 3",
   "language": "python",
   "name": "python3"
  },
  "language_info": {
   "codemirror_mode": {
    "name": "ipython",
    "version": 3
   },
   "file_extension": ".py",
   "mimetype": "text/x-python",
   "name": "python",
   "nbconvert_exporter": "python",
   "pygments_lexer": "ipython3",
   "version": "3.8.5"
  },
  "toc": {
   "base_numbering": 1,
   "nav_menu": {},
   "number_sections": true,
   "sideBar": true,
   "skip_h1_title": false,
   "title_cell": "Table of Contents",
   "title_sidebar": "Contents",
   "toc_cell": false,
   "toc_position": {},
   "toc_section_display": true,
   "toc_window_display": false
  },
  "varInspector": {
   "cols": {
    "lenName": 16,
    "lenType": 16,
    "lenVar": 40
   },
   "kernels_config": {
    "python": {
     "delete_cmd_postfix": "",
     "delete_cmd_prefix": "del ",
     "library": "var_list.py",
     "varRefreshCmd": "print(var_dic_list())"
    },
    "r": {
     "delete_cmd_postfix": ") ",
     "delete_cmd_prefix": "rm(",
     "library": "var_list.r",
     "varRefreshCmd": "cat(var_dic_list()) "
    }
   },
   "types_to_exclude": [
    "module",
    "function",
    "builtin_function_or_method",
    "instance",
    "_Feature"
   ],
   "window_display": false
  }
 },
 "nbformat": 4,
 "nbformat_minor": 4
}
