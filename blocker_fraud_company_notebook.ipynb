{
 "cells": [
  {
   "cell_type": "markdown",
   "metadata": {},
   "source": [
    "**Challenge description**\n",
    "\n",
    "\n",
    "The purpose of this project is creating a model of high precision and accuracy in detecting fraud of transactions made through mobile devices.\n",
    "\n",
    "At the end of the project the CEO of Blocker Fraud Company will have a model in production capable of send transactions by API and it will classifies them as fraudulent or legitimate.\n",
    "\n",
    "In addition, there is going to be a  report reporting  model's performance and results in relation to the profit and loss that the company will have when using the model you produced. The main subjects will contain the answers to the following questions:\n",
    "\n",
    "    1- What is the Precision and Accuracy of the model?\n",
    "    2- How Reliable is the model in classifying transactions as legitimate or fraudulent?\n",
    "    3- What is the Expected Billing by the Company if we classify 100% of the transactions with the model?\n",
    "    4- What is the Loss Expected by the Company in case of model failure?\n",
    "    5- What is the Profit Expected by the Blocker Fraud Company when using the model?"
   ]
  },
  {
   "cell_type": "markdown",
   "metadata": {
    "heading_collapsed": true
   },
   "source": [
    "# INTRODUCTION"
   ]
  },
  {
   "cell_type": "markdown",
   "metadata": {
    "hidden": true
   },
   "source": [
    "## Data Dictionary"
   ]
  },
  {
   "cell_type": "markdown",
   "metadata": {
    "ExecuteTime": {
     "end_time": "2020-11-10T14:31:25.597341Z",
     "start_time": "2020-11-10T14:31:25.587433Z"
    },
    "hidden": true
   },
   "source": [
    "Source data set: https://www.kaggle.com/ntnu-testimon/paysim1\n",
    "\n",
    "| Feature        | Description                                                                                                                                                                                                                                                                                           |\n",
    "|:----------------|:-------------------------------------------------------------------------------------------------------------------------------------------------------------------------------------------------------------------------------------------------------------------------------------------------------|\n",
    "| step           | maps a unit of time in the real world\\. In this case 1 step is 1 hour of time\\. Total steps 744 \\(30 days simulation\\)\\.                                                                                                                                                                              |\n",
    "| type           | Transaction type \\(CASH\\-IN, CASH\\-OUT, DEBIT, PAYMENT and TRANSFER\\)                                                                                                                                                                                                                                 |\n",
    "| amount         | amount of the transaction in local currency                                                                                                                                                                                                                                                           |\n",
    "| nameOrig       | customer who started the transaction                                                                                                                                                                                                                                                                  |\n",
    "| oldbalanceOrg  | initial balance before the transaction                                                                                                                                                                                                                                                                |\n",
    "| newbalanceOrig | new balance after the transaction                                                                                                                                                                                                                                                                     |\n",
    "| nameDest       | customer who is the recipient of the transaction                                                                                                                                                                                                                                                      |\n",
    "| oldbalanceDest | initial balance recipient before the transaction\\. Note that there is not information for customers that start with M \\(Merchants\\)                                                                                                                                                                   |\n",
    "| newbalanceDest | new balance recipient after the transaction\\. Note that there is not information for customers that start with M \\(Merchants\\)                                                                                                                                                                        |\n",
    "| isFraud        | This is the transactions made by the fraudulent agents inside the simulation\\. In this specific dataset the fraudulent behavior of the agents aims to profit by taking control or customers accounts and try to empty the funds by transferring to another account and then cashing out of the system |\n",
    "| isFlaggedFraud | The business model aims to control massive transfers from one account to another and flags illegal attempts\\. An illegal attempt in this dataset is an attempt to transfer more than 200K in a single transaction                                                                                 |\n"
   ]
  },
  {
   "cell_type": "markdown",
   "metadata": {
    "heading_collapsed": true,
    "hidden": true
   },
   "source": [
    "## IMPORTS"
   ]
  },
  {
   "cell_type": "code",
   "execution_count": 119,
   "metadata": {
    "ExecuteTime": {
     "end_time": "2020-11-11T02:13:36.375459Z",
     "start_time": "2020-11-11T02:13:36.367680Z"
    },
    "hidden": true
   },
   "outputs": [],
   "source": [
    "# general libraries \n",
    "import math\n",
    "import numpy  as np\n",
    "import pandas as pd\n",
    "import random as rd\n",
    "\n",
    "\n",
    "\n",
    "#altering texts\n",
    "import inflection\n",
    "\n",
    "#creating and configuring graphics\n",
    "import seaborn as sns\n",
    "from matplotlib            import pyplot as plt\n",
    "from IPython.display       import Image\n",
    "from IPython.core.display  import HTML\n",
    "\n",
    "\n",
    "#data selection and algorithm  \n",
    "import xgboost as xgb\n",
    "from scipy                 import stats  as ss\n",
    "from boruta                import BorutaPy\n",
    "from sklearn.metrics       import mean_absolute_error, mean_squared_error\n",
    "from sklearn.ensemble      import RandomForestRegressor\n",
    "from sklearn.linear_model  import LinearRegression, Lasso\n",
    "from sklearn.preprocessing import RobustScaler, MinMaxScaler, LabelEncoder\n",
    "\n",
    "\n",
    "#others\n",
    "import warnings\n",
    "warnings.filterwarnings( 'ignore' )\n",
    "\n",
    "#API \n",
    "from flask import Flask, request, Response"
   ]
  },
  {
   "cell_type": "markdown",
   "metadata": {
    "heading_collapsed": true,
    "hidden": true
   },
   "source": [
    "##  Helper Functions"
   ]
  },
  {
   "cell_type": "code",
   "execution_count": 120,
   "metadata": {
    "ExecuteTime": {
     "end_time": "2020-11-11T02:13:36.527603Z",
     "start_time": "2020-11-11T02:13:36.382131Z"
    },
    "hidden": true
   },
   "outputs": [],
   "source": [
    "def jupyter_settings():\n",
    "    %matplotlib inline\n",
    "    %pylab inline\n",
    "    \n",
    "    plt.style.use( 'bmh' )\n",
    "    plt.rcParams['figure.figsize'] = [25, 12]\n",
    "    plt.rcParams['font.size'] = 24\n",
    "    \n",
    "    display( HTML( '<style>.container { width:100% !important; }</style>') )\n",
    "    pd.options.display.max_columns = None\n",
    "    pd.options.display.max_rows = None\n",
    "    pd.set_option( 'display.expand_frame_repr', False )\n",
    "    \n",
    "    sns.set()\n",
    "    \n",
    "    \n",
    "    \n",
    "def cramer_v(x,y):\n",
    "    cm = pd.crosstab(x, y).values\n",
    "    chi2 = ss.chi2_contingency(cm)[0]\n",
    "    n = cm.sum()\n",
    "    r,k = cm.shape\n",
    "    chi2corr = max(0,chi2 - (((k-1)*(r-1))/(n-1)))\n",
    "    kcorr = k - (k-1)**2/(n-1)\n",
    "    rcorr = r - (r-1)**2/(n-1)\n",
    "    v = np.sqrt( (chi2corr/n) / (min (kcorr-1,rcorr-1) ) )\n",
    "    return v\n",
    "\n",
    "\n",
    "    \n",
    "def reduce_mem_usage(df):\n",
    "    \"\"\" \n",
    "    iterate through all the columns of a dataframe and \n",
    "    modify the data type to reduce memory usage.        \n",
    "    \"\"\"\n",
    "    start_mem = df.memory_usage().sum() / 1024**2\n",
    "    print(('Memory usage of dataframe is {:.2f}' \n",
    "                     'MB').format(start_mem))\n",
    "    \n",
    "    for col in df.columns:\n",
    "        col_type = df[col].dtype\n",
    "        \n",
    "        if col_type != object:\n",
    "            c_min = df[col].min()\n",
    "            c_max = df[col].max()\n",
    "            if str(col_type)[:3] == 'int':\n",
    "                if c_min > np.iinfo(np.int8).min and c_max <\\\n",
    "                  np.iinfo(np.int8).max:\n",
    "                    df[col] = df[col].astype(np.int8)\n",
    "                elif c_min > np.iinfo(np.int16).min and c_max <\\\n",
    "                   np.iinfo(np.int16).max:\n",
    "                    df[col] = df[col].astype(np.int16)\n",
    "                elif c_min > np.iinfo(np.int32).min and c_max <\\\n",
    "                   np.iinfo(np.int32).max:\n",
    "                    df[col] = df[col].astype(np.int32)\n",
    "                elif c_min > np.iinfo(np.int64).min and c_max <\\\n",
    "                   np.iinfo(np.int64).max:\n",
    "                    df[col] = df[col].astype(np.int64)  \n",
    "            else:\n",
    "                if c_min > np.finfo(np.float16).min and c_max <\\\n",
    "                   np.finfo(np.float16).max:\n",
    "                    df[col] = df[col].astype(np.float16)\n",
    "                elif c_min > np.finfo(np.float32).min and c_max <\\\n",
    "                   np.finfo(np.float32).max:\n",
    "                    df[col] = df[col].astype(np.float32)\n",
    "                else:\n",
    "                    df[col] = df[col].astype(np.float64)\n",
    "        else:\n",
    "            df[col] = df[col].astype('category')    \n",
    "            end_mem = df.memory_usage().sum() / 1024**2\n",
    "    print(('Memory usage after optimization is: {:.2f}' \n",
    "                              'MB').format(end_mem))\n",
    "    print('Decreased by {:.1f}%'.format(100 * (start_mem - end_mem) \n",
    "                                             / start_mem))\n",
    "    \n",
    "    return df  \n",
    "\n",
    "\n",
    "def ml_error(model_name,y,yhat):\n",
    "    \n",
    "    mae = mean_absolute_error(y,yhat)\n",
    "    mape = mean_absolute_percentage_error(y,yhat)\n",
    "    rmse = np.sqrt(mean_squared_error(y,yhat))\n",
    "    return pd.DataFrame({'Model Name': model_name,\n",
    "                         'MAE': mae,\n",
    "                         'MAPE': mape,\n",
    "                          'RMSE':rmse},index=[0])\n",
    "\n",
    "def mean_absolute_percentage_error(y, yhat):\n",
    "   return np.mean( np.abs((y-yhat)/y))\n",
    "\n",
    "def mean_percentage_error( y, yhat ):\n",
    "    return np.mean( ( y - yhat ) / y )\n",
    "\n",
    "\n",
    "def cross_validation( x_training, kfold, model_name, model, verbose=False ):\n",
    "    mae_list = []\n",
    "    mape_list = []\n",
    "    rmse_list = []\n",
    "    for k in reversed( range( 1, kfold+1 ) ):\n",
    "        if verbose:\n",
    "            print( '\\nKFold Number: {}'.format( k ) )\n",
    "        # start and end date for validation \n",
    "        validation_start_date = x_training['date'].max() - datetime.timedelta( days=k*6*7)\n",
    "        validation_end_date = x_training['date'].max() - datetime.timedelta( days=(k-1)*6*7)\n",
    "\n",
    "        # filtering dataset\n",
    "        training = x_training[x_training['date'] < validation_start_date]\n",
    "        validation = x_training[(x_training['date'] >= validation_start_date) & (x_training['date'] <= validation_end_date)]\n",
    "\n",
    "        # training and validation dataset\n",
    "        # training\n",
    "        xtraining = training.drop( ['date', 'sales'], axis=1 ) \n",
    "        ytraining = training['sales']\n",
    "\n",
    "        # validation\n",
    "        xvalidation = validation.drop( ['date', 'sales'], axis=1 )\n",
    "        yvalidation = validation['sales']\n",
    "\n",
    "        # model\n",
    "        m = model.fit( xtraining, ytraining )\n",
    "\n",
    "        # prediction\n",
    "        yhat = m.predict( xvalidation )\n",
    "\n",
    "        # performance\n",
    "        m_result = ml_error( model_name, np.expm1( yvalidation ), np.expm1( yhat ) )\n",
    "\n",
    "        # store performance of each kfold iteration\n",
    "        mae_list.append(  m_result['MAE'] )\n",
    "        mape_list.append( m_result['MAPE'] )\n",
    "        rmse_list.append( m_result['RMSE'] )\n",
    "\n",
    "    return pd.DataFrame( {'Model Name': model_name,\n",
    "                          'MAE CV': np.round( np.mean( mae_list ), 2 ).astype( str ) + ' +/- ' + np.round( np.std( mae_list ), 2 ).astype( str ),\n",
    "                          'MAPE CV': np.round( np.mean( mape_list ), 2 ).astype( str ) + ' +/- ' + np.round( np.std( mape_list ), 2 ).astype( str ),\n",
    "                          'RMSE CV': np.round( np.mean( rmse_list ), 2 ).astype( str ) + ' +/- ' + np.round( np.std( rmse_list ), 2 ).astype( str ) }, index=[0] )\n"
   ]
  },
  {
   "cell_type": "markdown",
   "metadata": {
    "hidden": true
   },
   "source": [
    "## Loading Data"
   ]
  },
  {
   "cell_type": "code",
   "execution_count": 121,
   "metadata": {
    "ExecuteTime": {
     "end_time": "2020-11-11T02:13:49.418543Z",
     "start_time": "2020-11-11T02:13:36.530533Z"
    },
    "hidden": true
   },
   "outputs": [],
   "source": [
    "df_raw = pd.read_csv('data/train.csv')"
   ]
  },
  {
   "cell_type": "markdown",
   "metadata": {},
   "source": [
    "#  Data Description"
   ]
  },
  {
   "cell_type": "code",
   "execution_count": 122,
   "metadata": {
    "ExecuteTime": {
     "end_time": "2020-11-11T02:13:49.813879Z",
     "start_time": "2020-11-11T02:13:49.421840Z"
    }
   },
   "outputs": [],
   "source": [
    "df1 = df_raw.copy()"
   ]
  },
  {
   "cell_type": "markdown",
   "metadata": {
    "heading_collapsed": true
   },
   "source": [
    "##  Rename Columns"
   ]
  },
  {
   "cell_type": "code",
   "execution_count": 123,
   "metadata": {
    "ExecuteTime": {
     "end_time": "2020-11-11T02:13:49.820611Z",
     "start_time": "2020-11-11T02:13:49.816846Z"
    },
    "hidden": true
   },
   "outputs": [],
   "source": [
    "cols_old = ['step', 'type', 'amount', 'nameOrig', 'oldbalanceOrg', 'newbalanceOrig',\n",
    "       'nameDest', 'oldbalanceDest', 'newbalanceDest', 'isFraud',\n",
    "       'isFlaggedFraud']"
   ]
  },
  {
   "cell_type": "code",
   "execution_count": 124,
   "metadata": {
    "ExecuteTime": {
     "end_time": "2020-11-11T02:13:49.897708Z",
     "start_time": "2020-11-11T02:13:49.823131Z"
    },
    "hidden": true
   },
   "outputs": [],
   "source": [
    "snakecase = lambda x: inflection.underscore(x)"
   ]
  },
  {
   "cell_type": "code",
   "execution_count": 125,
   "metadata": {
    "ExecuteTime": {
     "end_time": "2020-11-11T02:13:49.988851Z",
     "start_time": "2020-11-11T02:13:49.901693Z"
    },
    "hidden": true
   },
   "outputs": [],
   "source": [
    "cols_new = list(map(snakecase,cols_old))"
   ]
  },
  {
   "cell_type": "code",
   "execution_count": 126,
   "metadata": {
    "ExecuteTime": {
     "end_time": "2020-11-11T02:13:50.106524Z",
     "start_time": "2020-11-11T02:13:49.991740Z"
    },
    "hidden": true
   },
   "outputs": [],
   "source": [
    "df1.columns = cols_new"
   ]
  },
  {
   "cell_type": "markdown",
   "metadata": {},
   "source": [
    "##  Data Dimension"
   ]
  },
  {
   "cell_type": "code",
   "execution_count": 127,
   "metadata": {
    "ExecuteTime": {
     "end_time": "2020-11-11T02:13:50.193383Z",
     "start_time": "2020-11-11T02:13:50.113615Z"
    }
   },
   "outputs": [
    {
     "name": "stdout",
     "output_type": "stream",
     "text": [
      "Number of rows 6362620\n",
      "Number of columns 11\n"
     ]
    }
   ],
   "source": [
    "print(f'Number of rows {df1.shape[0]}')\n",
    "print(f'Number of columns {df1.shape[1]}')"
   ]
  },
  {
   "cell_type": "markdown",
   "metadata": {},
   "source": [
    "The data Dimension is **6.362.620,00** rows and 11 columns, due hardware limitations, we will need to get a smaller sample from this data"
   ]
  },
  {
   "cell_type": "code",
   "execution_count": 128,
   "metadata": {
    "ExecuteTime": {
     "end_time": "2020-11-11T02:13:50.313271Z",
     "start_time": "2020-11-11T02:13:50.198012Z"
    }
   },
   "outputs": [
    {
     "name": "stdout",
     "output_type": "stream",
     "text": [
      "The fraud percentual is 0.12908204481801522%\n"
     ]
    }
   ],
   "source": [
    "perc = df1['is_fraud'][(df1['is_fraud']==1)].sum() /  df1['is_fraud'].count()\n",
    "print('The fraud percentual is {}%'.format(perc*100))\n"
   ]
  },
  {
   "cell_type": "code",
   "execution_count": 129,
   "metadata": {
    "ExecuteTime": {
     "end_time": "2020-11-11T02:13:53.327811Z",
     "start_time": "2020-11-11T02:13:50.315945Z"
    }
   },
   "outputs": [],
   "source": [
    "sample_df = df1.groupby('is_fraud').apply(lambda x: x.sample(frac=0.12908204481801522))\n",
    "df1 = sample_df"
   ]
  },
  {
   "cell_type": "code",
   "execution_count": 130,
   "metadata": {
    "ExecuteTime": {
     "end_time": "2020-11-11T02:13:53.341217Z",
     "start_time": "2020-11-11T02:13:53.330541Z"
    }
   },
   "outputs": [
    {
     "name": "stdout",
     "output_type": "stream",
     "text": [
      "The new number of rows is 821300\n",
      "The new number of columns 11\n",
      "The fraud percentual is 0.12906367953244854%\n"
     ]
    }
   ],
   "source": [
    "perc = df1['is_fraud'][(df1['is_fraud']==1)].sum() /  df1['is_fraud'].count()\n",
    "print(f'The new number of rows is {df1.shape[0]}')\n",
    "print(f'The new number of columns {df1.shape[1]}')\n",
    "print('The fraud percentual is {}%'.format(perc*100))\n"
   ]
  },
  {
   "cell_type": "markdown",
   "metadata": {},
   "source": [
    "## Data Type"
   ]
  },
  {
   "cell_type": "code",
   "execution_count": 131,
   "metadata": {
    "ExecuteTime": {
     "end_time": "2020-11-11T02:13:53.574329Z",
     "start_time": "2020-11-11T02:13:53.343724Z"
    }
   },
   "outputs": [],
   "source": [
    "df2 = df1.copy()"
   ]
  },
  {
   "cell_type": "code",
   "execution_count": 132,
   "metadata": {
    "ExecuteTime": {
     "end_time": "2020-11-11T02:13:53.584030Z",
     "start_time": "2020-11-11T02:13:53.576785Z"
    }
   },
   "outputs": [
    {
     "data": {
      "text/plain": [
       "step                  int64\n",
       "type                 object\n",
       "amount              float64\n",
       "name_orig            object\n",
       "oldbalance_org      float64\n",
       "newbalance_orig     float64\n",
       "name_dest            object\n",
       "oldbalance_dest     float64\n",
       "newbalance_dest     float64\n",
       "is_fraud              int64\n",
       "is_flagged_fraud      int64\n",
       "dtype: object"
      ]
     },
     "execution_count": 132,
     "metadata": {},
     "output_type": "execute_result"
    }
   ],
   "source": [
    "df1.dtypes"
   ]
  },
  {
   "cell_type": "markdown",
   "metadata": {},
   "source": [
    "##  Check NA"
   ]
  },
  {
   "cell_type": "code",
   "execution_count": 133,
   "metadata": {
    "ExecuteTime": {
     "end_time": "2020-11-11T02:13:53.668740Z",
     "start_time": "2020-11-11T02:13:53.586499Z"
    }
   },
   "outputs": [],
   "source": [
    "#there isn't NA values"
   ]
  },
  {
   "cell_type": "code",
   "execution_count": 134,
   "metadata": {
    "ExecuteTime": {
     "end_time": "2020-11-11T02:13:54.142042Z",
     "start_time": "2020-11-11T02:13:53.672728Z"
    }
   },
   "outputs": [
    {
     "data": {
      "text/plain": [
       "step                0\n",
       "type                0\n",
       "amount              0\n",
       "name_orig           0\n",
       "oldbalance_org      0\n",
       "newbalance_orig     0\n",
       "name_dest           0\n",
       "oldbalance_dest     0\n",
       "newbalance_dest     0\n",
       "is_fraud            0\n",
       "is_flagged_fraud    0\n",
       "dtype: int64"
      ]
     },
     "execution_count": 134,
     "metadata": {},
     "output_type": "execute_result"
    }
   ],
   "source": [
    "df2.isna().sum()"
   ]
  },
  {
   "cell_type": "markdown",
   "metadata": {},
   "source": [
    "##  Descriptive Statistics\n"
   ]
  },
  {
   "cell_type": "code",
   "execution_count": 135,
   "metadata": {
    "ExecuteTime": {
     "end_time": "2020-11-11T02:13:54.451811Z",
     "start_time": "2020-11-11T02:13:54.145812Z"
    }
   },
   "outputs": [],
   "source": [
    "num_attributes = df1.select_dtypes(include=['int64','float64'])\n",
    "cat_attributes = df1['type']"
   ]
  },
  {
   "cell_type": "markdown",
   "metadata": {},
   "source": [
    "##  Attributes"
   ]
  },
  {
   "cell_type": "code",
   "execution_count": 136,
   "metadata": {
    "ExecuteTime": {
     "end_time": "2020-11-11T02:13:56.624833Z",
     "start_time": "2020-11-11T02:13:54.454900Z"
    }
   },
   "outputs": [],
   "source": [
    "# Central Tendency - mean, meadina \n",
    "ct1 = pd.DataFrame( num_attributes.apply( np.mean ) ).T\n",
    "ct2 = pd.DataFrame( num_attributes.apply( np.median ) ).T\n",
    "\n",
    "# dispersion - std, min, max, range, skew, kurtosis\n",
    "d1 = pd.DataFrame( num_attributes.apply( np.std ) ).T \n",
    "d2 = pd.DataFrame( num_attributes.apply( min ) ).T \n",
    "d3 = pd.DataFrame( num_attributes.apply( max ) ).T \n",
    "d4 = pd.DataFrame( num_attributes.apply( lambda x: x.max() - x.min() ) ).T \n",
    "d5 = pd.DataFrame( num_attributes.apply( lambda x: x.skew() ) ).T \n",
    "d6 = pd.DataFrame( num_attributes.apply( lambda x: x.kurtosis() ) ).T \n",
    "\n",
    "# concatenar\n",
    "metrics = pd.concat( [d2, d3, d4, ct1, ct2, d1, d5, d6] ).T.reset_index()\n",
    "metrics.columns = ['attributes', 'min', 'max', 'range', 'mean', 'median', 'std', 'skew', 'kurtosis']"
   ]
  },
  {
   "cell_type": "code",
   "execution_count": 137,
   "metadata": {
    "ExecuteTime": {
     "end_time": "2020-11-11T02:13:56.646917Z",
     "start_time": "2020-11-11T02:13:56.627428Z"
    }
   },
   "outputs": [
    {
     "data": {
      "text/html": [
       "<div>\n",
       "<style scoped>\n",
       "    .dataframe tbody tr th:only-of-type {\n",
       "        vertical-align: middle;\n",
       "    }\n",
       "\n",
       "    .dataframe tbody tr th {\n",
       "        vertical-align: top;\n",
       "    }\n",
       "\n",
       "    .dataframe thead th {\n",
       "        text-align: right;\n",
       "    }\n",
       "</style>\n",
       "<table border=\"1\" class=\"dataframe\">\n",
       "  <thead>\n",
       "    <tr style=\"text-align: right;\">\n",
       "      <th></th>\n",
       "      <th>attributes</th>\n",
       "      <th>min</th>\n",
       "      <th>max</th>\n",
       "      <th>range</th>\n",
       "      <th>mean</th>\n",
       "      <th>median</th>\n",
       "      <th>std</th>\n",
       "      <th>skew</th>\n",
       "      <th>kurtosis</th>\n",
       "    </tr>\n",
       "  </thead>\n",
       "  <tbody>\n",
       "    <tr>\n",
       "      <th>0</th>\n",
       "      <td>step</td>\n",
       "      <td>1.0</td>\n",
       "      <td>7.430000e+02</td>\n",
       "      <td>7.420000e+02</td>\n",
       "      <td>2.434043e+02</td>\n",
       "      <td>239.00</td>\n",
       "      <td>1.425247e+02</td>\n",
       "      <td>0.378526</td>\n",
       "      <td>0.331285</td>\n",
       "    </tr>\n",
       "    <tr>\n",
       "      <th>1</th>\n",
       "      <td>amount</td>\n",
       "      <td>0.0</td>\n",
       "      <td>6.423445e+07</td>\n",
       "      <td>6.423445e+07</td>\n",
       "      <td>1.797115e+05</td>\n",
       "      <td>74636.44</td>\n",
       "      <td>6.083778e+05</td>\n",
       "      <td>31.244924</td>\n",
       "      <td>1759.562072</td>\n",
       "    </tr>\n",
       "    <tr>\n",
       "      <th>2</th>\n",
       "      <td>oldbalance_org</td>\n",
       "      <td>0.0</td>\n",
       "      <td>4.958504e+07</td>\n",
       "      <td>4.958504e+07</td>\n",
       "      <td>8.348352e+05</td>\n",
       "      <td>14360.00</td>\n",
       "      <td>2.893453e+06</td>\n",
       "      <td>5.262056</td>\n",
       "      <td>33.146783</td>\n",
       "    </tr>\n",
       "    <tr>\n",
       "      <th>3</th>\n",
       "      <td>newbalance_orig</td>\n",
       "      <td>0.0</td>\n",
       "      <td>3.958504e+07</td>\n",
       "      <td>3.958504e+07</td>\n",
       "      <td>8.563039e+05</td>\n",
       "      <td>0.00</td>\n",
       "      <td>2.929344e+06</td>\n",
       "      <td>5.189490</td>\n",
       "      <td>32.251639</td>\n",
       "    </tr>\n",
       "    <tr>\n",
       "      <th>4</th>\n",
       "      <td>oldbalance_dest</td>\n",
       "      <td>0.0</td>\n",
       "      <td>3.278278e+08</td>\n",
       "      <td>3.278278e+08</td>\n",
       "      <td>1.096193e+06</td>\n",
       "      <td>131680.23</td>\n",
       "      <td>3.426629e+06</td>\n",
       "      <td>20.603237</td>\n",
       "      <td>979.555097</td>\n",
       "    </tr>\n",
       "    <tr>\n",
       "      <th>5</th>\n",
       "      <td>newbalance_dest</td>\n",
       "      <td>0.0</td>\n",
       "      <td>3.278521e+08</td>\n",
       "      <td>3.278521e+08</td>\n",
       "      <td>1.220270e+06</td>\n",
       "      <td>212611.90</td>\n",
       "      <td>3.721700e+06</td>\n",
       "      <td>20.459884</td>\n",
       "      <td>934.788424</td>\n",
       "    </tr>\n",
       "    <tr>\n",
       "      <th>6</th>\n",
       "      <td>is_fraud</td>\n",
       "      <td>0.0</td>\n",
       "      <td>1.000000e+00</td>\n",
       "      <td>1.000000e+00</td>\n",
       "      <td>1.290637e-03</td>\n",
       "      <td>0.00</td>\n",
       "      <td>3.590224e-02</td>\n",
       "      <td>27.781566</td>\n",
       "      <td>769.817307</td>\n",
       "    </tr>\n",
       "    <tr>\n",
       "      <th>7</th>\n",
       "      <td>is_flagged_fraud</td>\n",
       "      <td>0.0</td>\n",
       "      <td>1.000000e+00</td>\n",
       "      <td>1.000000e+00</td>\n",
       "      <td>3.652746e-06</td>\n",
       "      <td>0.00</td>\n",
       "      <td>1.911212e-03</td>\n",
       "      <td>523.225254</td>\n",
       "      <td>273763.333321</td>\n",
       "    </tr>\n",
       "  </tbody>\n",
       "</table>\n",
       "</div>"
      ],
      "text/plain": [
       "         attributes  min           max         range          mean     median  \\\n",
       "0              step  1.0  7.430000e+02  7.420000e+02  2.434043e+02     239.00   \n",
       "1            amount  0.0  6.423445e+07  6.423445e+07  1.797115e+05   74636.44   \n",
       "2    oldbalance_org  0.0  4.958504e+07  4.958504e+07  8.348352e+05   14360.00   \n",
       "3   newbalance_orig  0.0  3.958504e+07  3.958504e+07  8.563039e+05       0.00   \n",
       "4   oldbalance_dest  0.0  3.278278e+08  3.278278e+08  1.096193e+06  131680.23   \n",
       "5   newbalance_dest  0.0  3.278521e+08  3.278521e+08  1.220270e+06  212611.90   \n",
       "6          is_fraud  0.0  1.000000e+00  1.000000e+00  1.290637e-03       0.00   \n",
       "7  is_flagged_fraud  0.0  1.000000e+00  1.000000e+00  3.652746e-06       0.00   \n",
       "\n",
       "            std        skew       kurtosis  \n",
       "0  1.425247e+02    0.378526       0.331285  \n",
       "1  6.083778e+05   31.244924    1759.562072  \n",
       "2  2.893453e+06    5.262056      33.146783  \n",
       "3  2.929344e+06    5.189490      32.251639  \n",
       "4  3.426629e+06   20.603237     979.555097  \n",
       "5  3.721700e+06   20.459884     934.788424  \n",
       "6  3.590224e-02   27.781566     769.817307  \n",
       "7  1.911212e-03  523.225254  273763.333321  "
      ]
     },
     "execution_count": 137,
     "metadata": {},
     "output_type": "execute_result"
    }
   ],
   "source": [
    "metrics"
   ]
  },
  {
   "cell_type": "markdown",
   "metadata": {},
   "source": [
    "## Categorical attributes and variable filter "
   ]
  },
  {
   "cell_type": "code",
   "execution_count": 138,
   "metadata": {
    "ExecuteTime": {
     "end_time": "2020-11-11T02:13:56.824755Z",
     "start_time": "2020-11-11T02:13:56.649142Z"
    }
   },
   "outputs": [
    {
     "data": {
      "text/plain": [
       "is_fraud         \n",
       "0         214723      CASH_IN\n",
       "          3294482    TRANSFER\n",
       "          3377870    CASH_OUT\n",
       "          2790593     PAYMENT\n",
       "          5106342       DEBIT\n",
       "Name: type, dtype: object"
      ]
     },
     "execution_count": 138,
     "metadata": {},
     "output_type": "execute_result"
    }
   ],
   "source": [
    "cat_attributes = cat_attributes.drop_duplicates()\n",
    "cat_attributes.head()"
   ]
  },
  {
   "cell_type": "code",
   "execution_count": 139,
   "metadata": {
    "ExecuteTime": {
     "end_time": "2020-11-11T02:13:57.350580Z",
     "start_time": "2020-11-11T02:13:56.827467Z"
    }
   },
   "outputs": [],
   "source": [
    "a1 = df2['type'][(df2['type']=='PAYMENT') & (df2['is_fraud']==1)].count()\n",
    "a2 = df2['type'][(df2['type']=='TRANSFER') & (df2['is_fraud']==1)].count()\n",
    "a3 = df2['type'][(df2['type']=='CASH_OUT') & (df2['is_fraud']==1)].count()\n",
    "a4 = df2['type'][(df2['type']=='DEBIT') & (df2['is_fraud']==1)].count()\n",
    "a5 = df2['type'][(df2['type']=='CASH_IN') & (df2['is_fraud']==1)].count()\n",
    "a6 = df2['type'][(df2['is_fraud']==1)].count()"
   ]
  },
  {
   "cell_type": "code",
   "execution_count": 140,
   "metadata": {
    "ExecuteTime": {
     "end_time": "2020-11-11T02:13:57.358246Z",
     "start_time": "2020-11-11T02:13:57.353585Z"
    }
   },
   "outputs": [
    {
     "name": "stdout",
     "output_type": "stream",
     "text": [
      "Payment 0. Transfer 519. Cash_out 541 . Debit 0 . Cash_in 0. Total 1060\n"
     ]
    }
   ],
   "source": [
    "print('Payment {}. Transfer {}. Cash_out {} . Debit {} . Cash_in {}. Total {}'.format(a1,a2,a3,a4,a5,a6) )"
   ]
  },
  {
   "cell_type": "markdown",
   "metadata": {},
   "source": [
    "## Deleting not useful types"
   ]
  },
  {
   "cell_type": "markdown",
   "metadata": {},
   "source": [
    "There is not any fraud example in Payments, Cash_in and Debit, based on that, we will drop these types of transactions from the data frame"
   ]
  },
  {
   "cell_type": "code",
   "execution_count": 141,
   "metadata": {
    "ExecuteTime": {
     "end_time": "2020-11-11T02:13:58.123939Z",
     "start_time": "2020-11-11T02:13:57.361757Z"
    }
   },
   "outputs": [],
   "source": [
    "df2 = df2[(df2.type != 'PAYMENT') & (df2.type != 'DEBIT') & (df2.type != 'CASH_IN') ]"
   ]
  },
  {
   "cell_type": "markdown",
   "metadata": {},
   "source": [
    "# Feature Engineering"
   ]
  },
  {
   "cell_type": "code",
   "execution_count": null,
   "metadata": {},
   "outputs": [],
   "source": []
  },
  {
   "cell_type": "code",
   "execution_count": 142,
   "metadata": {
    "ExecuteTime": {
     "end_time": "2020-11-11T02:13:58.238612Z",
     "start_time": "2020-11-11T02:13:58.139039Z"
    }
   },
   "outputs": [],
   "source": [
    "df2 = df1.copy()"
   ]
  },
  {
   "cell_type": "markdown",
   "metadata": {},
   "source": [
    "##  Mapa de hipóteses"
   ]
  },
  {
   "cell_type": "code",
   "execution_count": null,
   "metadata": {},
   "outputs": [],
   "source": []
  },
  {
   "cell_type": "code",
   "execution_count": 143,
   "metadata": {
    "ExecuteTime": {
     "end_time": "2020-11-11T02:13:58.306761Z",
     "start_time": "2020-11-11T02:13:58.244852Z"
    }
   },
   "outputs": [
    {
     "data": {
      "image/png": "[encoded data removed]",
      "text/plain": [
       "<IPython.core.display.Image object>"
      ]
     },
     "execution_count": 143,
     "metadata": {},
     "output_type": "execute_result"
    }
   ],
   "source": [
    "Image('img/Fraud_detection.png')"
   ]
  },
  {
   "cell_type": "markdown",
   "metadata": {},
   "source": [
    "##  Criação de Hipóteses"
   ]
  },
  {
   "cell_type": "code",
   "execution_count": null,
   "metadata": {},
   "outputs": [],
   "source": []
  },
  {
   "cell_type": "code",
   "execution_count": null,
   "metadata": {},
   "outputs": [],
   "source": []
  },
  {
   "cell_type": "code",
   "execution_count": 144,
   "metadata": {
    "ExecuteTime": {
     "end_time": "2020-11-11T02:13:58.353148Z",
     "start_time": "2020-11-11T02:13:58.312093Z"
    }
   },
   "outputs": [],
   "source": [
    "#2.2.1 Hipóteses de transação"
   ]
  },
  {
   "cell_type": "code",
   "execution_count": null,
   "metadata": {},
   "outputs": [],
   "source": []
  },
  {
   "cell_type": "code",
   "execution_count": 145,
   "metadata": {
    "ExecuteTime": {
     "end_time": "2020-11-11T02:13:58.412435Z",
     "start_time": "2020-11-11T02:13:58.356217Z"
    }
   },
   "outputs": [],
   "source": [
    "#2.2.2 Hipóteses de Cliente"
   ]
  },
  {
   "cell_type": "code",
   "execution_count": null,
   "metadata": {},
   "outputs": [],
   "source": []
  },
  {
   "cell_type": "code",
   "execution_count": 146,
   "metadata": {
    "ExecuteTime": {
     "end_time": "2020-11-11T02:13:58.478703Z",
     "start_time": "2020-11-11T02:13:58.415725Z"
    }
   },
   "outputs": [],
   "source": [
    "#2.2.3 Hipótese de tipos de transações"
   ]
  }
 ],
 "metadata": {
  "kernelspec": {
   "display_name": "Python 3",
   "language": "python",
   "name": "python3"
  },
  "language_info": {
   "codemirror_mode": {
    "name": "ipython",
    "version": 3
   },
   "file_extension": ".py",
   "mimetype": "text/x-python",
   "name": "python",
   "nbconvert_exporter": "python",
   "pygments_lexer": "ipython3",
   "version": "3.8.5"
  },
  "toc": {
   "base_numbering": 1,
   "nav_menu": {},
   "number_sections": true,
   "sideBar": true,
   "skip_h1_title": false,
   "title_cell": "Table of Contents",
   "title_sidebar": "Contents",
   "toc_cell": false,
   "toc_position": {},
   "toc_section_display": true,
   "toc_window_display": false
  },
  "varInspector": {
   "cols": {
    "lenName": 16,
    "lenType": 16,
    "lenVar": 40
   },
   "kernels_config": {
    "python": {
     "delete_cmd_postfix": "",
     "delete_cmd_prefix": "del ",
     "library": "var_list.py",
     "varRefreshCmd": "print(var_dic_list())"
    },
    "r": {
     "delete_cmd_postfix": ") ",
     "delete_cmd_prefix": "rm(",
     "library": "var_list.r",
     "varRefreshCmd": "cat(var_dic_list()) "
    }
   },
   "types_to_exclude": [
    "module",
    "function",
    "builtin_function_or_method",
    "instance",
    "_Feature"
   ],
   "window_display": false
  }
 },
 "nbformat": 4,
 "nbformat_minor": 4
}
