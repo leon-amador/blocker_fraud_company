{
 "cells": [
  {
   "cell_type": "markdown",
   "metadata": {},
   "source": [
    "**Challenge description**\n",
    "\n",
    "\n",
    "The purpose of this project is creating a model of high precision and accuracy in detecting fraud of transactions made through mobile devices.\n",
    "\n",
    "At the end of the project the CEO of Blocker Fraud Company will have a model in production capable of send transactions by API and it will classifies them as fraudulent or legitimate.\n",
    "\n",
    "In addition, there is going to be a  report reporting  model's performance and results in relation to the profit and loss that the company will have when using the model you produced. The main subjects will contain the answers to the following questions:\n",
    "\n",
    "    1- What is the Precision and Accuracy of the model?\n",
    "    2- How Reliable is the model in classifying transactions as legitimate or fraudulent?\n",
    "    3- What is the Expected Billing by the Company if we classify 100% of the transactions with the model?\n",
    "    4- What is the Loss Expected by the Company in case of model failure?\n",
    "    5- What is the Profit Expected by the Blocker Fraud Company when using the model?"
   ]
  },
  {
   "cell_type": "markdown",
   "metadata": {
    "heading_collapsed": true
   },
   "source": [
    "#  1. INTRODUCTION"
   ]
  },
  {
   "cell_type": "markdown",
   "metadata": {
    "heading_collapsed": true,
    "hidden": true
   },
   "source": [
    "## 1.1 Data Dictionary"
   ]
  },
  {
   "cell_type": "markdown",
   "metadata": {
    "ExecuteTime": {
     "end_time": "2020-11-10T14:31:25.597341Z",
     "start_time": "2020-11-10T14:31:25.587433Z"
    },
    "hidden": true
   },
   "source": [
    "Source data set: https://www.kaggle.com/ntnu-testimon/paysim1\n",
    "\n",
    "| Feature        | Description                                                                                                                                                                                                                                                                                           |\n",
    "|:----------------|:-------------------------------------------------------------------------------------------------------------------------------------------------------------------------------------------------------------------------------------------------------------------------------------------------------|\n",
    "| step           | maps a unit of time in the real world\\. In this case 1 step is 1 hour of time\\. Total steps 744 \\(30 days simulation\\)\\.                                                                                                                                                                              |\n",
    "| type           | Transaction type \\(CASH\\-IN, CASH\\-OUT, DEBIT, PAYMENT and TRANSFER\\)                                                                                                                                                                                                                                 |\n",
    "| amount         | amount of the transaction in local currency                                                                                                                                                                                                                                                           |\n",
    "| nameOrig       | customer who started the transaction                                                                                                                                                                                                                                                                  |\n",
    "| oldbalanceOrg  | initial balance before the transaction                                                                                                                                                                                                                                                                |\n",
    "| newbalanceOrig | new balance after the transaction                                                                                                                                                                                                                                                                     |\n",
    "| nameDest       | customer who is the recipient of the transaction                                                                                                                                                                                                                                                      |\n",
    "| oldbalanceDest | initial balance recipient before the transaction\\. Note that there is not information for customers that start with M \\(Merchants\\)                                                                                                                                                                   |\n",
    "| newbalanceDest | new balance recipient after the transaction\\. Note that there is not information for customers that start with M \\(Merchants\\)                                                                                                                                                                        |\n",
    "| isFraud        | This is the transactions made by the fraudulent agents inside the simulation\\. In this specific dataset the fraudulent behavior of the agents aims to profit by taking control or customers accounts and try to empty the funds by transferring to another account and then cashing out of the system |\n",
    "| isFlaggedFraud | The business model aims to control massive transfers from one account to another and flags illegal attempts\\. An illegal attempt in this dataset is an attempt to transfer more than 200K in a single transaction                                                                                 |\n"
   ]
  },
  {
   "cell_type": "markdown",
   "metadata": {
    "hidden": true
   },
   "source": [
    "## 1.2 IMPORTS"
   ]
  },
  {
   "cell_type": "code",
   "execution_count": 92,
   "metadata": {
    "ExecuteTime": {
     "end_time": "2020-11-13T16:53:56.811602Z",
     "start_time": "2020-11-13T16:53:56.587970Z"
    },
    "hidden": true
   },
   "outputs": [],
   "source": [
    "# general libraries \n",
    "import math\n",
    "import numpy  as np\n",
    "import pandas as pd\n",
    "import random as rd\n",
    "\n",
    "\n",
    "\n",
    "#altering texts\n",
    "import inflection\n",
    "\n",
    "#creating and configuring graphics\n",
    "import seaborn as sns\n",
    "from matplotlib            import pyplot as plt\n",
    "from IPython.display       import Image\n",
    "from IPython.core.display  import HTML\n",
    "\n",
    "\n",
    "#data selection and algorithm  \n",
    "import xgboost as xgb\n",
    "from scipy                   import stats  as ss\n",
    "from boruta                  import BorutaPy\n",
    "from sklearn.metrics         import mean_absolute_error, mean_squared_error\n",
    "from sklearn.ensemble        import RandomForestRegressor\n",
    "from sklearn.linear_model    import LinearRegression, Lasso\n",
    "from sklearn.preprocessing   import RobustScaler, MinMaxScaler, LabelEncoder\n",
    "from sklearn                 import datasets, linear_model\n",
    "from sklearn.model_selection import train_test_split\n",
    "\n",
    "#others\n",
    "import warnings\n",
    "warnings.filterwarnings( 'ignore' )\n",
    "\n",
    "#API \n",
    "from flask import Flask, request, Response"
   ]
  },
  {
   "cell_type": "markdown",
   "metadata": {
    "heading_collapsed": true,
    "hidden": true
   },
   "source": [
    "##  1.3 Helper Functions"
   ]
  },
  {
   "cell_type": "code",
   "execution_count": 2,
   "metadata": {
    "ExecuteTime": {
     "end_time": "2020-11-12T16:36:31.740926Z",
     "start_time": "2020-11-12T16:36:31.642040Z"
    },
    "hidden": true
   },
   "outputs": [],
   "source": [
    "def jupyter_settings():\n",
    "    %matplotlib inline\n",
    "    %pylab inline\n",
    "    \n",
    "    plt.style.use( 'bmh' )\n",
    "    plt.rcParams['figure.figsize'] = [25, 12]\n",
    "    plt.rcParams['font.size'] = 24\n",
    "    \n",
    "    display( HTML( '<style>.container { width:100% !important; }</style>') )\n",
    "    pd.options.display.max_columns = None\n",
    "    pd.options.display.max_rows = None\n",
    "    pd.set_option( 'display.expand_frame_repr', False )\n",
    "    \n",
    "    sns.set()\n",
    "    \n",
    "    \n",
    "    \n",
    "def cramer_v(x,y):\n",
    "    cm = pd.crosstab(x, y).values\n",
    "    chi2 = ss.chi2_contingency(cm)[0]\n",
    "    n = cm.sum()\n",
    "    r,k = cm.shape\n",
    "    chi2corr = max(0,chi2 - (((k-1)*(r-1))/(n-1)))\n",
    "    kcorr = k - (k-1)**2/(n-1)\n",
    "    rcorr = r - (r-1)**2/(n-1)\n",
    "    v = np.sqrt( (chi2corr/n) / (min (kcorr-1,rcorr-1) ) )\n",
    "    return v\n",
    "\n",
    "\n",
    "    \n",
    "def reduce_mem_usage(df):\n",
    "    \"\"\" \n",
    "    iterate through all the columns of a dataframe and \n",
    "    modify the data type to reduce memory usage.        \n",
    "    \"\"\"\n",
    "    start_mem = df.memory_usage().sum() / 1024**2\n",
    "    print(('Memory usage of dataframe is {:.2f}' \n",
    "                     'MB').format(start_mem))\n",
    "    \n",
    "    for col in df.columns:\n",
    "        col_type = df[col].dtype\n",
    "        \n",
    "        if col_type != object:\n",
    "            c_min = df[col].min()\n",
    "            c_max = df[col].max()\n",
    "            if str(col_type)[:3] == 'int':\n",
    "                if c_min > np.iinfo(np.int8).min and c_max <\\\n",
    "                  np.iinfo(np.int8).max:\n",
    "                    df[col] = df[col].astype(np.int8)\n",
    "                elif c_min > np.iinfo(np.int16).min and c_max <\\\n",
    "                   np.iinfo(np.int16).max:\n",
    "                    df[col] = df[col].astype(np.int16)\n",
    "                elif c_min > np.iinfo(np.int32).min and c_max <\\\n",
    "                   np.iinfo(np.int32).max:\n",
    "                    df[col] = df[col].astype(np.int32)\n",
    "                elif c_min > np.iinfo(np.int64).min and c_max <\\\n",
    "                   np.iinfo(np.int64).max:\n",
    "                    df[col] = df[col].astype(np.int64)  \n",
    "            else:\n",
    "                if c_min > np.finfo(np.float16).min and c_max <\\\n",
    "                   np.finfo(np.float16).max:\n",
    "                    df[col] = df[col].astype(np.float16)\n",
    "                elif c_min > np.finfo(np.float32).min and c_max <\\\n",
    "                   np.finfo(np.float32).max:\n",
    "                    df[col] = df[col].astype(np.float32)\n",
    "                else:\n",
    "                    df[col] = df[col].astype(np.float64)\n",
    "        else:\n",
    "            df[col] = df[col].astype('category')    \n",
    "            end_mem = df.memory_usage().sum() / 1024**2\n",
    "    print(('Memory usage after optimization is: {:.2f}' \n",
    "                              'MB').format(end_mem))\n",
    "    print('Decreased by {:.1f}%'.format(100 * (start_mem - end_mem) \n",
    "                                             / start_mem))\n",
    "    \n",
    "    return df  \n",
    "\n",
    "\n",
    "def ml_error(model_name,y,yhat):\n",
    "    \n",
    "    mae = mean_absolute_error(y,yhat)\n",
    "    mape = mean_absolute_percentage_error(y,yhat)\n",
    "    rmse = np.sqrt(mean_squared_error(y,yhat))\n",
    "    return pd.DataFrame({'Model Name': model_name,\n",
    "                         'MAE': mae,\n",
    "                         'MAPE': mape,\n",
    "                          'RMSE':rmse},index=[0])\n",
    "\n",
    "def mean_absolute_percentage_error(y, yhat):\n",
    "   return np.mean( np.abs((y-yhat)/y))\n",
    "\n",
    "def mean_percentage_error( y, yhat ):\n",
    "    return np.mean( ( y - yhat ) / y )\n",
    "\n",
    "\n",
    "def cross_validation( x_training, kfold, model_name, model, verbose=False ):\n",
    "    mae_list = []\n",
    "    mape_list = []\n",
    "    rmse_list = []\n",
    "    for k in reversed( range( 1, kfold+1 ) ):\n",
    "        if verbose:\n",
    "            print( '\\nKFold Number: {}'.format( k ) )\n",
    "        # start and end date for validation \n",
    "        validation_start_date = x_training['date'].max() - datetime.timedelta( days=k*6*7)\n",
    "        validation_end_date = x_training['date'].max() - datetime.timedelta( days=(k-1)*6*7)\n",
    "\n",
    "        # filtering dataset\n",
    "        training = x_training[x_training['date'] < validation_start_date]\n",
    "        validation = x_training[(x_training['date'] >= validation_start_date) & (x_training['date'] <= validation_end_date)]\n",
    "\n",
    "        # training and validation dataset\n",
    "        # training\n",
    "        xtraining = training.drop( ['date', 'sales'], axis=1 ) \n",
    "        ytraining = training['sales']\n",
    "\n",
    "        # validation\n",
    "        xvalidation = validation.drop( ['date', 'sales'], axis=1 )\n",
    "        yvalidation = validation['sales']\n",
    "\n",
    "        # model\n",
    "        m = model.fit( xtraining, ytraining )\n",
    "\n",
    "        # prediction\n",
    "        yhat = m.predict( xvalidation )\n",
    "\n",
    "        # performance\n",
    "        m_result = ml_error( model_name, np.expm1( yvalidation ), np.expm1( yhat ) )\n",
    "\n",
    "        # store performance of each kfold iteration\n",
    "        mae_list.append(  m_result['MAE'] )\n",
    "        mape_list.append( m_result['MAPE'] )\n",
    "        rmse_list.append( m_result['RMSE'] )\n",
    "\n",
    "    return pd.DataFrame( {'Model Name': model_name,\n",
    "                          'MAE CV': np.round( np.mean( mae_list ), 2 ).astype( str ) + ' +/- ' + np.round( np.std( mae_list ), 2 ).astype( str ),\n",
    "                          'MAPE CV': np.round( np.mean( mape_list ), 2 ).astype( str ) + ' +/- ' + np.round( np.std( mape_list ), 2 ).astype( str ),\n",
    "                          'RMSE CV': np.round( np.mean( rmse_list ), 2 ).astype( str ) + ' +/- ' + np.round( np.std( rmse_list ), 2 ).astype( str ) }, index=[0] )\n"
   ]
  },
  {
   "cell_type": "markdown",
   "metadata": {
    "heading_collapsed": true,
    "hidden": true
   },
   "source": [
    "## 1.4 Loading Data"
   ]
  },
  {
   "cell_type": "code",
   "execution_count": 3,
   "metadata": {
    "ExecuteTime": {
     "end_time": "2020-11-12T16:36:51.749846Z",
     "start_time": "2020-11-12T16:36:31.744762Z"
    },
    "hidden": true
   },
   "outputs": [],
   "source": [
    "df_raw = pd.read_csv('data/train.csv')"
   ]
  },
  {
   "cell_type": "markdown",
   "metadata": {
    "heading_collapsed": true
   },
   "source": [
    "# 2.0 Data Description"
   ]
  },
  {
   "cell_type": "code",
   "execution_count": 4,
   "metadata": {
    "ExecuteTime": {
     "end_time": "2020-11-12T16:36:52.283874Z",
     "start_time": "2020-11-12T16:36:51.754324Z"
    },
    "hidden": true
   },
   "outputs": [],
   "source": [
    "df1 = df_raw.copy()"
   ]
  },
  {
   "cell_type": "markdown",
   "metadata": {
    "heading_collapsed": true,
    "hidden": true
   },
   "source": [
    "##  2.1 Rename Columns"
   ]
  },
  {
   "cell_type": "code",
   "execution_count": 5,
   "metadata": {
    "ExecuteTime": {
     "end_time": "2020-11-12T16:36:52.291160Z",
     "start_time": "2020-11-12T16:36:52.287019Z"
    },
    "hidden": true
   },
   "outputs": [],
   "source": [
    "cols_old = ['step', 'type', 'amount', 'nameOrig', 'oldbalanceOrg', 'newbalanceOrig',\n",
    "       'nameDest', 'oldbalanceDest', 'newbalanceDest', 'isFraud',\n",
    "       'isFlaggedFraud']"
   ]
  },
  {
   "cell_type": "code",
   "execution_count": 6,
   "metadata": {
    "ExecuteTime": {
     "end_time": "2020-11-12T16:36:52.357188Z",
     "start_time": "2020-11-12T16:36:52.294422Z"
    },
    "hidden": true
   },
   "outputs": [],
   "source": [
    "snakecase = lambda x: inflection.underscore(x)"
   ]
  },
  {
   "cell_type": "code",
   "execution_count": 7,
   "metadata": {
    "ExecuteTime": {
     "end_time": "2020-11-12T16:36:52.425696Z",
     "start_time": "2020-11-12T16:36:52.361487Z"
    },
    "hidden": true
   },
   "outputs": [],
   "source": [
    "cols_new = list(map(snakecase,cols_old))"
   ]
  },
  {
   "cell_type": "code",
   "execution_count": 8,
   "metadata": {
    "ExecuteTime": {
     "end_time": "2020-11-12T16:36:52.491494Z",
     "start_time": "2020-11-12T16:36:52.432674Z"
    },
    "hidden": true
   },
   "outputs": [],
   "source": [
    "df1.columns = cols_new"
   ]
  },
  {
   "cell_type": "markdown",
   "metadata": {
    "heading_collapsed": true,
    "hidden": true
   },
   "source": [
    "## 2.2 Data Dimension and sample choice"
   ]
  },
  {
   "cell_type": "code",
   "execution_count": 9,
   "metadata": {
    "ExecuteTime": {
     "end_time": "2020-11-12T16:36:52.559907Z",
     "start_time": "2020-11-12T16:36:52.497450Z"
    },
    "hidden": true
   },
   "outputs": [
    {
     "name": "stdout",
     "output_type": "stream",
     "text": [
      "Number of rows 6362620\n",
      "Number of columns 11\n"
     ]
    }
   ],
   "source": [
    "print(f'Number of rows {df1.shape[0]}')\n",
    "print(f'Number of columns {df1.shape[1]}')"
   ]
  },
  {
   "cell_type": "markdown",
   "metadata": {
    "hidden": true
   },
   "source": [
    "The data Dimension is **6.362.620,00** rows and 11 columns, due hardware limitations, we will need to get a smaller sample from this data"
   ]
  },
  {
   "cell_type": "code",
   "execution_count": 10,
   "metadata": {
    "ExecuteTime": {
     "end_time": "2020-11-12T16:36:52.730008Z",
     "start_time": "2020-11-12T16:36:52.564079Z"
    },
    "hidden": true
   },
   "outputs": [
    {
     "name": "stdout",
     "output_type": "stream",
     "text": [
      "The fraud percentual is 0.12908204481801522%\n"
     ]
    }
   ],
   "source": [
    "perc = df1['is_fraud'][(df1['is_fraud']==1)].sum() /  df1['is_fraud'].count()\n",
    "print('The fraud percentual is {}%'.format(perc*100))\n"
   ]
  },
  {
   "cell_type": "code",
   "execution_count": 11,
   "metadata": {
    "ExecuteTime": {
     "end_time": "2020-11-12T16:36:56.176505Z",
     "start_time": "2020-11-12T16:36:52.733910Z"
    },
    "hidden": true
   },
   "outputs": [],
   "source": [
    "sample_df = df1.groupby('is_fraud').apply(lambda x: x.sample(frac=0.12908204481801522))\n",
    "df1 = sample_df"
   ]
  },
  {
   "cell_type": "code",
   "execution_count": 12,
   "metadata": {
    "ExecuteTime": {
     "end_time": "2020-11-12T16:36:56.190567Z",
     "start_time": "2020-11-12T16:36:56.179754Z"
    },
    "hidden": true
   },
   "outputs": [
    {
     "name": "stdout",
     "output_type": "stream",
     "text": [
      "The new number of rows is 821300\n",
      "The new number of columns 11\n",
      "The fraud percentual is 0.12906367953244854%\n"
     ]
    }
   ],
   "source": [
    "perc = df1['is_fraud'][(df1['is_fraud']==1)].sum() /  df1['is_fraud'].count()\n",
    "print(f'The new number of rows is {df1.shape[0]}')\n",
    "print(f'The new number of columns {df1.shape[1]}')\n",
    "print('The fraud percentual is {}%'.format(perc*100))\n"
   ]
  },
  {
   "cell_type": "markdown",
   "metadata": {
    "heading_collapsed": true,
    "hidden": true
   },
   "source": [
    "## 2.3 Data Type"
   ]
  },
  {
   "cell_type": "code",
   "execution_count": 13,
   "metadata": {
    "ExecuteTime": {
     "end_time": "2020-11-12T16:36:56.489195Z",
     "start_time": "2020-11-12T16:36:56.193173Z"
    },
    "hidden": true
   },
   "outputs": [],
   "source": [
    "df2 = df1.copy()"
   ]
  },
  {
   "cell_type": "code",
   "execution_count": 14,
   "metadata": {
    "ExecuteTime": {
     "end_time": "2020-11-12T16:36:56.505089Z",
     "start_time": "2020-11-12T16:36:56.492437Z"
    },
    "hidden": true
   },
   "outputs": [
    {
     "data": {
      "text/plain": [
       "step                  int64\n",
       "type                 object\n",
       "amount              float64\n",
       "name_orig            object\n",
       "oldbalance_org      float64\n",
       "newbalance_orig     float64\n",
       "name_dest            object\n",
       "oldbalance_dest     float64\n",
       "newbalance_dest     float64\n",
       "is_fraud              int64\n",
       "is_flagged_fraud      int64\n",
       "dtype: object"
      ]
     },
     "execution_count": 14,
     "metadata": {},
     "output_type": "execute_result"
    }
   ],
   "source": [
    "df1.dtypes"
   ]
  },
  {
   "cell_type": "markdown",
   "metadata": {
    "heading_collapsed": true,
    "hidden": true
   },
   "source": [
    "## 2.4 Check NA"
   ]
  },
  {
   "cell_type": "code",
   "execution_count": 15,
   "metadata": {
    "ExecuteTime": {
     "end_time": "2020-11-12T16:36:56.556684Z",
     "start_time": "2020-11-12T16:36:56.507846Z"
    },
    "hidden": true
   },
   "outputs": [],
   "source": [
    "#there isn't NA values"
   ]
  },
  {
   "cell_type": "code",
   "execution_count": 16,
   "metadata": {
    "ExecuteTime": {
     "end_time": "2020-11-12T16:36:57.117442Z",
     "start_time": "2020-11-12T16:36:56.559515Z"
    },
    "hidden": true
   },
   "outputs": [
    {
     "data": {
      "text/plain": [
       "step                0\n",
       "type                0\n",
       "amount              0\n",
       "name_orig           0\n",
       "oldbalance_org      0\n",
       "newbalance_orig     0\n",
       "name_dest           0\n",
       "oldbalance_dest     0\n",
       "newbalance_dest     0\n",
       "is_fraud            0\n",
       "is_flagged_fraud    0\n",
       "dtype: int64"
      ]
     },
     "execution_count": 16,
     "metadata": {},
     "output_type": "execute_result"
    }
   ],
   "source": [
    "df2.isna().sum()"
   ]
  },
  {
   "cell_type": "markdown",
   "metadata": {
    "heading_collapsed": true,
    "hidden": true
   },
   "source": [
    "## 2.5 Descriptive Statistics\n"
   ]
  },
  {
   "cell_type": "code",
   "execution_count": 17,
   "metadata": {
    "ExecuteTime": {
     "end_time": "2020-11-12T16:36:57.460713Z",
     "start_time": "2020-11-12T16:36:57.120155Z"
    },
    "hidden": true
   },
   "outputs": [],
   "source": [
    "num_attributes = df1.select_dtypes(include=['int64','float64'])\n",
    "cat_attributes = df1['type']"
   ]
  },
  {
   "cell_type": "markdown",
   "metadata": {
    "hidden": true
   },
   "source": [
    "###  Attributes"
   ]
  },
  {
   "cell_type": "code",
   "execution_count": 18,
   "metadata": {
    "ExecuteTime": {
     "end_time": "2020-11-12T16:36:59.869507Z",
     "start_time": "2020-11-12T16:36:57.463307Z"
    },
    "hidden": true
   },
   "outputs": [],
   "source": [
    "# Central Tendency - mean, meadina \n",
    "ct1 = pd.DataFrame( num_attributes.apply( np.mean ) ).T\n",
    "ct2 = pd.DataFrame( num_attributes.apply( np.median ) ).T\n",
    "\n",
    "# dispersion - std, min, max, range, skew, kurtosis\n",
    "d1 = pd.DataFrame( num_attributes.apply( np.std ) ).T \n",
    "d2 = pd.DataFrame( num_attributes.apply( min ) ).T \n",
    "d3 = pd.DataFrame( num_attributes.apply( max ) ).T \n",
    "d4 = pd.DataFrame( num_attributes.apply( lambda x: x.max() - x.min() ) ).T \n",
    "d5 = pd.DataFrame( num_attributes.apply( lambda x: x.skew() ) ).T \n",
    "d6 = pd.DataFrame( num_attributes.apply( lambda x: x.kurtosis() ) ).T \n",
    "\n",
    "# concatenar\n",
    "metrics = pd.concat( [d2, d3, d4, ct1, ct2, d1, d5, d6] ).T.reset_index()\n",
    "metrics.columns = ['attributes', 'min', 'max', 'range', 'mean', 'median', 'std', 'skew', 'kurtosis']"
   ]
  },
  {
   "cell_type": "code",
   "execution_count": 19,
   "metadata": {
    "ExecuteTime": {
     "end_time": "2020-11-12T16:36:59.907580Z",
     "start_time": "2020-11-12T16:36:59.872057Z"
    },
    "hidden": true
   },
   "outputs": [
    {
     "data": {
      "text/html": [
       "<div>\n",
       "<style scoped>\n",
       "    .dataframe tbody tr th:only-of-type {\n",
       "        vertical-align: middle;\n",
       "    }\n",
       "\n",
       "    .dataframe tbody tr th {\n",
       "        vertical-align: top;\n",
       "    }\n",
       "\n",
       "    .dataframe thead th {\n",
       "        text-align: right;\n",
       "    }\n",
       "</style>\n",
       "<table border=\"1\" class=\"dataframe\">\n",
       "  <thead>\n",
       "    <tr style=\"text-align: right;\">\n",
       "      <th></th>\n",
       "      <th>attributes</th>\n",
       "      <th>min</th>\n",
       "      <th>max</th>\n",
       "      <th>range</th>\n",
       "      <th>mean</th>\n",
       "      <th>median</th>\n",
       "      <th>std</th>\n",
       "      <th>skew</th>\n",
       "      <th>kurtosis</th>\n",
       "    </tr>\n",
       "  </thead>\n",
       "  <tbody>\n",
       "    <tr>\n",
       "      <th>0</th>\n",
       "      <td>step</td>\n",
       "      <td>1.0</td>\n",
       "      <td>7.430000e+02</td>\n",
       "      <td>7.420000e+02</td>\n",
       "      <td>2.436616e+02</td>\n",
       "      <td>239.000</td>\n",
       "      <td>1.424490e+02</td>\n",
       "      <td>0.374295</td>\n",
       "      <td>0.327558</td>\n",
       "    </tr>\n",
       "    <tr>\n",
       "      <th>1</th>\n",
       "      <td>amount</td>\n",
       "      <td>0.0</td>\n",
       "      <td>6.933732e+07</td>\n",
       "      <td>6.933732e+07</td>\n",
       "      <td>1.792777e+05</td>\n",
       "      <td>74631.385</td>\n",
       "      <td>5.931612e+05</td>\n",
       "      <td>30.505876</td>\n",
       "      <td>1807.161941</td>\n",
       "    </tr>\n",
       "    <tr>\n",
       "      <th>2</th>\n",
       "      <td>oldbalance_org</td>\n",
       "      <td>0.0</td>\n",
       "      <td>3.825960e+07</td>\n",
       "      <td>3.825960e+07</td>\n",
       "      <td>8.335180e+05</td>\n",
       "      <td>14007.500</td>\n",
       "      <td>2.894253e+06</td>\n",
       "      <td>5.253927</td>\n",
       "      <td>32.919739</td>\n",
       "    </tr>\n",
       "    <tr>\n",
       "      <th>3</th>\n",
       "      <td>newbalance_orig</td>\n",
       "      <td>0.0</td>\n",
       "      <td>3.836475e+07</td>\n",
       "      <td>3.836475e+07</td>\n",
       "      <td>8.548080e+05</td>\n",
       "      <td>0.000</td>\n",
       "      <td>2.930106e+06</td>\n",
       "      <td>5.184171</td>\n",
       "      <td>32.095279</td>\n",
       "    </tr>\n",
       "    <tr>\n",
       "      <th>4</th>\n",
       "      <td>oldbalance_dest</td>\n",
       "      <td>0.0</td>\n",
       "      <td>3.114929e+08</td>\n",
       "      <td>3.114929e+08</td>\n",
       "      <td>1.103484e+06</td>\n",
       "      <td>132672.875</td>\n",
       "      <td>3.349705e+06</td>\n",
       "      <td>17.905345</td>\n",
       "      <td>755.098084</td>\n",
       "    </tr>\n",
       "    <tr>\n",
       "      <th>5</th>\n",
       "      <td>newbalance_dest</td>\n",
       "      <td>0.0</td>\n",
       "      <td>3.278278e+08</td>\n",
       "      <td>3.278278e+08</td>\n",
       "      <td>1.227603e+06</td>\n",
       "      <td>214388.555</td>\n",
       "      <td>3.615759e+06</td>\n",
       "      <td>17.315075</td>\n",
       "      <td>677.330634</td>\n",
       "    </tr>\n",
       "    <tr>\n",
       "      <th>6</th>\n",
       "      <td>is_fraud</td>\n",
       "      <td>0.0</td>\n",
       "      <td>1.000000e+00</td>\n",
       "      <td>1.000000e+00</td>\n",
       "      <td>1.290637e-03</td>\n",
       "      <td>0.000</td>\n",
       "      <td>3.590224e-02</td>\n",
       "      <td>27.781566</td>\n",
       "      <td>769.817307</td>\n",
       "    </tr>\n",
       "    <tr>\n",
       "      <th>7</th>\n",
       "      <td>is_flagged_fraud</td>\n",
       "      <td>0.0</td>\n",
       "      <td>1.000000e+00</td>\n",
       "      <td>1.000000e+00</td>\n",
       "      <td>3.652746e-06</td>\n",
       "      <td>0.000</td>\n",
       "      <td>1.911212e-03</td>\n",
       "      <td>523.225254</td>\n",
       "      <td>273763.333321</td>\n",
       "    </tr>\n",
       "  </tbody>\n",
       "</table>\n",
       "</div>"
      ],
      "text/plain": [
       "         attributes  min           max         range          mean  \\\n",
       "0              step  1.0  7.430000e+02  7.420000e+02  2.436616e+02   \n",
       "1            amount  0.0  6.933732e+07  6.933732e+07  1.792777e+05   \n",
       "2    oldbalance_org  0.0  3.825960e+07  3.825960e+07  8.335180e+05   \n",
       "3   newbalance_orig  0.0  3.836475e+07  3.836475e+07  8.548080e+05   \n",
       "4   oldbalance_dest  0.0  3.114929e+08  3.114929e+08  1.103484e+06   \n",
       "5   newbalance_dest  0.0  3.278278e+08  3.278278e+08  1.227603e+06   \n",
       "6          is_fraud  0.0  1.000000e+00  1.000000e+00  1.290637e-03   \n",
       "7  is_flagged_fraud  0.0  1.000000e+00  1.000000e+00  3.652746e-06   \n",
       "\n",
       "       median           std        skew       kurtosis  \n",
       "0     239.000  1.424490e+02    0.374295       0.327558  \n",
       "1   74631.385  5.931612e+05   30.505876    1807.161941  \n",
       "2   14007.500  2.894253e+06    5.253927      32.919739  \n",
       "3       0.000  2.930106e+06    5.184171      32.095279  \n",
       "4  132672.875  3.349705e+06   17.905345     755.098084  \n",
       "5  214388.555  3.615759e+06   17.315075     677.330634  \n",
       "6       0.000  3.590224e-02   27.781566     769.817307  \n",
       "7       0.000  1.911212e-03  523.225254  273763.333321  "
      ]
     },
     "execution_count": 19,
     "metadata": {},
     "output_type": "execute_result"
    }
   ],
   "source": [
    "metrics"
   ]
  },
  {
   "cell_type": "markdown",
   "metadata": {
    "hidden": true
   },
   "source": [
    "### Categorical attributes and variable filter "
   ]
  },
  {
   "cell_type": "code",
   "execution_count": 20,
   "metadata": {
    "ExecuteTime": {
     "end_time": "2020-11-12T16:37:00.138193Z",
     "start_time": "2020-11-12T16:36:59.910073Z"
    },
    "hidden": true
   },
   "outputs": [
    {
     "data": {
      "text/plain": [
       "is_fraud         \n",
       "0         3760661     CASH_IN\n",
       "          4773575    CASH_OUT\n",
       "          2171094    TRANSFER\n",
       "          3555067     PAYMENT\n",
       "          5072499       DEBIT\n",
       "Name: type, dtype: object"
      ]
     },
     "execution_count": 20,
     "metadata": {},
     "output_type": "execute_result"
    }
   ],
   "source": [
    "cat_attributes = cat_attributes.drop_duplicates()\n",
    "cat_attributes.head()"
   ]
  },
  {
   "cell_type": "code",
   "execution_count": 21,
   "metadata": {
    "ExecuteTime": {
     "end_time": "2020-11-12T16:37:00.659132Z",
     "start_time": "2020-11-12T16:37:00.141414Z"
    },
    "hidden": true
   },
   "outputs": [],
   "source": [
    "a1 = df2['type'][(df2['type']=='PAYMENT') & (df2['is_fraud']==1)].count()\n",
    "a2 = df2['type'][(df2['type']=='TRANSFER') & (df2['is_fraud']==1)].count()\n",
    "a3 = df2['type'][(df2['type']=='CASH_OUT') & (df2['is_fraud']==1)].count()\n",
    "a4 = df2['type'][(df2['type']=='DEBIT') & (df2['is_fraud']==1)].count()\n",
    "a5 = df2['type'][(df2['type']=='CASH_IN') & (df2['is_fraud']==1)].count()\n",
    "a6 = df2['type'][(df2['is_fraud']==1)].count()"
   ]
  },
  {
   "cell_type": "code",
   "execution_count": 22,
   "metadata": {
    "ExecuteTime": {
     "end_time": "2020-11-12T16:37:00.667149Z",
     "start_time": "2020-11-12T16:37:00.662179Z"
    },
    "hidden": true
   },
   "outputs": [
    {
     "name": "stdout",
     "output_type": "stream",
     "text": [
      "Payment 0. Transfer 541. Cash_out 519 . Debit 0 . Cash_in 0. Total 1060\n"
     ]
    }
   ],
   "source": [
    "print('Payment {}. Transfer {}. Cash_out {} . Debit {} . Cash_in {}. Total {}'.format(a1,a2,a3,a4,a5,a6) )"
   ]
  },
  {
   "cell_type": "markdown",
   "metadata": {
    "hidden": true
   },
   "source": [
    "### Deleting not useful types"
   ]
  },
  {
   "cell_type": "markdown",
   "metadata": {
    "hidden": true
   },
   "source": [
    "There is not any fraud example in Payments, Cash_in and Debit, based on that, we will drop these types of transactions from the data frame"
   ]
  },
  {
   "cell_type": "code",
   "execution_count": 23,
   "metadata": {
    "ExecuteTime": {
     "end_time": "2020-11-12T16:37:01.503757Z",
     "start_time": "2020-11-12T16:37:00.675584Z"
    },
    "hidden": true
   },
   "outputs": [],
   "source": [
    "df2 = df2[(df2.type != 'PAYMENT') & (df2.type != 'DEBIT') & (df2.type != 'CASH_IN') ]"
   ]
  },
  {
   "cell_type": "markdown",
   "metadata": {
    "heading_collapsed": true
   },
   "source": [
    "# 3. Feature Engineering"
   ]
  },
  {
   "cell_type": "code",
   "execution_count": 24,
   "metadata": {
    "ExecuteTime": {
     "end_time": "2020-11-12T16:37:01.512008Z",
     "start_time": "2020-11-12T16:37:01.508987Z"
    },
    "hidden": true
   },
   "outputs": [],
   "source": [
    "#turning the sample into a csv file, so we can always use the same sample\n",
    "#df2.to_csv(r'/home/leonardo/blocker_fraud_company/data/df_sample.csv')"
   ]
  },
  {
   "cell_type": "code",
   "execution_count": 25,
   "metadata": {
    "ExecuteTime": {
     "end_time": "2020-11-12T16:37:02.864131Z",
     "start_time": "2020-11-12T16:37:01.515678Z"
    },
    "hidden": true
   },
   "outputs": [],
   "source": [
    "df3 = pd.read_csv('/home/leonardo/repo/blocker_fraud_company/data/df_sample.csv')"
   ]
  },
  {
   "cell_type": "markdown",
   "metadata": {
    "heading_collapsed": true,
    "hidden": true
   },
   "source": [
    "## 3.1  Mind map Hypotheses "
   ]
  },
  {
   "cell_type": "code",
   "execution_count": 26,
   "metadata": {
    "ExecuteTime": {
     "end_time": "2020-11-12T16:37:02.950568Z",
     "start_time": "2020-11-12T16:37:02.866880Z"
    },
    "hidden": true
   },
   "outputs": [
    {
     "data": {
      "image/png": "[encoded data removed]",
      "text/plain": [
       "<IPython.core.display.Image object>"
      ]
     },
     "execution_count": 26,
     "metadata": {},
     "output_type": "execute_result"
    }
   ],
   "source": [
    "Image('img/Fraud_detection.png')"
   ]
  },
  {
   "cell_type": "markdown",
   "metadata": {
    "hidden": true
   },
   "source": [
    "## 3.2 Hypothesis creation"
   ]
  },
  {
   "cell_type": "markdown",
   "metadata": {
    "ExecuteTime": {
     "end_time": "2020-11-11T16:49:31.211204Z",
     "start_time": "2020-11-11T16:49:31.156534Z"
    },
    "heading_collapsed": true,
    "hidden": true
   },
   "source": [
    "### 3.2.1 Type of transactions"
   ]
  },
  {
   "cell_type": "code",
   "execution_count": 27,
   "metadata": {
    "ExecuteTime": {
     "end_time": "2020-11-12T16:37:02.987245Z",
     "start_time": "2020-11-12T16:37:02.953203Z"
    },
    "hidden": true
   },
   "outputs": [],
   "source": [
    "#type of transactions already in the dataset "
   ]
  },
  {
   "cell_type": "markdown",
   "metadata": {
    "heading_collapsed": true,
    "hidden": true
   },
   "source": [
    "### 3.2.2 Temporal "
   ]
  },
  {
   "cell_type": "code",
   "execution_count": 28,
   "metadata": {
    "ExecuteTime": {
     "end_time": "2020-11-12T16:37:03.370911Z",
     "start_time": "2020-11-12T16:37:02.990277Z"
    },
    "hidden": true
   },
   "outputs": [],
   "source": [
    "# week of month\n",
    "df3['week_of_month'] = df3['step'].apply(lambda x: x/(24*7)  ).astype(int)\n",
    "#day\n",
    "df3['day_of_month'] = df3['step'].apply(lambda x: x/24).astype(int)\n"
   ]
  },
  {
   "cell_type": "code",
   "execution_count": 29,
   "metadata": {
    "ExecuteTime": {
     "end_time": "2020-11-12T16:37:03.416015Z",
     "start_time": "2020-11-12T16:37:03.373726Z"
    },
    "hidden": true
   },
   "outputs": [
    {
     "data": {
      "text/html": [
       "<div>\n",
       "<style scoped>\n",
       "    .dataframe tbody tr th:only-of-type {\n",
       "        vertical-align: middle;\n",
       "    }\n",
       "\n",
       "    .dataframe tbody tr th {\n",
       "        vertical-align: top;\n",
       "    }\n",
       "\n",
       "    .dataframe thead th {\n",
       "        text-align: right;\n",
       "    }\n",
       "</style>\n",
       "<table border=\"1\" class=\"dataframe\">\n",
       "  <thead>\n",
       "    <tr style=\"text-align: right;\">\n",
       "      <th></th>\n",
       "      <th>is_fraud</th>\n",
       "      <th>Unnamed: 1</th>\n",
       "      <th>step</th>\n",
       "      <th>type</th>\n",
       "      <th>amount</th>\n",
       "      <th>name_orig</th>\n",
       "      <th>oldbalance_org</th>\n",
       "      <th>newbalance_orig</th>\n",
       "      <th>name_dest</th>\n",
       "      <th>oldbalance_dest</th>\n",
       "      <th>newbalance_dest</th>\n",
       "      <th>is_fraud.1</th>\n",
       "      <th>is_flagged_fraud</th>\n",
       "      <th>week_of_month</th>\n",
       "      <th>day_of_month</th>\n",
       "    </tr>\n",
       "  </thead>\n",
       "  <tbody>\n",
       "    <tr>\n",
       "      <th>0</th>\n",
       "      <td>0</td>\n",
       "      <td>3807078</td>\n",
       "      <td>281</td>\n",
       "      <td>CASH_OUT</td>\n",
       "      <td>118035.33</td>\n",
       "      <td>C1458573557</td>\n",
       "      <td>0.00</td>\n",
       "      <td>0.0</td>\n",
       "      <td>C1011327941</td>\n",
       "      <td>323412.58</td>\n",
       "      <td>441447.92</td>\n",
       "      <td>0</td>\n",
       "      <td>0</td>\n",
       "      <td>1</td>\n",
       "      <td>11</td>\n",
       "    </tr>\n",
       "    <tr>\n",
       "      <th>1</th>\n",
       "      <td>0</td>\n",
       "      <td>2280345</td>\n",
       "      <td>187</td>\n",
       "      <td>CASH_OUT</td>\n",
       "      <td>108902.87</td>\n",
       "      <td>C1281506030</td>\n",
       "      <td>25372.00</td>\n",
       "      <td>0.0</td>\n",
       "      <td>C224713062</td>\n",
       "      <td>307213.63</td>\n",
       "      <td>416116.50</td>\n",
       "      <td>0</td>\n",
       "      <td>0</td>\n",
       "      <td>1</td>\n",
       "      <td>7</td>\n",
       "    </tr>\n",
       "    <tr>\n",
       "      <th>2</th>\n",
       "      <td>0</td>\n",
       "      <td>3817919</td>\n",
       "      <td>281</td>\n",
       "      <td>CASH_OUT</td>\n",
       "      <td>244173.70</td>\n",
       "      <td>C248730046</td>\n",
       "      <td>49537.00</td>\n",
       "      <td>0.0</td>\n",
       "      <td>C1876543998</td>\n",
       "      <td>0.00</td>\n",
       "      <td>244173.70</td>\n",
       "      <td>0</td>\n",
       "      <td>0</td>\n",
       "      <td>1</td>\n",
       "      <td>11</td>\n",
       "    </tr>\n",
       "    <tr>\n",
       "      <th>3</th>\n",
       "      <td>0</td>\n",
       "      <td>3977715</td>\n",
       "      <td>297</td>\n",
       "      <td>CASH_OUT</td>\n",
       "      <td>320636.56</td>\n",
       "      <td>C1490350516</td>\n",
       "      <td>0.00</td>\n",
       "      <td>0.0</td>\n",
       "      <td>C2098652030</td>\n",
       "      <td>4395126.25</td>\n",
       "      <td>4715762.80</td>\n",
       "      <td>0</td>\n",
       "      <td>0</td>\n",
       "      <td>1</td>\n",
       "      <td>12</td>\n",
       "    </tr>\n",
       "    <tr>\n",
       "      <th>4</th>\n",
       "      <td>0</td>\n",
       "      <td>2359639</td>\n",
       "      <td>190</td>\n",
       "      <td>CASH_OUT</td>\n",
       "      <td>406650.21</td>\n",
       "      <td>C1985972159</td>\n",
       "      <td>0.00</td>\n",
       "      <td>0.0</td>\n",
       "      <td>C2034144661</td>\n",
       "      <td>3860832.38</td>\n",
       "      <td>4267482.59</td>\n",
       "      <td>0</td>\n",
       "      <td>0</td>\n",
       "      <td>1</td>\n",
       "      <td>7</td>\n",
       "    </tr>\n",
       "    <tr>\n",
       "      <th>...</th>\n",
       "      <td>...</td>\n",
       "      <td>...</td>\n",
       "      <td>...</td>\n",
       "      <td>...</td>\n",
       "      <td>...</td>\n",
       "      <td>...</td>\n",
       "      <td>...</td>\n",
       "      <td>...</td>\n",
       "      <td>...</td>\n",
       "      <td>...</td>\n",
       "      <td>...</td>\n",
       "      <td>...</td>\n",
       "      <td>...</td>\n",
       "      <td>...</td>\n",
       "      <td>...</td>\n",
       "    </tr>\n",
       "    <tr>\n",
       "      <th>357370</th>\n",
       "      <td>1</td>\n",
       "      <td>6360920</td>\n",
       "      <td>717</td>\n",
       "      <td>CASH_OUT</td>\n",
       "      <td>751854.42</td>\n",
       "      <td>C1391223821</td>\n",
       "      <td>751854.42</td>\n",
       "      <td>0.0</td>\n",
       "      <td>C450487671</td>\n",
       "      <td>11716.66</td>\n",
       "      <td>763571.08</td>\n",
       "      <td>1</td>\n",
       "      <td>0</td>\n",
       "      <td>4</td>\n",
       "      <td>29</td>\n",
       "    </tr>\n",
       "    <tr>\n",
       "      <th>357371</th>\n",
       "      <td>1</td>\n",
       "      <td>3273908</td>\n",
       "      <td>251</td>\n",
       "      <td>CASH_OUT</td>\n",
       "      <td>2693520.61</td>\n",
       "      <td>C1734542824</td>\n",
       "      <td>2693520.61</td>\n",
       "      <td>0.0</td>\n",
       "      <td>C1750548903</td>\n",
       "      <td>2505748.79</td>\n",
       "      <td>5199269.41</td>\n",
       "      <td>1</td>\n",
       "      <td>0</td>\n",
       "      <td>1</td>\n",
       "      <td>10</td>\n",
       "    </tr>\n",
       "    <tr>\n",
       "      <th>357372</th>\n",
       "      <td>1</td>\n",
       "      <td>4667</td>\n",
       "      <td>4</td>\n",
       "      <td>TRANSFER</td>\n",
       "      <td>169941.73</td>\n",
       "      <td>C540962910</td>\n",
       "      <td>169941.73</td>\n",
       "      <td>0.0</td>\n",
       "      <td>C2127862399</td>\n",
       "      <td>0.00</td>\n",
       "      <td>0.00</td>\n",
       "      <td>1</td>\n",
       "      <td>0</td>\n",
       "      <td>0</td>\n",
       "      <td>0</td>\n",
       "    </tr>\n",
       "    <tr>\n",
       "      <th>357373</th>\n",
       "      <td>1</td>\n",
       "      <td>6259987</td>\n",
       "      <td>608</td>\n",
       "      <td>TRANSFER</td>\n",
       "      <td>388171.95</td>\n",
       "      <td>C1413288238</td>\n",
       "      <td>388171.95</td>\n",
       "      <td>0.0</td>\n",
       "      <td>C1384608658</td>\n",
       "      <td>0.00</td>\n",
       "      <td>0.00</td>\n",
       "      <td>1</td>\n",
       "      <td>0</td>\n",
       "      <td>3</td>\n",
       "      <td>25</td>\n",
       "    </tr>\n",
       "    <tr>\n",
       "      <th>357374</th>\n",
       "      <td>1</td>\n",
       "      <td>6202687</td>\n",
       "      <td>583</td>\n",
       "      <td>CASH_OUT</td>\n",
       "      <td>1764389.11</td>\n",
       "      <td>C1297057320</td>\n",
       "      <td>1764389.11</td>\n",
       "      <td>0.0</td>\n",
       "      <td>C2133001459</td>\n",
       "      <td>7116057.41</td>\n",
       "      <td>8880446.51</td>\n",
       "      <td>1</td>\n",
       "      <td>0</td>\n",
       "      <td>3</td>\n",
       "      <td>24</td>\n",
       "    </tr>\n",
       "  </tbody>\n",
       "</table>\n",
       "<p>357375 rows × 15 columns</p>\n",
       "</div>"
      ],
      "text/plain": [
       "        is_fraud  Unnamed: 1  step      type      amount    name_orig  \\\n",
       "0              0     3807078   281  CASH_OUT   118035.33  C1458573557   \n",
       "1              0     2280345   187  CASH_OUT   108902.87  C1281506030   \n",
       "2              0     3817919   281  CASH_OUT   244173.70   C248730046   \n",
       "3              0     3977715   297  CASH_OUT   320636.56  C1490350516   \n",
       "4              0     2359639   190  CASH_OUT   406650.21  C1985972159   \n",
       "...          ...         ...   ...       ...         ...          ...   \n",
       "357370         1     6360920   717  CASH_OUT   751854.42  C1391223821   \n",
       "357371         1     3273908   251  CASH_OUT  2693520.61  C1734542824   \n",
       "357372         1        4667     4  TRANSFER   169941.73   C540962910   \n",
       "357373         1     6259987   608  TRANSFER   388171.95  C1413288238   \n",
       "357374         1     6202687   583  CASH_OUT  1764389.11  C1297057320   \n",
       "\n",
       "        oldbalance_org  newbalance_orig    name_dest  oldbalance_dest  \\\n",
       "0                 0.00              0.0  C1011327941        323412.58   \n",
       "1             25372.00              0.0   C224713062        307213.63   \n",
       "2             49537.00              0.0  C1876543998             0.00   \n",
       "3                 0.00              0.0  C2098652030       4395126.25   \n",
       "4                 0.00              0.0  C2034144661       3860832.38   \n",
       "...                ...              ...          ...              ...   \n",
       "357370       751854.42              0.0   C450487671         11716.66   \n",
       "357371      2693520.61              0.0  C1750548903       2505748.79   \n",
       "357372       169941.73              0.0  C2127862399             0.00   \n",
       "357373       388171.95              0.0  C1384608658             0.00   \n",
       "357374      1764389.11              0.0  C2133001459       7116057.41   \n",
       "\n",
       "        newbalance_dest  is_fraud.1  is_flagged_fraud  week_of_month  \\\n",
       "0             441447.92           0                 0              1   \n",
       "1             416116.50           0                 0              1   \n",
       "2             244173.70           0                 0              1   \n",
       "3            4715762.80           0                 0              1   \n",
       "4            4267482.59           0                 0              1   \n",
       "...                 ...         ...               ...            ...   \n",
       "357370        763571.08           1                 0              4   \n",
       "357371       5199269.41           1                 0              1   \n",
       "357372             0.00           1                 0              0   \n",
       "357373             0.00           1                 0              3   \n",
       "357374       8880446.51           1                 0              3   \n",
       "\n",
       "        day_of_month  \n",
       "0                 11  \n",
       "1                  7  \n",
       "2                 11  \n",
       "3                 12  \n",
       "4                  7  \n",
       "...              ...  \n",
       "357370            29  \n",
       "357371            10  \n",
       "357372             0  \n",
       "357373            25  \n",
       "357374            24  \n",
       "\n",
       "[357375 rows x 15 columns]"
      ]
     },
     "execution_count": 29,
     "metadata": {},
     "output_type": "execute_result"
    }
   ],
   "source": [
    "df3"
   ]
  },
  {
   "cell_type": "markdown",
   "metadata": {
    "ExecuteTime": {
     "end_time": "2020-11-11T16:49:31.368314Z",
     "start_time": "2020-11-11T16:49:31.289938Z"
    },
    "hidden": true
   },
   "source": [
    "### 3.2.3 Client Hypothesis"
   ]
  },
  {
   "cell_type": "code",
   "execution_count": null,
   "metadata": {
    "hidden": true
   },
   "outputs": [],
   "source": []
  },
  {
   "cell_type": "code",
   "execution_count": 30,
   "metadata": {
    "ExecuteTime": {
     "end_time": "2020-11-12T16:37:03.491085Z",
     "start_time": "2020-11-12T16:37:03.419129Z"
    },
    "hidden": true
   },
   "outputs": [],
   "source": [
    "#bank balance variation\n",
    "df3['balance_variation_dest'] = df3['oldbalance_dest'] - df3['newbalance_dest']\n",
    "df3['balance_variation_org'] = df3['oldbalance_org'] - df3['newbalance_orig']\n",
    "\n",
    "#who started the transaction: in case of future studies\n",
    "# who received: in case of future studies"
   ]
  },
  {
   "cell_type": "code",
   "execution_count": 31,
   "metadata": {
    "ExecuteTime": {
     "end_time": "2020-11-12T16:37:03.585608Z",
     "start_time": "2020-11-12T16:37:03.494054Z"
    },
    "hidden": true
   },
   "outputs": [
    {
     "data": {
      "text/html": [
       "<div>\n",
       "<style scoped>\n",
       "    .dataframe tbody tr th:only-of-type {\n",
       "        vertical-align: middle;\n",
       "    }\n",
       "\n",
       "    .dataframe tbody tr th {\n",
       "        vertical-align: top;\n",
       "    }\n",
       "\n",
       "    .dataframe thead th {\n",
       "        text-align: right;\n",
       "    }\n",
       "</style>\n",
       "<table border=\"1\" class=\"dataframe\">\n",
       "  <thead>\n",
       "    <tr style=\"text-align: right;\">\n",
       "      <th></th>\n",
       "      <th>is_fraud</th>\n",
       "      <th>Unnamed: 1</th>\n",
       "      <th>step</th>\n",
       "      <th>type</th>\n",
       "      <th>amount</th>\n",
       "      <th>name_orig</th>\n",
       "      <th>oldbalance_org</th>\n",
       "      <th>newbalance_orig</th>\n",
       "      <th>name_dest</th>\n",
       "      <th>oldbalance_dest</th>\n",
       "      <th>newbalance_dest</th>\n",
       "      <th>is_fraud.1</th>\n",
       "      <th>is_flagged_fraud</th>\n",
       "      <th>week_of_month</th>\n",
       "      <th>day_of_month</th>\n",
       "      <th>balance_variation_dest</th>\n",
       "      <th>balance_variation_org</th>\n",
       "    </tr>\n",
       "  </thead>\n",
       "  <tbody>\n",
       "    <tr>\n",
       "      <th>0</th>\n",
       "      <td>0</td>\n",
       "      <td>3807078</td>\n",
       "      <td>281</td>\n",
       "      <td>CASH_OUT</td>\n",
       "      <td>118035.33</td>\n",
       "      <td>C1458573557</td>\n",
       "      <td>0.00</td>\n",
       "      <td>0.0</td>\n",
       "      <td>C1011327941</td>\n",
       "      <td>323412.58</td>\n",
       "      <td>441447.92</td>\n",
       "      <td>0</td>\n",
       "      <td>0</td>\n",
       "      <td>1</td>\n",
       "      <td>11</td>\n",
       "      <td>-118035.34</td>\n",
       "      <td>0.00</td>\n",
       "    </tr>\n",
       "    <tr>\n",
       "      <th>1</th>\n",
       "      <td>0</td>\n",
       "      <td>2280345</td>\n",
       "      <td>187</td>\n",
       "      <td>CASH_OUT</td>\n",
       "      <td>108902.87</td>\n",
       "      <td>C1281506030</td>\n",
       "      <td>25372.00</td>\n",
       "      <td>0.0</td>\n",
       "      <td>C224713062</td>\n",
       "      <td>307213.63</td>\n",
       "      <td>416116.50</td>\n",
       "      <td>0</td>\n",
       "      <td>0</td>\n",
       "      <td>1</td>\n",
       "      <td>7</td>\n",
       "      <td>-108902.87</td>\n",
       "      <td>25372.00</td>\n",
       "    </tr>\n",
       "    <tr>\n",
       "      <th>2</th>\n",
       "      <td>0</td>\n",
       "      <td>3817919</td>\n",
       "      <td>281</td>\n",
       "      <td>CASH_OUT</td>\n",
       "      <td>244173.70</td>\n",
       "      <td>C248730046</td>\n",
       "      <td>49537.00</td>\n",
       "      <td>0.0</td>\n",
       "      <td>C1876543998</td>\n",
       "      <td>0.00</td>\n",
       "      <td>244173.70</td>\n",
       "      <td>0</td>\n",
       "      <td>0</td>\n",
       "      <td>1</td>\n",
       "      <td>11</td>\n",
       "      <td>-244173.70</td>\n",
       "      <td>49537.00</td>\n",
       "    </tr>\n",
       "    <tr>\n",
       "      <th>3</th>\n",
       "      <td>0</td>\n",
       "      <td>3977715</td>\n",
       "      <td>297</td>\n",
       "      <td>CASH_OUT</td>\n",
       "      <td>320636.56</td>\n",
       "      <td>C1490350516</td>\n",
       "      <td>0.00</td>\n",
       "      <td>0.0</td>\n",
       "      <td>C2098652030</td>\n",
       "      <td>4395126.25</td>\n",
       "      <td>4715762.80</td>\n",
       "      <td>0</td>\n",
       "      <td>0</td>\n",
       "      <td>1</td>\n",
       "      <td>12</td>\n",
       "      <td>-320636.55</td>\n",
       "      <td>0.00</td>\n",
       "    </tr>\n",
       "    <tr>\n",
       "      <th>4</th>\n",
       "      <td>0</td>\n",
       "      <td>2359639</td>\n",
       "      <td>190</td>\n",
       "      <td>CASH_OUT</td>\n",
       "      <td>406650.21</td>\n",
       "      <td>C1985972159</td>\n",
       "      <td>0.00</td>\n",
       "      <td>0.0</td>\n",
       "      <td>C2034144661</td>\n",
       "      <td>3860832.38</td>\n",
       "      <td>4267482.59</td>\n",
       "      <td>0</td>\n",
       "      <td>0</td>\n",
       "      <td>1</td>\n",
       "      <td>7</td>\n",
       "      <td>-406650.21</td>\n",
       "      <td>0.00</td>\n",
       "    </tr>\n",
       "    <tr>\n",
       "      <th>...</th>\n",
       "      <td>...</td>\n",
       "      <td>...</td>\n",
       "      <td>...</td>\n",
       "      <td>...</td>\n",
       "      <td>...</td>\n",
       "      <td>...</td>\n",
       "      <td>...</td>\n",
       "      <td>...</td>\n",
       "      <td>...</td>\n",
       "      <td>...</td>\n",
       "      <td>...</td>\n",
       "      <td>...</td>\n",
       "      <td>...</td>\n",
       "      <td>...</td>\n",
       "      <td>...</td>\n",
       "      <td>...</td>\n",
       "      <td>...</td>\n",
       "    </tr>\n",
       "    <tr>\n",
       "      <th>357370</th>\n",
       "      <td>1</td>\n",
       "      <td>6360920</td>\n",
       "      <td>717</td>\n",
       "      <td>CASH_OUT</td>\n",
       "      <td>751854.42</td>\n",
       "      <td>C1391223821</td>\n",
       "      <td>751854.42</td>\n",
       "      <td>0.0</td>\n",
       "      <td>C450487671</td>\n",
       "      <td>11716.66</td>\n",
       "      <td>763571.08</td>\n",
       "      <td>1</td>\n",
       "      <td>0</td>\n",
       "      <td>4</td>\n",
       "      <td>29</td>\n",
       "      <td>-751854.42</td>\n",
       "      <td>751854.42</td>\n",
       "    </tr>\n",
       "    <tr>\n",
       "      <th>357371</th>\n",
       "      <td>1</td>\n",
       "      <td>3273908</td>\n",
       "      <td>251</td>\n",
       "      <td>CASH_OUT</td>\n",
       "      <td>2693520.61</td>\n",
       "      <td>C1734542824</td>\n",
       "      <td>2693520.61</td>\n",
       "      <td>0.0</td>\n",
       "      <td>C1750548903</td>\n",
       "      <td>2505748.79</td>\n",
       "      <td>5199269.41</td>\n",
       "      <td>1</td>\n",
       "      <td>0</td>\n",
       "      <td>1</td>\n",
       "      <td>10</td>\n",
       "      <td>-2693520.62</td>\n",
       "      <td>2693520.61</td>\n",
       "    </tr>\n",
       "    <tr>\n",
       "      <th>357372</th>\n",
       "      <td>1</td>\n",
       "      <td>4667</td>\n",
       "      <td>4</td>\n",
       "      <td>TRANSFER</td>\n",
       "      <td>169941.73</td>\n",
       "      <td>C540962910</td>\n",
       "      <td>169941.73</td>\n",
       "      <td>0.0</td>\n",
       "      <td>C2127862399</td>\n",
       "      <td>0.00</td>\n",
       "      <td>0.00</td>\n",
       "      <td>1</td>\n",
       "      <td>0</td>\n",
       "      <td>0</td>\n",
       "      <td>0</td>\n",
       "      <td>0.00</td>\n",
       "      <td>169941.73</td>\n",
       "    </tr>\n",
       "    <tr>\n",
       "      <th>357373</th>\n",
       "      <td>1</td>\n",
       "      <td>6259987</td>\n",
       "      <td>608</td>\n",
       "      <td>TRANSFER</td>\n",
       "      <td>388171.95</td>\n",
       "      <td>C1413288238</td>\n",
       "      <td>388171.95</td>\n",
       "      <td>0.0</td>\n",
       "      <td>C1384608658</td>\n",
       "      <td>0.00</td>\n",
       "      <td>0.00</td>\n",
       "      <td>1</td>\n",
       "      <td>0</td>\n",
       "      <td>3</td>\n",
       "      <td>25</td>\n",
       "      <td>0.00</td>\n",
       "      <td>388171.95</td>\n",
       "    </tr>\n",
       "    <tr>\n",
       "      <th>357374</th>\n",
       "      <td>1</td>\n",
       "      <td>6202687</td>\n",
       "      <td>583</td>\n",
       "      <td>CASH_OUT</td>\n",
       "      <td>1764389.11</td>\n",
       "      <td>C1297057320</td>\n",
       "      <td>1764389.11</td>\n",
       "      <td>0.0</td>\n",
       "      <td>C2133001459</td>\n",
       "      <td>7116057.41</td>\n",
       "      <td>8880446.51</td>\n",
       "      <td>1</td>\n",
       "      <td>0</td>\n",
       "      <td>3</td>\n",
       "      <td>24</td>\n",
       "      <td>-1764389.10</td>\n",
       "      <td>1764389.11</td>\n",
       "    </tr>\n",
       "  </tbody>\n",
       "</table>\n",
       "<p>357375 rows × 17 columns</p>\n",
       "</div>"
      ],
      "text/plain": [
       "        is_fraud  Unnamed: 1  step      type      amount    name_orig  \\\n",
       "0              0     3807078   281  CASH_OUT   118035.33  C1458573557   \n",
       "1              0     2280345   187  CASH_OUT   108902.87  C1281506030   \n",
       "2              0     3817919   281  CASH_OUT   244173.70   C248730046   \n",
       "3              0     3977715   297  CASH_OUT   320636.56  C1490350516   \n",
       "4              0     2359639   190  CASH_OUT   406650.21  C1985972159   \n",
       "...          ...         ...   ...       ...         ...          ...   \n",
       "357370         1     6360920   717  CASH_OUT   751854.42  C1391223821   \n",
       "357371         1     3273908   251  CASH_OUT  2693520.61  C1734542824   \n",
       "357372         1        4667     4  TRANSFER   169941.73   C540962910   \n",
       "357373         1     6259987   608  TRANSFER   388171.95  C1413288238   \n",
       "357374         1     6202687   583  CASH_OUT  1764389.11  C1297057320   \n",
       "\n",
       "        oldbalance_org  newbalance_orig    name_dest  oldbalance_dest  \\\n",
       "0                 0.00              0.0  C1011327941        323412.58   \n",
       "1             25372.00              0.0   C224713062        307213.63   \n",
       "2             49537.00              0.0  C1876543998             0.00   \n",
       "3                 0.00              0.0  C2098652030       4395126.25   \n",
       "4                 0.00              0.0  C2034144661       3860832.38   \n",
       "...                ...              ...          ...              ...   \n",
       "357370       751854.42              0.0   C450487671         11716.66   \n",
       "357371      2693520.61              0.0  C1750548903       2505748.79   \n",
       "357372       169941.73              0.0  C2127862399             0.00   \n",
       "357373       388171.95              0.0  C1384608658             0.00   \n",
       "357374      1764389.11              0.0  C2133001459       7116057.41   \n",
       "\n",
       "        newbalance_dest  is_fraud.1  is_flagged_fraud  week_of_month  \\\n",
       "0             441447.92           0                 0              1   \n",
       "1             416116.50           0                 0              1   \n",
       "2             244173.70           0                 0              1   \n",
       "3            4715762.80           0                 0              1   \n",
       "4            4267482.59           0                 0              1   \n",
       "...                 ...         ...               ...            ...   \n",
       "357370        763571.08           1                 0              4   \n",
       "357371       5199269.41           1                 0              1   \n",
       "357372             0.00           1                 0              0   \n",
       "357373             0.00           1                 0              3   \n",
       "357374       8880446.51           1                 0              3   \n",
       "\n",
       "        day_of_month  balance_variation_dest  balance_variation_org  \n",
       "0                 11              -118035.34                   0.00  \n",
       "1                  7              -108902.87               25372.00  \n",
       "2                 11              -244173.70               49537.00  \n",
       "3                 12              -320636.55                   0.00  \n",
       "4                  7              -406650.21                   0.00  \n",
       "...              ...                     ...                    ...  \n",
       "357370            29              -751854.42              751854.42  \n",
       "357371            10             -2693520.62             2693520.61  \n",
       "357372             0                    0.00              169941.73  \n",
       "357373            25                    0.00              388171.95  \n",
       "357374            24             -1764389.10             1764389.11  \n",
       "\n",
       "[357375 rows x 17 columns]"
      ]
     },
     "execution_count": 31,
     "metadata": {},
     "output_type": "execute_result"
    }
   ],
   "source": [
    "df3"
   ]
  },
  {
   "cell_type": "markdown",
   "metadata": {
    "heading_collapsed": true,
    "hidden": true
   },
   "source": [
    "### Transactions Hypothesis "
   ]
  },
  {
   "cell_type": "code",
   "execution_count": 32,
   "metadata": {
    "ExecuteTime": {
     "end_time": "2020-11-12T16:37:04.837947Z",
     "start_time": "2020-11-12T16:37:03.588248Z"
    },
    "hidden": true
   },
   "outputs": [],
   "source": [
    "#amount of transactions (how many times a client made a transaction)\n",
    "\n",
    "count_map = df3['name_dest'].value_counts().to_dict()\n",
    "df3['amount_of_transactions']=df3['name_dest'].map(count_map)"
   ]
  },
  {
   "cell_type": "code",
   "execution_count": 33,
   "metadata": {
    "ExecuteTime": {
     "end_time": "2020-11-12T16:37:04.869004Z",
     "start_time": "2020-11-12T16:37:04.840648Z"
    },
    "hidden": true
   },
   "outputs": [
    {
     "data": {
      "text/html": [
       "<div>\n",
       "<style scoped>\n",
       "    .dataframe tbody tr th:only-of-type {\n",
       "        vertical-align: middle;\n",
       "    }\n",
       "\n",
       "    .dataframe tbody tr th {\n",
       "        vertical-align: top;\n",
       "    }\n",
       "\n",
       "    .dataframe thead th {\n",
       "        text-align: right;\n",
       "    }\n",
       "</style>\n",
       "<table border=\"1\" class=\"dataframe\">\n",
       "  <thead>\n",
       "    <tr style=\"text-align: right;\">\n",
       "      <th></th>\n",
       "      <th>is_fraud</th>\n",
       "      <th>Unnamed: 1</th>\n",
       "      <th>step</th>\n",
       "      <th>type</th>\n",
       "      <th>amount</th>\n",
       "      <th>name_orig</th>\n",
       "      <th>oldbalance_org</th>\n",
       "      <th>newbalance_orig</th>\n",
       "      <th>name_dest</th>\n",
       "      <th>oldbalance_dest</th>\n",
       "      <th>newbalance_dest</th>\n",
       "      <th>is_fraud.1</th>\n",
       "      <th>is_flagged_fraud</th>\n",
       "      <th>week_of_month</th>\n",
       "      <th>day_of_month</th>\n",
       "      <th>balance_variation_dest</th>\n",
       "      <th>balance_variation_org</th>\n",
       "      <th>amount_of_transactions</th>\n",
       "    </tr>\n",
       "  </thead>\n",
       "  <tbody>\n",
       "    <tr>\n",
       "      <th>0</th>\n",
       "      <td>0</td>\n",
       "      <td>3807078</td>\n",
       "      <td>281</td>\n",
       "      <td>CASH_OUT</td>\n",
       "      <td>118035.33</td>\n",
       "      <td>C1458573557</td>\n",
       "      <td>0.0</td>\n",
       "      <td>0.0</td>\n",
       "      <td>C1011327941</td>\n",
       "      <td>323412.58</td>\n",
       "      <td>441447.92</td>\n",
       "      <td>0</td>\n",
       "      <td>0</td>\n",
       "      <td>1</td>\n",
       "      <td>11</td>\n",
       "      <td>-118035.34</td>\n",
       "      <td>0.0</td>\n",
       "      <td>4</td>\n",
       "    </tr>\n",
       "    <tr>\n",
       "      <th>1</th>\n",
       "      <td>0</td>\n",
       "      <td>2280345</td>\n",
       "      <td>187</td>\n",
       "      <td>CASH_OUT</td>\n",
       "      <td>108902.87</td>\n",
       "      <td>C1281506030</td>\n",
       "      <td>25372.0</td>\n",
       "      <td>0.0</td>\n",
       "      <td>C224713062</td>\n",
       "      <td>307213.63</td>\n",
       "      <td>416116.50</td>\n",
       "      <td>0</td>\n",
       "      <td>0</td>\n",
       "      <td>1</td>\n",
       "      <td>7</td>\n",
       "      <td>-108902.87</td>\n",
       "      <td>25372.0</td>\n",
       "      <td>1</td>\n",
       "    </tr>\n",
       "    <tr>\n",
       "      <th>2</th>\n",
       "      <td>0</td>\n",
       "      <td>3817919</td>\n",
       "      <td>281</td>\n",
       "      <td>CASH_OUT</td>\n",
       "      <td>244173.70</td>\n",
       "      <td>C248730046</td>\n",
       "      <td>49537.0</td>\n",
       "      <td>0.0</td>\n",
       "      <td>C1876543998</td>\n",
       "      <td>0.00</td>\n",
       "      <td>244173.70</td>\n",
       "      <td>0</td>\n",
       "      <td>0</td>\n",
       "      <td>1</td>\n",
       "      <td>11</td>\n",
       "      <td>-244173.70</td>\n",
       "      <td>49537.0</td>\n",
       "      <td>1</td>\n",
       "    </tr>\n",
       "    <tr>\n",
       "      <th>3</th>\n",
       "      <td>0</td>\n",
       "      <td>3977715</td>\n",
       "      <td>297</td>\n",
       "      <td>CASH_OUT</td>\n",
       "      <td>320636.56</td>\n",
       "      <td>C1490350516</td>\n",
       "      <td>0.0</td>\n",
       "      <td>0.0</td>\n",
       "      <td>C2098652030</td>\n",
       "      <td>4395126.25</td>\n",
       "      <td>4715762.80</td>\n",
       "      <td>0</td>\n",
       "      <td>0</td>\n",
       "      <td>1</td>\n",
       "      <td>12</td>\n",
       "      <td>-320636.55</td>\n",
       "      <td>0.0</td>\n",
       "      <td>8</td>\n",
       "    </tr>\n",
       "    <tr>\n",
       "      <th>4</th>\n",
       "      <td>0</td>\n",
       "      <td>2359639</td>\n",
       "      <td>190</td>\n",
       "      <td>CASH_OUT</td>\n",
       "      <td>406650.21</td>\n",
       "      <td>C1985972159</td>\n",
       "      <td>0.0</td>\n",
       "      <td>0.0</td>\n",
       "      <td>C2034144661</td>\n",
       "      <td>3860832.38</td>\n",
       "      <td>4267482.59</td>\n",
       "      <td>0</td>\n",
       "      <td>0</td>\n",
       "      <td>1</td>\n",
       "      <td>7</td>\n",
       "      <td>-406650.21</td>\n",
       "      <td>0.0</td>\n",
       "      <td>1</td>\n",
       "    </tr>\n",
       "  </tbody>\n",
       "</table>\n",
       "</div>"
      ],
      "text/plain": [
       "   is_fraud  Unnamed: 1  step      type     amount    name_orig  \\\n",
       "0         0     3807078   281  CASH_OUT  118035.33  C1458573557   \n",
       "1         0     2280345   187  CASH_OUT  108902.87  C1281506030   \n",
       "2         0     3817919   281  CASH_OUT  244173.70   C248730046   \n",
       "3         0     3977715   297  CASH_OUT  320636.56  C1490350516   \n",
       "4         0     2359639   190  CASH_OUT  406650.21  C1985972159   \n",
       "\n",
       "   oldbalance_org  newbalance_orig    name_dest  oldbalance_dest  \\\n",
       "0             0.0              0.0  C1011327941        323412.58   \n",
       "1         25372.0              0.0   C224713062        307213.63   \n",
       "2         49537.0              0.0  C1876543998             0.00   \n",
       "3             0.0              0.0  C2098652030       4395126.25   \n",
       "4             0.0              0.0  C2034144661       3860832.38   \n",
       "\n",
       "   newbalance_dest  is_fraud.1  is_flagged_fraud  week_of_month  day_of_month  \\\n",
       "0        441447.92           0                 0              1            11   \n",
       "1        416116.50           0                 0              1             7   \n",
       "2        244173.70           0                 0              1            11   \n",
       "3       4715762.80           0                 0              1            12   \n",
       "4       4267482.59           0                 0              1             7   \n",
       "\n",
       "   balance_variation_dest  balance_variation_org  amount_of_transactions  \n",
       "0              -118035.34                    0.0                       4  \n",
       "1              -108902.87                25372.0                       1  \n",
       "2              -244173.70                49537.0                       1  \n",
       "3              -320636.55                    0.0                       8  \n",
       "4              -406650.21                    0.0                       1  "
      ]
     },
     "execution_count": 33,
     "metadata": {},
     "output_type": "execute_result"
    }
   ],
   "source": [
    "df3.head()"
   ]
  },
  {
   "cell_type": "markdown",
   "metadata": {
    "heading_collapsed": true
   },
   "source": [
    "# 4. EXPLORATORY DATA ANALYSIS"
   ]
  },
  {
   "cell_type": "code",
   "execution_count": 34,
   "metadata": {
    "ExecuteTime": {
     "end_time": "2020-11-12T16:37:04.975402Z",
     "start_time": "2020-11-12T16:37:04.871594Z"
    },
    "hidden": true
   },
   "outputs": [],
   "source": [
    "df4= df3.copy()"
   ]
  },
  {
   "cell_type": "code",
   "execution_count": 35,
   "metadata": {
    "ExecuteTime": {
     "end_time": "2020-11-12T16:37:05.014229Z",
     "start_time": "2020-11-12T16:37:04.978518Z"
    },
    "hidden": true
   },
   "outputs": [
    {
     "name": "stdout",
     "output_type": "stream",
     "text": [
      "Populating the interactive namespace from numpy and matplotlib\n"
     ]
    },
    {
     "data": {
      "text/html": [
       "<style>.container { width:100% !important; }</style>"
      ],
      "text/plain": [
       "<IPython.core.display.HTML object>"
      ]
     },
     "metadata": {},
     "output_type": "display_data"
    }
   ],
   "source": [
    "jupyter_settings()"
   ]
  },
  {
   "cell_type": "markdown",
   "metadata": {
    "heading_collapsed": true,
    "hidden": true
   },
   "source": [
    "## 4.1 Univariate analysis"
   ]
  },
  {
   "cell_type": "markdown",
   "metadata": {
    "ExecuteTime": {
     "end_time": "2020-11-11T20:27:15.291031Z",
     "start_time": "2020-11-11T20:27:14.448021Z"
    },
    "hidden": true
   },
   "source": [
    "### Numerical Variable"
   ]
  },
  {
   "cell_type": "code",
   "execution_count": 36,
   "metadata": {
    "ExecuteTime": {
     "end_time": "2020-11-12T16:37:10.164172Z",
     "start_time": "2020-11-12T16:37:05.018447Z"
    },
    "hidden": true
   },
   "outputs": [
    {
     "data": {
      "text/plain": [
       "array([[<AxesSubplot:title={'center':'is_fraud'}>,\n",
       "        <AxesSubplot:title={'center':'Unnamed: 1'}>,\n",
       "        <AxesSubplot:title={'center':'step'}>,\n",
       "        <AxesSubplot:title={'center':'amount'}>],\n",
       "       [<AxesSubplot:title={'center':'oldbalance_org'}>,\n",
       "        <AxesSubplot:title={'center':'newbalance_orig'}>,\n",
       "        <AxesSubplot:title={'center':'oldbalance_dest'}>,\n",
       "        <AxesSubplot:title={'center':'newbalance_dest'}>],\n",
       "       [<AxesSubplot:title={'center':'is_fraud.1'}>,\n",
       "        <AxesSubplot:title={'center':'is_flagged_fraud'}>,\n",
       "        <AxesSubplot:title={'center':'week_of_month'}>,\n",
       "        <AxesSubplot:title={'center':'day_of_month'}>],\n",
       "       [<AxesSubplot:title={'center':'balance_variation_dest'}>,\n",
       "        <AxesSubplot:title={'center':'balance_variation_org'}>,\n",
       "        <AxesSubplot:title={'center':'amount_of_transactions'}>,\n",
       "        <AxesSubplot:>]], dtype=object)"
      ]
     },
     "execution_count": 36,
     "metadata": {},
     "output_type": "execute_result"
    },
    {
     "data": {
      "image/png": "[encoded data removed]",
      "text/plain": [
       "<Figure size 1800x864 with 16 Axes>"
      ]
     },
     "metadata": {},
     "output_type": "display_data"
    }
   ],
   "source": [
    "num_attributes = df4.select_dtypes(include=['int64','float64'])\n",
    "num_attributes.hist()"
   ]
  },
  {
   "cell_type": "markdown",
   "metadata": {
    "heading_collapsed": true,
    "hidden": true
   },
   "source": [
    "### Categorical Variables"
   ]
  },
  {
   "cell_type": "code",
   "execution_count": 37,
   "metadata": {
    "ExecuteTime": {
     "end_time": "2020-11-12T16:37:11.026570Z",
     "start_time": "2020-11-12T16:37:10.168285Z"
    },
    "hidden": true
   },
   "outputs": [
    {
     "data": {
      "text/plain": [
       "<AxesSubplot:xlabel='amount', ylabel='Density'>"
      ]
     },
     "execution_count": 37,
     "metadata": {},
     "output_type": "execute_result"
    },
    {
     "data": {
      "image/png": "[encoded data removed]",
      "text/plain": [
       "<Figure size 1800x864 with 2 Axes>"
      ]
     },
     "metadata": {},
     "output_type": "display_data"
    }
   ],
   "source": [
    "a = df4[(df4['is_fraud']==1)]\n",
    "#types \n",
    "plt.subplot(1,2,1)\n",
    "sns.countplot(a['type'])\n",
    "\n",
    "plt.subplot(1,2,2)\n",
    "sns.kdeplot(a[a['type'] =='CASH_OUT']['amount'],label='cash_out',shade=True)\n",
    "sns.kdeplot(a[a['type'] =='TRANSFER']['amount'],label='transfer',shade=True)\n"
   ]
  },
  {
   "cell_type": "markdown",
   "metadata": {
    "heading_collapsed": true,
    "hidden": true
   },
   "source": [
    "## 4.2 Bivariate analisys"
   ]
  },
  {
   "cell_type": "markdown",
   "metadata": {
    "hidden": true
   },
   "source": [
    " **1**- There is more fraud in the first and last week of month"
   ]
  },
  {
   "cell_type": "markdown",
   "metadata": {
    "hidden": true
   },
   "source": [
    "**False** The last week is where there is the smaller amount of frauds"
   ]
  },
  {
   "cell_type": "code",
   "execution_count": 38,
   "metadata": {
    "ExecuteTime": {
     "end_time": "2020-11-12T16:37:11.425851Z",
     "start_time": "2020-11-12T16:37:11.029314Z"
    },
    "hidden": true
   },
   "outputs": [
    {
     "data": {
      "text/plain": [
       "<AxesSubplot:xlabel='week_of_month', ylabel='is_fraud'>"
      ]
     },
     "execution_count": 38,
     "metadata": {},
     "output_type": "execute_result"
    },
    {
     "data": {
      "image/png": "[encoded data removed]",
      "text/plain": [
       "<Figure size 1800x864 with 1 Axes>"
      ]
     },
     "metadata": {},
     "output_type": "display_data"
    }
   ],
   "source": [
    "aux1 = df4[['week_of_month','is_fraud']].groupby('week_of_month').sum().reset_index()\n",
    "sns.barplot(x='week_of_month',y='is_fraud',data=aux1)\n"
   ]
  },
  {
   "cell_type": "markdown",
   "metadata": {
    "hidden": true
   },
   "source": [
    "**2**- There is more fraud in the first days of month"
   ]
  },
  {
   "cell_type": "markdown",
   "metadata": {
    "hidden": true
   },
   "source": [
    "**True** There is more fraud in the first days of month"
   ]
  },
  {
   "cell_type": "code",
   "execution_count": 39,
   "metadata": {
    "ExecuteTime": {
     "end_time": "2020-11-12T16:37:14.579417Z",
     "start_time": "2020-11-12T16:37:11.428757Z"
    },
    "hidden": true
   },
   "outputs": [
    {
     "data": {
      "text/plain": [
       "<AxesSubplot:xlabel='day_of_month', ylabel='Density'>"
      ]
     },
     "execution_count": 39,
     "metadata": {},
     "output_type": "execute_result"
    },
    {
     "data": {
      "image/png": "[encoded data removed]",
      "text/plain": [
       "<Figure size 1800x864 with 1 Axes>"
      ]
     },
     "metadata": {},
     "output_type": "display_data"
    }
   ],
   "source": [
    "a = df4[(df4['is_fraud']==1)]\n",
    "sns.distplot(df4['day_of_month'])\n"
   ]
  },
  {
   "cell_type": "markdown",
   "metadata": {
    "heading_collapsed": true,
    "hidden": true
   },
   "source": [
    "## 4.3 Multivariate analysis"
   ]
  },
  {
   "cell_type": "markdown",
   "metadata": {
    "hidden": true
   },
   "source": [
    "### Numerical attributes"
   ]
  },
  {
   "cell_type": "code",
   "execution_count": 40,
   "metadata": {
    "ExecuteTime": {
     "end_time": "2020-11-12T16:37:17.943309Z",
     "start_time": "2020-11-12T16:37:14.582774Z"
    },
    "hidden": true
   },
   "outputs": [
    {
     "data": {
      "text/plain": [
       "<AxesSubplot:>"
      ]
     },
     "execution_count": 40,
     "metadata": {},
     "output_type": "execute_result"
    },
    {
     "data": {
      "image/png": "[encoded data removed]",
      "text/plain": [
       "<Figure size 1800x864 with 2 Axes>"
      ]
     },
     "metadata": {},
     "output_type": "display_data"
    }
   ],
   "source": [
    "correlation = num_attributes.corr(method='pearson')\n",
    "sns.heatmap(correlation,annot=True)"
   ]
  },
  {
   "cell_type": "markdown",
   "metadata": {
    "heading_collapsed": true
   },
   "source": [
    "# 5. Data Preparation"
   ]
  },
  {
   "cell_type": "code",
   "execution_count": 41,
   "metadata": {
    "ExecuteTime": {
     "end_time": "2020-11-12T16:37:17.979571Z",
     "start_time": "2020-11-12T16:37:17.946603Z"
    },
    "hidden": true
   },
   "outputs": [],
   "source": [
    "df5 = df4.copy()"
   ]
  },
  {
   "cell_type": "markdown",
   "metadata": {
    "ExecuteTime": {
     "start_time": "2020-11-12T02:11:51.508Z"
    },
    "hidden": true
   },
   "source": [
    "## 5.1 Rescaling"
   ]
  },
  {
   "cell_type": "code",
   "execution_count": 42,
   "metadata": {
    "ExecuteTime": {
     "end_time": "2020-11-12T16:37:18.010569Z",
     "start_time": "2020-11-12T16:37:17.982283Z"
    },
    "hidden": true
   },
   "outputs": [],
   "source": [
    "rs= RobustScaler() #when there's big outliers\n",
    "mms = MinMaxScaler() #when there isn't big outliers"
   ]
  },
  {
   "cell_type": "code",
   "execution_count": 50,
   "metadata": {
    "ExecuteTime": {
     "end_time": "2020-11-13T14:10:38.581664Z",
     "start_time": "2020-11-13T14:10:38.557333Z"
    },
    "hidden": true
   },
   "outputs": [],
   "source": [
    "a = df5.select_dtypes(include=['float64','int64'])"
   ]
  },
  {
   "cell_type": "code",
   "execution_count": 63,
   "metadata": {
    "ExecuteTime": {
     "end_time": "2020-11-13T14:58:11.039453Z",
     "start_time": "2020-11-13T14:58:10.876740Z"
    },
    "hidden": true
   },
   "outputs": [],
   "source": [
    "#step    \n",
    "df5['step'] = mms.fit_transform(df5[['step']].values)\n",
    "\n",
    "#amount   \n",
    "\n",
    "df5['amount'] = rs.fit_transform(df5[['amount']].values)\n",
    "\n",
    "#oldbalance_org \n",
    "df5['oldbalance_org'] = rs.fit_transform(df5[['oldbalance_org']].values)\n",
    "\n",
    "#newbalance_orig \n",
    "df5['newbalance_orig '] = rs.fit_transform(df5[['newbalance_orig' ]].values)\n",
    "\n",
    "#oldbalance_dest\n",
    "df5['oldbalance_dest '] = rs.fit_transform(df5[['oldbalance_dest' ]].values)\n",
    "\n",
    "                                                \n",
    "#newbalance_dest \n",
    "df5['newbalance_dest'] = rs.fit_transform(df5[['newbalance_dest']].values)\n",
    "                                                \n",
    "\n",
    "#balance_variation_dest \n",
    "df5['balance_variation_dest'] = rs.fit_transform(df5[['balance_variation_dest']].values)\n",
    "\n",
    "#balance_variation_org   \n",
    "df5['balance_variation_org'] = rs.fit_transform(df5[['balance_variation_org']].values)\n",
    "\n",
    "#amount_of_transactions      \n",
    "df5['amount_of_transactions'] = mms.fit_transform(df5[['amount_of_transactions']].values)"
   ]
  },
  {
   "cell_type": "markdown",
   "metadata": {
    "hidden": true
   },
   "source": [
    "## 5.2 Enconding"
   ]
  },
  {
   "cell_type": "code",
   "execution_count": 69,
   "metadata": {
    "ExecuteTime": {
     "end_time": "2020-11-13T16:10:42.242108Z",
     "start_time": "2020-11-13T16:10:42.108899Z"
    },
    "hidden": true
   },
   "outputs": [],
   "source": [
    "#TYPE\n",
    "\n",
    "#BY ONE HOT ENCODING\n",
    "df5 = pd.get_dummies( df5, prefix=['type'], columns=['type'] )\n",
    "\n"
   ]
  },
  {
   "cell_type": "markdown",
   "metadata": {},
   "source": [
    "# 6. FEATURE SELECTION"
   ]
  },
  {
   "cell_type": "code",
   "execution_count": 102,
   "metadata": {
    "ExecuteTime": {
     "end_time": "2020-11-13T16:58:50.272052Z",
     "start_time": "2020-11-13T16:58:50.247555Z"
    }
   },
   "outputs": [],
   "source": [
    "df6 = df5.copy()"
   ]
  },
  {
   "cell_type": "markdown",
   "metadata": {},
   "source": [
    "## 6.1 Spliting dataframe into training and test"
   ]
  },
  {
   "cell_type": "code",
   "execution_count": 103,
   "metadata": {
    "ExecuteTime": {
     "end_time": "2020-11-13T16:58:51.773354Z",
     "start_time": "2020-11-13T16:58:51.750015Z"
    }
   },
   "outputs": [],
   "source": [
    "cols_drop = ['Unnamed: 1', 'step','name_orig','name_dest','oldbalance_dest']\n",
    "df6 = df6.drop(cols_drop,axis=1)"
   ]
  },
  {
   "cell_type": "code",
   "execution_count": 109,
   "metadata": {
    "ExecuteTime": {
     "end_time": "2020-11-13T17:10:39.134622Z",
     "start_time": "2020-11-13T17:10:39.040072Z"
    }
   },
   "outputs": [
    {
     "name": "stdout",
     "output_type": "stream",
     "text": [
      "X_train shape: (285900, 15)\n",
      "X_test: (71475, 15)\n",
      "\n",
      "Y_train: (285900,)\n",
      "Y_test: (71475,)\n"
     ]
    }
   ],
   "source": [
    "X= df6.drop('is_fraud',axis=1)\n",
    "Y= df6['is_fraud']\n",
    "\n",
    "#training dataset\n",
    "X_train, X_test, y_train, y_test = train_test_split(X, Y, train_size=0.8)\n",
    "\n",
    "\n",
    "print( 'X_train shape: {}'.format( X_train.shape ) )\n",
    "print( 'X_test: {}'.format( X_test.shape ) )\n",
    "\n",
    "\n",
    "print( '\\n_train: {}'.format( y_train.shape ) )\n",
    "print( 'y_test: {}'.format( y_test.shape ) )\n",
    "\n",
    "\n",
    "#test dataset"
   ]
  },
  {
   "cell_type": "code",
   "execution_count": 107,
   "metadata": {
    "ExecuteTime": {
     "end_time": "2020-11-13T17:00:16.677264Z",
     "start_time": "2020-11-13T17:00:16.671918Z"
    }
   },
   "outputs": [
    {
     "data": {
      "text/plain": [
       "(285900, 15)"
      ]
     },
     "execution_count": 107,
     "metadata": {},
     "output_type": "execute_result"
    }
   ],
   "source": [
    "X_train.shape"
   ]
  },
  {
   "cell_type": "markdown",
   "metadata": {},
   "source": [
    "## 6.2 Boruta as Feature Selector"
   ]
  },
  {
   "cell_type": "code",
   "execution_count": 127,
   "metadata": {
    "ExecuteTime": {
     "end_time": "2020-11-13T18:52:29.464382Z",
     "start_time": "2020-11-13T18:28:47.954534Z"
    }
   },
   "outputs": [
    {
     "name": "stdout",
     "output_type": "stream",
     "text": [
      "Iteration: \t1 / 100\n",
      "Confirmed: \t0\n",
      "Tentative: \t14\n",
      "Rejected: \t0\n",
      "Iteration: \t2 / 100\n",
      "Confirmed: \t0\n",
      "Tentative: \t14\n",
      "Rejected: \t0\n",
      "Iteration: \t3 / 100\n",
      "Confirmed: \t0\n",
      "Tentative: \t14\n",
      "Rejected: \t0\n",
      "Iteration: \t4 / 100\n",
      "Confirmed: \t0\n",
      "Tentative: \t14\n",
      "Rejected: \t0\n",
      "Iteration: \t5 / 100\n",
      "Confirmed: \t0\n",
      "Tentative: \t14\n",
      "Rejected: \t0\n",
      "Iteration: \t6 / 100\n",
      "Confirmed: \t0\n",
      "Tentative: \t14\n",
      "Rejected: \t0\n",
      "Iteration: \t7 / 100\n",
      "Confirmed: \t0\n",
      "Tentative: \t14\n",
      "Rejected: \t0\n",
      "Iteration: \t8 / 100\n",
      "Confirmed: \t9\n",
      "Tentative: \t2\n",
      "Rejected: \t3\n",
      "Iteration: \t9 / 100\n",
      "Confirmed: \t9\n",
      "Tentative: \t2\n",
      "Rejected: \t3\n",
      "Iteration: \t10 / 100\n",
      "Confirmed: \t9\n",
      "Tentative: \t2\n",
      "Rejected: \t3\n",
      "Iteration: \t11 / 100\n",
      "Confirmed: \t9\n",
      "Tentative: \t2\n",
      "Rejected: \t3\n",
      "Iteration: \t12 / 100\n",
      "Confirmed: \t9\n",
      "Tentative: \t2\n",
      "Rejected: \t3\n",
      "Iteration: \t13 / 100\n",
      "Confirmed: \t9\n",
      "Tentative: \t2\n",
      "Rejected: \t3\n",
      "Iteration: \t14 / 100\n",
      "Confirmed: \t9\n",
      "Tentative: \t2\n",
      "Rejected: \t3\n",
      "Iteration: \t15 / 100\n",
      "Confirmed: \t9\n",
      "Tentative: \t2\n",
      "Rejected: \t3\n",
      "Iteration: \t16 / 100\n",
      "Confirmed: \t9\n",
      "Tentative: \t1\n",
      "Rejected: \t4\n",
      "Iteration: \t17 / 100\n",
      "Confirmed: \t9\n",
      "Tentative: \t1\n",
      "Rejected: \t4\n",
      "Iteration: \t18 / 100\n",
      "Confirmed: \t9\n",
      "Tentative: \t1\n",
      "Rejected: \t4\n",
      "Iteration: \t19 / 100\n",
      "Confirmed: \t9\n",
      "Tentative: \t1\n",
      "Rejected: \t4\n",
      "Iteration: \t20 / 100\n",
      "Confirmed: \t9\n",
      "Tentative: \t1\n",
      "Rejected: \t4\n",
      "Iteration: \t21 / 100\n",
      "Confirmed: \t9\n",
      "Tentative: \t1\n",
      "Rejected: \t4\n",
      "Iteration: \t22 / 100\n",
      "Confirmed: \t9\n",
      "Tentative: \t1\n",
      "Rejected: \t4\n",
      "Iteration: \t23 / 100\n",
      "Confirmed: \t9\n",
      "Tentative: \t1\n",
      "Rejected: \t4\n",
      "Iteration: \t24 / 100\n",
      "Confirmed: \t9\n",
      "Tentative: \t1\n",
      "Rejected: \t4\n",
      "Iteration: \t25 / 100\n",
      "Confirmed: \t9\n",
      "Tentative: \t1\n",
      "Rejected: \t4\n",
      "Iteration: \t26 / 100\n",
      "Confirmed: \t9\n",
      "Tentative: \t1\n",
      "Rejected: \t4\n",
      "Iteration: \t27 / 100\n",
      "Confirmed: \t9\n",
      "Tentative: \t1\n",
      "Rejected: \t4\n",
      "Iteration: \t28 / 100\n",
      "Confirmed: \t9\n",
      "Tentative: \t1\n",
      "Rejected: \t4\n",
      "Iteration: \t29 / 100\n",
      "Confirmed: \t9\n",
      "Tentative: \t1\n",
      "Rejected: \t4\n",
      "Iteration: \t30 / 100\n",
      "Confirmed: \t9\n",
      "Tentative: \t1\n",
      "Rejected: \t4\n",
      "Iteration: \t31 / 100\n",
      "Confirmed: \t9\n",
      "Tentative: \t1\n",
      "Rejected: \t4\n",
      "Iteration: \t32 / 100\n",
      "Confirmed: \t9\n",
      "Tentative: \t1\n",
      "Rejected: \t4\n",
      "Iteration: \t33 / 100\n",
      "Confirmed: \t9\n",
      "Tentative: \t1\n",
      "Rejected: \t4\n",
      "Iteration: \t34 / 100\n",
      "Confirmed: \t9\n",
      "Tentative: \t1\n",
      "Rejected: \t4\n",
      "Iteration: \t35 / 100\n",
      "Confirmed: \t9\n",
      "Tentative: \t1\n",
      "Rejected: \t4\n",
      "Iteration: \t36 / 100\n",
      "Confirmed: \t9\n",
      "Tentative: \t1\n",
      "Rejected: \t4\n",
      "Iteration: \t37 / 100\n",
      "Confirmed: \t9\n",
      "Tentative: \t1\n",
      "Rejected: \t4\n",
      "Iteration: \t38 / 100\n",
      "Confirmed: \t9\n",
      "Tentative: \t1\n",
      "Rejected: \t4\n",
      "Iteration: \t39 / 100\n",
      "Confirmed: \t9\n",
      "Tentative: \t1\n",
      "Rejected: \t4\n",
      "Iteration: \t40 / 100\n",
      "Confirmed: \t10\n",
      "Tentative: \t0\n",
      "Rejected: \t4\n",
      "\n",
      "\n",
      "BorutaPy finished running.\n",
      "\n",
      "Iteration: \t41 / 100\n",
      "Confirmed: \t10\n",
      "Tentative: \t0\n",
      "Rejected: \t4\n"
     ]
    }
   ],
   "source": [
    "#training and test dataset for Boruta\n",
    "#X_train_n = X_train.drop('is_fraud.1',axis=1).values\n",
    "#y_train_n = y_train.values.ravel()\n",
    "\n",
    "# define RandomForestRegressor\n",
    "#rf = RandomForestRegressor( n_jobs=-1 )\n",
    "\n",
    "# define Boruta\n",
    "#boruta = BorutaPy( rf, n_estimators='auto', verbose=2, random_state = 11 ).fit( X_train_n, y_train_n )"
   ]
  },
  {
   "cell_type": "markdown",
   "metadata": {},
   "source": [
    "### 6.2.1. Best Features from Boruta"
   ]
  },
  {
   "cell_type": "code",
   "execution_count": 134,
   "metadata": {
    "ExecuteTime": {
     "end_time": "2020-11-13T19:43:08.602186Z",
     "start_time": "2020-11-13T19:43:08.598594Z"
    }
   },
   "outputs": [],
   "source": [
    "#cols_selected = boruta.support_.tolist()\n",
    "## best features\n",
    "#x_train_fs = X_train.drop('is_fraud.1',axis=1)\n",
    "#cols_selected_boruta = x_train_fs.iloc[:, cols_selected].columns.to_list()\n",
    "\n",
    "## not selected boruta\n",
    "#cols_not_selected_boruta = list( np.setdiff1d( x_train_fs.columns, cols_selected_boruta ) )\n"
   ]
  },
  {
   "cell_type": "markdown",
   "metadata": {},
   "source": [
    "# 6.2.3 Manual Features selection"
   ]
  },
  {
   "cell_type": "code",
   "execution_count": 138,
   "metadata": {
    "ExecuteTime": {
     "end_time": "2020-11-13T19:55:54.682773Z",
     "start_time": "2020-11-13T19:55:54.678796Z"
    }
   },
   "outputs": [],
   "source": [
    "cols_selected_boruta =['amount',\n",
    " 'oldbalance_org',\n",
    " 'newbalance_orig',\n",
    " 'newbalance_dest',\n",
    " 'day_of_month',\n",
    " 'balance_variation_dest',\n",
    " 'balance_variation_org',\n",
    " 'oldbalance_dest ',\n",
    " 'type_CASH_OUT',\n",
    " 'type_TRANSFER']"
   ]
  },
  {
   "cell_type": "code",
   "execution_count": 147,
   "metadata": {
    "ExecuteTime": {
     "end_time": "2020-11-13T20:08:18.395501Z",
     "start_time": "2020-11-13T20:08:18.391428Z"
    }
   },
   "outputs": [],
   "source": [
    "# columns to add\n",
    "feat_to_add = ['is_fraud']\n",
    "\n",
    "cols_selected_boruta_full = cols_selected_boruta.copy()\n",
    "cols_selected_boruta_full.extend( feat_to_add )"
   ]
  },
  {
   "cell_type": "markdown",
   "metadata": {
    "ExecuteTime": {
     "end_time": "2020-11-13T20:05:27.848107Z",
     "start_time": "2020-11-13T20:05:27.844891Z"
    }
   },
   "source": [
    "# 7.0 Machine Learning Modeling "
   ]
  },
  {
   "cell_type": "code",
   "execution_count": 150,
   "metadata": {
    "ExecuteTime": {
     "end_time": "2020-11-13T20:17:31.165114Z",
     "start_time": "2020-11-13T20:17:31.152288Z"
    }
   },
   "outputs": [],
   "source": [
    "x_train = X_train[cols_selected_boruta]\n",
    "x_test = X_test[cols_selected_boruta]"
   ]
  },
  {
   "cell_type": "markdown",
   "metadata": {},
   "source": [
    "## 7.1 Random Forest Regressor "
   ]
  },
  {
   "cell_type": "code",
   "execution_count": null,
   "metadata": {
    "ExecuteTime": {
     "start_time": "2020-11-13T20:26:08.669Z"
    }
   },
   "outputs": [],
   "source": [
    "# model\n",
    "rf = RandomForestRegressor(n_estimators=100,n_jobs=1,random_state=42).fit(x_train,y_train)\n",
    "\n",
    "# prediction\n",
    "yhat_rf = rf.predict( x_test )\n",
    "\n",
    "# performance\n",
    "rf_result = ml_error( 'Random Forest Regressor', y_test , yhat_rf )\n"
   ]
  },
  {
   "cell_type": "raw",
   "metadata": {
    "ExecuteTime": {
     "end_time": "2020-11-13T20:20:51.816903Z",
     "start_time": "2020-11-13T20:20:51.804420Z"
    }
   },
   "source": [
    "rf"
   ]
  },
  {
   "cell_type": "markdown",
   "metadata": {},
   "source": [
    "### 7.1.1. Random Forest Regressor - Cross Validation"
   ]
  },
  {
   "cell_type": "code",
   "execution_count": null,
   "metadata": {
    "ExecuteTime": {
     "start_time": "2020-11-13T20:26:08.762Z"
    }
   },
   "outputs": [],
   "source": [
    "#rf_result_cv = cross_validation( x_training, 5, 'Random Forest Regressor', rf, verbose=True )\n",
    "#rf_result_cv"
   ]
  },
  {
   "cell_type": "markdown",
   "metadata": {},
   "source": [
    "## 7.2 XGboost Regressor"
   ]
  },
  {
   "cell_type": "code",
   "execution_count": null,
   "metadata": {
    "ExecuteTime": {
     "start_time": "2020-11-13T20:26:08.771Z"
    }
   },
   "outputs": [],
   "source": [
    "# model\n",
    "model_xgb = xgb.XGBRegressor( objective='reg:squarederror',\n",
    "                              n_estimators=100, \n",
    "                              eta=0.01, \n",
    "                              max_depth=10, \n",
    "                              subsample=0.7,\n",
    "                              colsample_bytee=0.9 ).fit( x_train, y_train )\n",
    "\n",
    "# prediction\n",
    "yhat_xgb = model_xgb.predict( x_test )\n",
    "\n",
    "# performance\n",
    "xgb_result = ml_error( 'XGBoost Regressor', np.expm1( y_test ), np.expm1( yhat_xgb ) )\n",
    "xgb_result"
   ]
  },
  {
   "cell_type": "markdown",
   "metadata": {},
   "source": [
    "### 7.5.1. XGBoost Regressor - Cross Validation"
   ]
  },
  {
   "cell_type": "code",
   "execution_count": null,
   "metadata": {
    "ExecuteTime": {
     "start_time": "2020-11-13T20:26:08.779Z"
    }
   },
   "outputs": [],
   "source": [
    "#xgb_result_cv = cross_validation( x_training, 5, 'XGBoost Regressor', model_xgb, verbose=True )\n",
    "#xgb_result_cv"
   ]
  }
 ],
 "metadata": {
  "kernelspec": {
   "display_name": "Python 3",
   "language": "python",
   "name": "python3"
  },
  "language_info": {
   "codemirror_mode": {
    "name": "ipython",
    "version": 3
   },
   "file_extension": ".py",
   "mimetype": "text/x-python",
   "name": "python",
   "nbconvert_exporter": "python",
   "pygments_lexer": "ipython3",
   "version": "3.8.5"
  },
  "toc": {
   "base_numbering": 1,
   "nav_menu": {},
   "number_sections": true,
   "sideBar": true,
   "skip_h1_title": false,
   "title_cell": "Table of Contents",
   "title_sidebar": "Contents",
   "toc_cell": false,
   "toc_position": {},
   "toc_section_display": true,
   "toc_window_display": false
  },
  "varInspector": {
   "cols": {
    "lenName": 16,
    "lenType": 16,
    "lenVar": 40
   },
   "kernels_config": {
    "python": {
     "delete_cmd_postfix": "",
     "delete_cmd_prefix": "del ",
     "library": "var_list.py",
     "varRefreshCmd": "print(var_dic_list())"
    },
    "r": {
     "delete_cmd_postfix": ") ",
     "delete_cmd_prefix": "rm(",
     "library": "var_list.r",
     "varRefreshCmd": "cat(var_dic_list()) "
    }
   },
   "types_to_exclude": [
    "module",
    "function",
    "builtin_function_or_method",
    "instance",
    "_Feature"
   ],
   "window_display": false
  }
 },
 "nbformat": 4,
 "nbformat_minor": 4
}
